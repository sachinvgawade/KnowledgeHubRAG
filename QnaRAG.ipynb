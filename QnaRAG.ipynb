{
  "nbformat": 4,
  "nbformat_minor": 0,
  "metadata": {
    "colab": {
      "provenance": []
    },
    "kernelspec": {
      "name": "python3",
      "display_name": "Python 3"
    },
    "language_info": {
      "name": "python"
    },
    "widgets": {
      "application/vnd.jupyter.widget-state+json": {
        "940314af2565498483bfdffcd8ef6543": {
          "model_module": "@jupyter-widgets/controls",
          "model_name": "HBoxModel",
          "model_module_version": "1.5.0",
          "state": {
            "_dom_classes": [],
            "_model_module": "@jupyter-widgets/controls",
            "_model_module_version": "1.5.0",
            "_model_name": "HBoxModel",
            "_view_count": null,
            "_view_module": "@jupyter-widgets/controls",
            "_view_module_version": "1.5.0",
            "_view_name": "HBoxView",
            "box_style": "",
            "children": [
              "IPY_MODEL_2fba4be2e9074cf3982bfd66ab4fb41b",
              "IPY_MODEL_42f2cdb3ad5b4da7b77bce4f1ce41757",
              "IPY_MODEL_08cf253834874c9c8c3932adaff8d09d"
            ],
            "layout": "IPY_MODEL_10d9cf88529c4839b0c5e526d4a03856"
          }
        },
        "2fba4be2e9074cf3982bfd66ab4fb41b": {
          "model_module": "@jupyter-widgets/controls",
          "model_name": "HTMLModel",
          "model_module_version": "1.5.0",
          "state": {
            "_dom_classes": [],
            "_model_module": "@jupyter-widgets/controls",
            "_model_module_version": "1.5.0",
            "_model_name": "HTMLModel",
            "_view_count": null,
            "_view_module": "@jupyter-widgets/controls",
            "_view_module_version": "1.5.0",
            "_view_name": "HTMLView",
            "description": "",
            "description_tooltip": null,
            "layout": "IPY_MODEL_de604df734ab4f2ba378094df4f9c7a5",
            "placeholder": "​",
            "style": "IPY_MODEL_5e7ec2d9333e439f8899812417998073",
            "value": "Batches: 100%"
          }
        },
        "42f2cdb3ad5b4da7b77bce4f1ce41757": {
          "model_module": "@jupyter-widgets/controls",
          "model_name": "FloatProgressModel",
          "model_module_version": "1.5.0",
          "state": {
            "_dom_classes": [],
            "_model_module": "@jupyter-widgets/controls",
            "_model_module_version": "1.5.0",
            "_model_name": "FloatProgressModel",
            "_view_count": null,
            "_view_module": "@jupyter-widgets/controls",
            "_view_module_version": "1.5.0",
            "_view_name": "ProgressView",
            "bar_style": "success",
            "description": "",
            "description_tooltip": null,
            "layout": "IPY_MODEL_a46e7bd68ee144d8b47b539c30299a85",
            "max": 4,
            "min": 0,
            "orientation": "horizontal",
            "style": "IPY_MODEL_ad754f2000774b7494c4e7298d180699",
            "value": 4
          }
        },
        "08cf253834874c9c8c3932adaff8d09d": {
          "model_module": "@jupyter-widgets/controls",
          "model_name": "HTMLModel",
          "model_module_version": "1.5.0",
          "state": {
            "_dom_classes": [],
            "_model_module": "@jupyter-widgets/controls",
            "_model_module_version": "1.5.0",
            "_model_name": "HTMLModel",
            "_view_count": null,
            "_view_module": "@jupyter-widgets/controls",
            "_view_module_version": "1.5.0",
            "_view_name": "HTMLView",
            "description": "",
            "description_tooltip": null,
            "layout": "IPY_MODEL_ba9e9175a54745519f1c01682ba02f91",
            "placeholder": "​",
            "style": "IPY_MODEL_a7b0f71340b04361a0044023e6034e9a",
            "value": " 4/4 [03:16&lt;00:00, 40.07s/it]"
          }
        },
        "10d9cf88529c4839b0c5e526d4a03856": {
          "model_module": "@jupyter-widgets/base",
          "model_name": "LayoutModel",
          "model_module_version": "1.2.0",
          "state": {
            "_model_module": "@jupyter-widgets/base",
            "_model_module_version": "1.2.0",
            "_model_name": "LayoutModel",
            "_view_count": null,
            "_view_module": "@jupyter-widgets/base",
            "_view_module_version": "1.2.0",
            "_view_name": "LayoutView",
            "align_content": null,
            "align_items": null,
            "align_self": null,
            "border": null,
            "bottom": null,
            "display": null,
            "flex": null,
            "flex_flow": null,
            "grid_area": null,
            "grid_auto_columns": null,
            "grid_auto_flow": null,
            "grid_auto_rows": null,
            "grid_column": null,
            "grid_gap": null,
            "grid_row": null,
            "grid_template_areas": null,
            "grid_template_columns": null,
            "grid_template_rows": null,
            "height": null,
            "justify_content": null,
            "justify_items": null,
            "left": null,
            "margin": null,
            "max_height": null,
            "max_width": null,
            "min_height": null,
            "min_width": null,
            "object_fit": null,
            "object_position": null,
            "order": null,
            "overflow": null,
            "overflow_x": null,
            "overflow_y": null,
            "padding": null,
            "right": null,
            "top": null,
            "visibility": null,
            "width": null
          }
        },
        "de604df734ab4f2ba378094df4f9c7a5": {
          "model_module": "@jupyter-widgets/base",
          "model_name": "LayoutModel",
          "model_module_version": "1.2.0",
          "state": {
            "_model_module": "@jupyter-widgets/base",
            "_model_module_version": "1.2.0",
            "_model_name": "LayoutModel",
            "_view_count": null,
            "_view_module": "@jupyter-widgets/base",
            "_view_module_version": "1.2.0",
            "_view_name": "LayoutView",
            "align_content": null,
            "align_items": null,
            "align_self": null,
            "border": null,
            "bottom": null,
            "display": null,
            "flex": null,
            "flex_flow": null,
            "grid_area": null,
            "grid_auto_columns": null,
            "grid_auto_flow": null,
            "grid_auto_rows": null,
            "grid_column": null,
            "grid_gap": null,
            "grid_row": null,
            "grid_template_areas": null,
            "grid_template_columns": null,
            "grid_template_rows": null,
            "height": null,
            "justify_content": null,
            "justify_items": null,
            "left": null,
            "margin": null,
            "max_height": null,
            "max_width": null,
            "min_height": null,
            "min_width": null,
            "object_fit": null,
            "object_position": null,
            "order": null,
            "overflow": null,
            "overflow_x": null,
            "overflow_y": null,
            "padding": null,
            "right": null,
            "top": null,
            "visibility": null,
            "width": null
          }
        },
        "5e7ec2d9333e439f8899812417998073": {
          "model_module": "@jupyter-widgets/controls",
          "model_name": "DescriptionStyleModel",
          "model_module_version": "1.5.0",
          "state": {
            "_model_module": "@jupyter-widgets/controls",
            "_model_module_version": "1.5.0",
            "_model_name": "DescriptionStyleModel",
            "_view_count": null,
            "_view_module": "@jupyter-widgets/base",
            "_view_module_version": "1.2.0",
            "_view_name": "StyleView",
            "description_width": ""
          }
        },
        "a46e7bd68ee144d8b47b539c30299a85": {
          "model_module": "@jupyter-widgets/base",
          "model_name": "LayoutModel",
          "model_module_version": "1.2.0",
          "state": {
            "_model_module": "@jupyter-widgets/base",
            "_model_module_version": "1.2.0",
            "_model_name": "LayoutModel",
            "_view_count": null,
            "_view_module": "@jupyter-widgets/base",
            "_view_module_version": "1.2.0",
            "_view_name": "LayoutView",
            "align_content": null,
            "align_items": null,
            "align_self": null,
            "border": null,
            "bottom": null,
            "display": null,
            "flex": null,
            "flex_flow": null,
            "grid_area": null,
            "grid_auto_columns": null,
            "grid_auto_flow": null,
            "grid_auto_rows": null,
            "grid_column": null,
            "grid_gap": null,
            "grid_row": null,
            "grid_template_areas": null,
            "grid_template_columns": null,
            "grid_template_rows": null,
            "height": null,
            "justify_content": null,
            "justify_items": null,
            "left": null,
            "margin": null,
            "max_height": null,
            "max_width": null,
            "min_height": null,
            "min_width": null,
            "object_fit": null,
            "object_position": null,
            "order": null,
            "overflow": null,
            "overflow_x": null,
            "overflow_y": null,
            "padding": null,
            "right": null,
            "top": null,
            "visibility": null,
            "width": null
          }
        },
        "ad754f2000774b7494c4e7298d180699": {
          "model_module": "@jupyter-widgets/controls",
          "model_name": "ProgressStyleModel",
          "model_module_version": "1.5.0",
          "state": {
            "_model_module": "@jupyter-widgets/controls",
            "_model_module_version": "1.5.0",
            "_model_name": "ProgressStyleModel",
            "_view_count": null,
            "_view_module": "@jupyter-widgets/base",
            "_view_module_version": "1.2.0",
            "_view_name": "StyleView",
            "bar_color": null,
            "description_width": ""
          }
        },
        "ba9e9175a54745519f1c01682ba02f91": {
          "model_module": "@jupyter-widgets/base",
          "model_name": "LayoutModel",
          "model_module_version": "1.2.0",
          "state": {
            "_model_module": "@jupyter-widgets/base",
            "_model_module_version": "1.2.0",
            "_model_name": "LayoutModel",
            "_view_count": null,
            "_view_module": "@jupyter-widgets/base",
            "_view_module_version": "1.2.0",
            "_view_name": "LayoutView",
            "align_content": null,
            "align_items": null,
            "align_self": null,
            "border": null,
            "bottom": null,
            "display": null,
            "flex": null,
            "flex_flow": null,
            "grid_area": null,
            "grid_auto_columns": null,
            "grid_auto_flow": null,
            "grid_auto_rows": null,
            "grid_column": null,
            "grid_gap": null,
            "grid_row": null,
            "grid_template_areas": null,
            "grid_template_columns": null,
            "grid_template_rows": null,
            "height": null,
            "justify_content": null,
            "justify_items": null,
            "left": null,
            "margin": null,
            "max_height": null,
            "max_width": null,
            "min_height": null,
            "min_width": null,
            "object_fit": null,
            "object_position": null,
            "order": null,
            "overflow": null,
            "overflow_x": null,
            "overflow_y": null,
            "padding": null,
            "right": null,
            "top": null,
            "visibility": null,
            "width": null
          }
        },
        "a7b0f71340b04361a0044023e6034e9a": {
          "model_module": "@jupyter-widgets/controls",
          "model_name": "DescriptionStyleModel",
          "model_module_version": "1.5.0",
          "state": {
            "_model_module": "@jupyter-widgets/controls",
            "_model_module_version": "1.5.0",
            "_model_name": "DescriptionStyleModel",
            "_view_count": null,
            "_view_module": "@jupyter-widgets/base",
            "_view_module_version": "1.2.0",
            "_view_name": "StyleView",
            "description_width": ""
          }
        },
        "81345c40fc9f4f00a82b0d08c6a8d1d1": {
          "model_module": "@jupyter-widgets/controls",
          "model_name": "HBoxModel",
          "model_module_version": "1.5.0",
          "state": {
            "_dom_classes": [],
            "_model_module": "@jupyter-widgets/controls",
            "_model_module_version": "1.5.0",
            "_model_name": "HBoxModel",
            "_view_count": null,
            "_view_module": "@jupyter-widgets/controls",
            "_view_module_version": "1.5.0",
            "_view_name": "HBoxView",
            "box_style": "",
            "children": [
              "IPY_MODEL_99a4e171fd1c480ab03f9e0ee545ef5c",
              "IPY_MODEL_12b31a6115964268bc96f42d6cb4826d",
              "IPY_MODEL_5bcc1efbe56f403fa98b830645b83d78"
            ],
            "layout": "IPY_MODEL_5e9cf6ac0ed5457ba79134775cfc7b8a"
          }
        },
        "99a4e171fd1c480ab03f9e0ee545ef5c": {
          "model_module": "@jupyter-widgets/controls",
          "model_name": "HTMLModel",
          "model_module_version": "1.5.0",
          "state": {
            "_dom_classes": [],
            "_model_module": "@jupyter-widgets/controls",
            "_model_module_version": "1.5.0",
            "_model_name": "HTMLModel",
            "_view_count": null,
            "_view_module": "@jupyter-widgets/controls",
            "_view_module_version": "1.5.0",
            "_view_name": "HTMLView",
            "description": "",
            "description_tooltip": null,
            "layout": "IPY_MODEL_1a90bac4ade94b7b9f06a5be77359039",
            "placeholder": "​",
            "style": "IPY_MODEL_0726c06aef6542a9b9580559ca14e8c1",
            "value": "Batches: 100%"
          }
        },
        "12b31a6115964268bc96f42d6cb4826d": {
          "model_module": "@jupyter-widgets/controls",
          "model_name": "FloatProgressModel",
          "model_module_version": "1.5.0",
          "state": {
            "_dom_classes": [],
            "_model_module": "@jupyter-widgets/controls",
            "_model_module_version": "1.5.0",
            "_model_name": "FloatProgressModel",
            "_view_count": null,
            "_view_module": "@jupyter-widgets/controls",
            "_view_module_version": "1.5.0",
            "_view_name": "ProgressView",
            "bar_style": "success",
            "description": "",
            "description_tooltip": null,
            "layout": "IPY_MODEL_60fd339012ab49dca6b8df6f115f569d",
            "max": 1,
            "min": 0,
            "orientation": "horizontal",
            "style": "IPY_MODEL_4aeede6546dd400aba8dd15427e5baad",
            "value": 1
          }
        },
        "5bcc1efbe56f403fa98b830645b83d78": {
          "model_module": "@jupyter-widgets/controls",
          "model_name": "HTMLModel",
          "model_module_version": "1.5.0",
          "state": {
            "_dom_classes": [],
            "_model_module": "@jupyter-widgets/controls",
            "_model_module_version": "1.5.0",
            "_model_name": "HTMLModel",
            "_view_count": null,
            "_view_module": "@jupyter-widgets/controls",
            "_view_module_version": "1.5.0",
            "_view_name": "HTMLView",
            "description": "",
            "description_tooltip": null,
            "layout": "IPY_MODEL_2523625b43af40cb965d2c70355e37e7",
            "placeholder": "​",
            "style": "IPY_MODEL_a3805d78cd3c409eaa69b65c67321b60",
            "value": " 1/1 [00:00&lt;00:00,  7.91it/s]"
          }
        },
        "5e9cf6ac0ed5457ba79134775cfc7b8a": {
          "model_module": "@jupyter-widgets/base",
          "model_name": "LayoutModel",
          "model_module_version": "1.2.0",
          "state": {
            "_model_module": "@jupyter-widgets/base",
            "_model_module_version": "1.2.0",
            "_model_name": "LayoutModel",
            "_view_count": null,
            "_view_module": "@jupyter-widgets/base",
            "_view_module_version": "1.2.0",
            "_view_name": "LayoutView",
            "align_content": null,
            "align_items": null,
            "align_self": null,
            "border": null,
            "bottom": null,
            "display": null,
            "flex": null,
            "flex_flow": null,
            "grid_area": null,
            "grid_auto_columns": null,
            "grid_auto_flow": null,
            "grid_auto_rows": null,
            "grid_column": null,
            "grid_gap": null,
            "grid_row": null,
            "grid_template_areas": null,
            "grid_template_columns": null,
            "grid_template_rows": null,
            "height": null,
            "justify_content": null,
            "justify_items": null,
            "left": null,
            "margin": null,
            "max_height": null,
            "max_width": null,
            "min_height": null,
            "min_width": null,
            "object_fit": null,
            "object_position": null,
            "order": null,
            "overflow": null,
            "overflow_x": null,
            "overflow_y": null,
            "padding": null,
            "right": null,
            "top": null,
            "visibility": null,
            "width": null
          }
        },
        "1a90bac4ade94b7b9f06a5be77359039": {
          "model_module": "@jupyter-widgets/base",
          "model_name": "LayoutModel",
          "model_module_version": "1.2.0",
          "state": {
            "_model_module": "@jupyter-widgets/base",
            "_model_module_version": "1.2.0",
            "_model_name": "LayoutModel",
            "_view_count": null,
            "_view_module": "@jupyter-widgets/base",
            "_view_module_version": "1.2.0",
            "_view_name": "LayoutView",
            "align_content": null,
            "align_items": null,
            "align_self": null,
            "border": null,
            "bottom": null,
            "display": null,
            "flex": null,
            "flex_flow": null,
            "grid_area": null,
            "grid_auto_columns": null,
            "grid_auto_flow": null,
            "grid_auto_rows": null,
            "grid_column": null,
            "grid_gap": null,
            "grid_row": null,
            "grid_template_areas": null,
            "grid_template_columns": null,
            "grid_template_rows": null,
            "height": null,
            "justify_content": null,
            "justify_items": null,
            "left": null,
            "margin": null,
            "max_height": null,
            "max_width": null,
            "min_height": null,
            "min_width": null,
            "object_fit": null,
            "object_position": null,
            "order": null,
            "overflow": null,
            "overflow_x": null,
            "overflow_y": null,
            "padding": null,
            "right": null,
            "top": null,
            "visibility": null,
            "width": null
          }
        },
        "0726c06aef6542a9b9580559ca14e8c1": {
          "model_module": "@jupyter-widgets/controls",
          "model_name": "DescriptionStyleModel",
          "model_module_version": "1.5.0",
          "state": {
            "_model_module": "@jupyter-widgets/controls",
            "_model_module_version": "1.5.0",
            "_model_name": "DescriptionStyleModel",
            "_view_count": null,
            "_view_module": "@jupyter-widgets/base",
            "_view_module_version": "1.2.0",
            "_view_name": "StyleView",
            "description_width": ""
          }
        },
        "60fd339012ab49dca6b8df6f115f569d": {
          "model_module": "@jupyter-widgets/base",
          "model_name": "LayoutModel",
          "model_module_version": "1.2.0",
          "state": {
            "_model_module": "@jupyter-widgets/base",
            "_model_module_version": "1.2.0",
            "_model_name": "LayoutModel",
            "_view_count": null,
            "_view_module": "@jupyter-widgets/base",
            "_view_module_version": "1.2.0",
            "_view_name": "LayoutView",
            "align_content": null,
            "align_items": null,
            "align_self": null,
            "border": null,
            "bottom": null,
            "display": null,
            "flex": null,
            "flex_flow": null,
            "grid_area": null,
            "grid_auto_columns": null,
            "grid_auto_flow": null,
            "grid_auto_rows": null,
            "grid_column": null,
            "grid_gap": null,
            "grid_row": null,
            "grid_template_areas": null,
            "grid_template_columns": null,
            "grid_template_rows": null,
            "height": null,
            "justify_content": null,
            "justify_items": null,
            "left": null,
            "margin": null,
            "max_height": null,
            "max_width": null,
            "min_height": null,
            "min_width": null,
            "object_fit": null,
            "object_position": null,
            "order": null,
            "overflow": null,
            "overflow_x": null,
            "overflow_y": null,
            "padding": null,
            "right": null,
            "top": null,
            "visibility": null,
            "width": null
          }
        },
        "4aeede6546dd400aba8dd15427e5baad": {
          "model_module": "@jupyter-widgets/controls",
          "model_name": "ProgressStyleModel",
          "model_module_version": "1.5.0",
          "state": {
            "_model_module": "@jupyter-widgets/controls",
            "_model_module_version": "1.5.0",
            "_model_name": "ProgressStyleModel",
            "_view_count": null,
            "_view_module": "@jupyter-widgets/base",
            "_view_module_version": "1.2.0",
            "_view_name": "StyleView",
            "bar_color": null,
            "description_width": ""
          }
        },
        "2523625b43af40cb965d2c70355e37e7": {
          "model_module": "@jupyter-widgets/base",
          "model_name": "LayoutModel",
          "model_module_version": "1.2.0",
          "state": {
            "_model_module": "@jupyter-widgets/base",
            "_model_module_version": "1.2.0",
            "_model_name": "LayoutModel",
            "_view_count": null,
            "_view_module": "@jupyter-widgets/base",
            "_view_module_version": "1.2.0",
            "_view_name": "LayoutView",
            "align_content": null,
            "align_items": null,
            "align_self": null,
            "border": null,
            "bottom": null,
            "display": null,
            "flex": null,
            "flex_flow": null,
            "grid_area": null,
            "grid_auto_columns": null,
            "grid_auto_flow": null,
            "grid_auto_rows": null,
            "grid_column": null,
            "grid_gap": null,
            "grid_row": null,
            "grid_template_areas": null,
            "grid_template_columns": null,
            "grid_template_rows": null,
            "height": null,
            "justify_content": null,
            "justify_items": null,
            "left": null,
            "margin": null,
            "max_height": null,
            "max_width": null,
            "min_height": null,
            "min_width": null,
            "object_fit": null,
            "object_position": null,
            "order": null,
            "overflow": null,
            "overflow_x": null,
            "overflow_y": null,
            "padding": null,
            "right": null,
            "top": null,
            "visibility": null,
            "width": null
          }
        },
        "a3805d78cd3c409eaa69b65c67321b60": {
          "model_module": "@jupyter-widgets/controls",
          "model_name": "DescriptionStyleModel",
          "model_module_version": "1.5.0",
          "state": {
            "_model_module": "@jupyter-widgets/controls",
            "_model_module_version": "1.5.0",
            "_model_name": "DescriptionStyleModel",
            "_view_count": null,
            "_view_module": "@jupyter-widgets/base",
            "_view_module_version": "1.2.0",
            "_view_name": "StyleView",
            "description_width": ""
          }
        },
        "0615c5ed013a4b9597695a8175245010": {
          "model_module": "@jupyter-widgets/controls",
          "model_name": "HBoxModel",
          "model_module_version": "1.5.0",
          "state": {
            "_dom_classes": [],
            "_model_module": "@jupyter-widgets/controls",
            "_model_module_version": "1.5.0",
            "_model_name": "HBoxModel",
            "_view_count": null,
            "_view_module": "@jupyter-widgets/controls",
            "_view_module_version": "1.5.0",
            "_view_name": "HBoxView",
            "box_style": "",
            "children": [
              "IPY_MODEL_bf17f1be72be410eac9a4f35292835c8",
              "IPY_MODEL_1dd5493fa1b04b6ba6a3ed60860c60d9",
              "IPY_MODEL_7875c5f100b547fda9b0c00bd8da9bbe"
            ],
            "layout": "IPY_MODEL_a00a5a045175410fbd6d6fc5d10f5546"
          }
        },
        "bf17f1be72be410eac9a4f35292835c8": {
          "model_module": "@jupyter-widgets/controls",
          "model_name": "HTMLModel",
          "model_module_version": "1.5.0",
          "state": {
            "_dom_classes": [],
            "_model_module": "@jupyter-widgets/controls",
            "_model_module_version": "1.5.0",
            "_model_name": "HTMLModel",
            "_view_count": null,
            "_view_module": "@jupyter-widgets/controls",
            "_view_module_version": "1.5.0",
            "_view_name": "HTMLView",
            "description": "",
            "description_tooltip": null,
            "layout": "IPY_MODEL_61a63583532b46b5959c13ba64200e44",
            "placeholder": "​",
            "style": "IPY_MODEL_583a47d8a8df47f19802e87ce786f42c",
            "value": "Batches: 100%"
          }
        },
        "1dd5493fa1b04b6ba6a3ed60860c60d9": {
          "model_module": "@jupyter-widgets/controls",
          "model_name": "FloatProgressModel",
          "model_module_version": "1.5.0",
          "state": {
            "_dom_classes": [],
            "_model_module": "@jupyter-widgets/controls",
            "_model_module_version": "1.5.0",
            "_model_name": "FloatProgressModel",
            "_view_count": null,
            "_view_module": "@jupyter-widgets/controls",
            "_view_module_version": "1.5.0",
            "_view_name": "ProgressView",
            "bar_style": "success",
            "description": "",
            "description_tooltip": null,
            "layout": "IPY_MODEL_eaca36f8a72142d5b42716885ff5f61a",
            "max": 1,
            "min": 0,
            "orientation": "horizontal",
            "style": "IPY_MODEL_af2e9ce93de4459cbde686fffdeb129c",
            "value": 1
          }
        },
        "7875c5f100b547fda9b0c00bd8da9bbe": {
          "model_module": "@jupyter-widgets/controls",
          "model_name": "HTMLModel",
          "model_module_version": "1.5.0",
          "state": {
            "_dom_classes": [],
            "_model_module": "@jupyter-widgets/controls",
            "_model_module_version": "1.5.0",
            "_model_name": "HTMLModel",
            "_view_count": null,
            "_view_module": "@jupyter-widgets/controls",
            "_view_module_version": "1.5.0",
            "_view_name": "HTMLView",
            "description": "",
            "description_tooltip": null,
            "layout": "IPY_MODEL_6382aef268e841db9d196f231240a1ab",
            "placeholder": "​",
            "style": "IPY_MODEL_f26fb89e1e81405289919b07b6cadd79",
            "value": " 1/1 [00:00&lt;00:00,  6.63it/s]"
          }
        },
        "a00a5a045175410fbd6d6fc5d10f5546": {
          "model_module": "@jupyter-widgets/base",
          "model_name": "LayoutModel",
          "model_module_version": "1.2.0",
          "state": {
            "_model_module": "@jupyter-widgets/base",
            "_model_module_version": "1.2.0",
            "_model_name": "LayoutModel",
            "_view_count": null,
            "_view_module": "@jupyter-widgets/base",
            "_view_module_version": "1.2.0",
            "_view_name": "LayoutView",
            "align_content": null,
            "align_items": null,
            "align_self": null,
            "border": null,
            "bottom": null,
            "display": null,
            "flex": null,
            "flex_flow": null,
            "grid_area": null,
            "grid_auto_columns": null,
            "grid_auto_flow": null,
            "grid_auto_rows": null,
            "grid_column": null,
            "grid_gap": null,
            "grid_row": null,
            "grid_template_areas": null,
            "grid_template_columns": null,
            "grid_template_rows": null,
            "height": null,
            "justify_content": null,
            "justify_items": null,
            "left": null,
            "margin": null,
            "max_height": null,
            "max_width": null,
            "min_height": null,
            "min_width": null,
            "object_fit": null,
            "object_position": null,
            "order": null,
            "overflow": null,
            "overflow_x": null,
            "overflow_y": null,
            "padding": null,
            "right": null,
            "top": null,
            "visibility": null,
            "width": null
          }
        },
        "61a63583532b46b5959c13ba64200e44": {
          "model_module": "@jupyter-widgets/base",
          "model_name": "LayoutModel",
          "model_module_version": "1.2.0",
          "state": {
            "_model_module": "@jupyter-widgets/base",
            "_model_module_version": "1.2.0",
            "_model_name": "LayoutModel",
            "_view_count": null,
            "_view_module": "@jupyter-widgets/base",
            "_view_module_version": "1.2.0",
            "_view_name": "LayoutView",
            "align_content": null,
            "align_items": null,
            "align_self": null,
            "border": null,
            "bottom": null,
            "display": null,
            "flex": null,
            "flex_flow": null,
            "grid_area": null,
            "grid_auto_columns": null,
            "grid_auto_flow": null,
            "grid_auto_rows": null,
            "grid_column": null,
            "grid_gap": null,
            "grid_row": null,
            "grid_template_areas": null,
            "grid_template_columns": null,
            "grid_template_rows": null,
            "height": null,
            "justify_content": null,
            "justify_items": null,
            "left": null,
            "margin": null,
            "max_height": null,
            "max_width": null,
            "min_height": null,
            "min_width": null,
            "object_fit": null,
            "object_position": null,
            "order": null,
            "overflow": null,
            "overflow_x": null,
            "overflow_y": null,
            "padding": null,
            "right": null,
            "top": null,
            "visibility": null,
            "width": null
          }
        },
        "583a47d8a8df47f19802e87ce786f42c": {
          "model_module": "@jupyter-widgets/controls",
          "model_name": "DescriptionStyleModel",
          "model_module_version": "1.5.0",
          "state": {
            "_model_module": "@jupyter-widgets/controls",
            "_model_module_version": "1.5.0",
            "_model_name": "DescriptionStyleModel",
            "_view_count": null,
            "_view_module": "@jupyter-widgets/base",
            "_view_module_version": "1.2.0",
            "_view_name": "StyleView",
            "description_width": ""
          }
        },
        "eaca36f8a72142d5b42716885ff5f61a": {
          "model_module": "@jupyter-widgets/base",
          "model_name": "LayoutModel",
          "model_module_version": "1.2.0",
          "state": {
            "_model_module": "@jupyter-widgets/base",
            "_model_module_version": "1.2.0",
            "_model_name": "LayoutModel",
            "_view_count": null,
            "_view_module": "@jupyter-widgets/base",
            "_view_module_version": "1.2.0",
            "_view_name": "LayoutView",
            "align_content": null,
            "align_items": null,
            "align_self": null,
            "border": null,
            "bottom": null,
            "display": null,
            "flex": null,
            "flex_flow": null,
            "grid_area": null,
            "grid_auto_columns": null,
            "grid_auto_flow": null,
            "grid_auto_rows": null,
            "grid_column": null,
            "grid_gap": null,
            "grid_row": null,
            "grid_template_areas": null,
            "grid_template_columns": null,
            "grid_template_rows": null,
            "height": null,
            "justify_content": null,
            "justify_items": null,
            "left": null,
            "margin": null,
            "max_height": null,
            "max_width": null,
            "min_height": null,
            "min_width": null,
            "object_fit": null,
            "object_position": null,
            "order": null,
            "overflow": null,
            "overflow_x": null,
            "overflow_y": null,
            "padding": null,
            "right": null,
            "top": null,
            "visibility": null,
            "width": null
          }
        },
        "af2e9ce93de4459cbde686fffdeb129c": {
          "model_module": "@jupyter-widgets/controls",
          "model_name": "ProgressStyleModel",
          "model_module_version": "1.5.0",
          "state": {
            "_model_module": "@jupyter-widgets/controls",
            "_model_module_version": "1.5.0",
            "_model_name": "ProgressStyleModel",
            "_view_count": null,
            "_view_module": "@jupyter-widgets/base",
            "_view_module_version": "1.2.0",
            "_view_name": "StyleView",
            "bar_color": null,
            "description_width": ""
          }
        },
        "6382aef268e841db9d196f231240a1ab": {
          "model_module": "@jupyter-widgets/base",
          "model_name": "LayoutModel",
          "model_module_version": "1.2.0",
          "state": {
            "_model_module": "@jupyter-widgets/base",
            "_model_module_version": "1.2.0",
            "_model_name": "LayoutModel",
            "_view_count": null,
            "_view_module": "@jupyter-widgets/base",
            "_view_module_version": "1.2.0",
            "_view_name": "LayoutView",
            "align_content": null,
            "align_items": null,
            "align_self": null,
            "border": null,
            "bottom": null,
            "display": null,
            "flex": null,
            "flex_flow": null,
            "grid_area": null,
            "grid_auto_columns": null,
            "grid_auto_flow": null,
            "grid_auto_rows": null,
            "grid_column": null,
            "grid_gap": null,
            "grid_row": null,
            "grid_template_areas": null,
            "grid_template_columns": null,
            "grid_template_rows": null,
            "height": null,
            "justify_content": null,
            "justify_items": null,
            "left": null,
            "margin": null,
            "max_height": null,
            "max_width": null,
            "min_height": null,
            "min_width": null,
            "object_fit": null,
            "object_position": null,
            "order": null,
            "overflow": null,
            "overflow_x": null,
            "overflow_y": null,
            "padding": null,
            "right": null,
            "top": null,
            "visibility": null,
            "width": null
          }
        },
        "f26fb89e1e81405289919b07b6cadd79": {
          "model_module": "@jupyter-widgets/controls",
          "model_name": "DescriptionStyleModel",
          "model_module_version": "1.5.0",
          "state": {
            "_model_module": "@jupyter-widgets/controls",
            "_model_module_version": "1.5.0",
            "_model_name": "DescriptionStyleModel",
            "_view_count": null,
            "_view_module": "@jupyter-widgets/base",
            "_view_module_version": "1.2.0",
            "_view_name": "StyleView",
            "description_width": ""
          }
        }
      }
    }
  },
  "cells": [
    {
      "cell_type": "markdown",
      "source": [
        "This code creates RAG system to answer user question based on the pdf provided\n",
        "\n",
        "Dependencies:\n",
        "- farm-haystack: The Haystack framework for document retrieval and question-answering.\n",
        "- sentence-transformers: A library for generating sentence embeddings using transformer models.\n",
        "- faiss: A library for similarity search and clustering of dense vectors.\n",
        "\n",
        "The code consists of the following components:\n",
        "\n",
        "1. **Document Indexing:**\n",
        "   - Utilizes the `FAISSDocumentStore` to store and index PDF documents.\n",
        "   - Text extraction is performed using a `TextConverter`, followed by preprocessing steps such as cleaning whitespace, headers, and footers.\n",
        "   - The processed documents are then indexed using a specified FAISS index.\n",
        "\n",
        "2. **Document Retrieval:**\n",
        "   - Implements an `EmbeddingRetriever` that utilizes sentence embeddings generated by the \"multi-qa-mpnet-base-dot-v1\" model from Hugging Face.\n",
        "   - The retriever is used to find the most relevant documents for a given query.\n",
        "\n",
        "3. **Question-Answering:**\n",
        "   - Utilizes a pre-trained FARM (Fast and Robust Model) model for reading comprehension (e.g., \"deepset/roberta-base-squad2\").\n",
        "   - The retriever and reader components are combined in a pipeline to generate answers to user queries.\n",
        "\n",
        "4. **Querying and Answer Retrieval:**\n",
        "   - User queries are provided in the variable `query`.\n",
        "   - The query is preprocessed, and the retrieval and reading pipelines are executed to obtain relevant answers.\n",
        "   - The final answer to the query is extracted and printed.\n",
        "\n",
        "Note: Ensure the necessary dependencies are installed before running the code.\n"
      ],
      "metadata": {
        "id": "X_lP3m1T2M-h"
      }
    },
    {
      "cell_type": "markdown",
      "source": [
        "Install the required dependencies using the specified commands"
      ],
      "metadata": {
        "id": "-y8oUEh95CBy"
      }
    },
    {
      "cell_type": "code",
      "execution_count": 1,
      "metadata": {
        "id": "djCs3WlPKXVl"
      },
      "outputs": [],
      "source": [
        "# %%bash\n",
        "\n",
        "# pip install --upgrade pip\n",
        "# pip install farm-haystack[colab,inference]\n",
        "# !pip install farm-haystack[faiss]\n",
        "\n",
        "# !pip install pdfminer.six\n",
        "# pip install pymupdf pypdf2\n",
        "# import nltk\n",
        "# nltk.download('punkt')"
      ]
    },
    {
      "cell_type": "markdown",
      "source": [
        "Lets Import packages required for this experiment"
      ],
      "metadata": {
        "id": "4sUWe1se4fq8"
      }
    },
    {
      "cell_type": "code",
      "source": [
        "import os\n",
        "from haystack.nodes import EmbeddingRetriever\n",
        "from haystack.nodes import FARMReader\n",
        "from haystack import Pipeline\n",
        "from haystack.document_stores import FAISSDocumentStore\n",
        "from haystack import Pipeline\n",
        "from haystack.nodes import TextConverter, PreProcessor\n",
        "from haystack.pipelines import ExtractiveQAPipeline\n",
        "from haystack.schema import Document\n",
        "from haystack.utils import print_answers\n",
        "import requests\n",
        "\n",
        "import fitz  # PyMuPDF\n",
        "import PyPDF2"
      ],
      "metadata": {
        "id": "S2dtpH1Hbr2p"
      },
      "execution_count": 2,
      "outputs": []
    },
    {
      "cell_type": "markdown",
      "source": [
        "Lets download the required pdf file"
      ],
      "metadata": {
        "id": "sK-Hh65h8TiY"
      }
    },
    {
      "cell_type": "code",
      "source": [
        "doc_dir = \"data\"\n",
        "pdf_path = doc_dir + \"/pdf_file/downloaded_file.pdf\"\n",
        "url = \"https://assets.openstax.org/oscms-prodcms/media/documents/ConceptsofBiology-WEB.pdf?_gl=1*m935pz*_ga*NjEzODkzMDg5LjE3MDg5ODI2MzI.*_ga_T746F8B0QC*MTcwOTI0NDQ3My4yLjEuMTcwOTI0NDQ4Ni40Ny4wLjA.\""
      ],
      "metadata": {
        "id": "XqtdaINX7ow6"
      },
      "execution_count": 3,
      "outputs": []
    },
    {
      "cell_type": "code",
      "source": [
        "response = requests.get(url)\n",
        "with open(pdf_path, \"wb\") as pdf_file:\n",
        "    pdf_file.write(response.content)\n",
        "print(\"Downloaded the PDF file successfully.\")"
      ],
      "metadata": {
        "colab": {
          "base_uri": "https://localhost:8080/"
        },
        "id": "DE7SCjX_5_9F",
        "outputId": "93976b5f-01dc-4d4d-eb70-cc6c44934da8"
      },
      "execution_count": 4,
      "outputs": [
        {
          "output_type": "stream",
          "name": "stdout",
          "text": [
            "Downloaded the PDF file successfully.\n"
          ]
        }
      ]
    },
    {
      "cell_type": "markdown",
      "source": [
        "Extracting content from the pdf for the indexing  for now we will use chapter 9 and 10"
      ],
      "metadata": {
        "id": "NVd40uRB8r98"
      }
    },
    {
      "cell_type": "code",
      "source": [],
      "metadata": {
        "id": "xEVs6bMD86jw"
      },
      "execution_count": 4,
      "outputs": []
    },
    {
      "cell_type": "code",
      "source": [
        "\n",
        "# def extract_structured_text(pdf_path, start_page, end_page):\n",
        "#     try:\n",
        "#         structured_text = []\n",
        "\n",
        "#         # Using PyMuPDF (MuPDF) for layout analysis\n",
        "#         with fitz.open(pdf_path) as pdf_document:\n",
        "#             for page_number in range(start_page - 1, end_page):  # Adjusting for 0-based indexing\n",
        "#                 page = pdf_document[page_number]\n",
        "#                 blocks = page.get_text(\"blocks\")\n",
        "#                 paragraphs = [\" \".join([block[4] for block in blocks])]\n",
        "#                 structured_text.extend(paragraphs)\n",
        "\n",
        "#         return structured_text\n",
        "#     except Exception as e:\n",
        "#         print(f\"Error extracting structured text from PDF: {e}\")\n",
        "#         return None\n",
        "\n",
        "# start_page = 210\n",
        "# end_page = 258\n",
        "\n",
        "# structured_text_chapter1_2 = extract_structured_text(pdf_path, start_page, end_page)\n",
        "\n",
        "# if structured_text_chapter1_2:\n",
        "#     print(\"Structured text extracted from pdf successfully:\")\n",
        "#     for paragraph in structured_text_chapter1_2[:5]:  # Displaying the first 5 paragraphs as a sample\n",
        "#         print(paragraph)\n",
        "# else:\n",
        "#     print(\"Extraction of structured text from pdf failed.\")\n"
      ],
      "metadata": {
        "id": "8LUeYNBs8pLm"
      },
      "execution_count": 5,
      "outputs": []
    },
    {
      "cell_type": "code",
      "source": [
        "import fitz\n",
        "\n",
        "def extract_text_page_wise(pdf_path,start_page,end_page):\n",
        "    doc = fitz.open(pdf_path)\n",
        "    extracted_text = []\n",
        "\n",
        "    for page_number in range(start_page - 1, end_page):\n",
        "        page = doc[page_number]\n",
        "        text = page.get_text(\"text\")\n",
        "        extracted_text.append(text)\n",
        "\n",
        "    doc.close()\n",
        "\n",
        "    return extracted_text\n",
        "\n",
        "start_page = 210\n",
        "end_page = 258\n",
        "text_per_page = extract_text_page_wise(pdf_path,start_page,end_page)\n",
        "\n",
        "# Print text from each page\n",
        "for page_number, text in enumerate(text_per_page):\n",
        "    print(f\"Page {page_number + 1}:\\n{text}\\n\")\n",
        "    break"
      ],
      "metadata": {
        "colab": {
          "base_uri": "https://localhost:8080/"
        },
        "id": "a8W3p5es_r9j",
        "outputId": "64c17a0b-d626-433a-e314-e1e00ecf6fff"
      },
      "execution_count": 6,
      "outputs": [
        {
          "output_type": "stream",
          "name": "stdout",
          "text": [
            "Page 1:\n",
            "196\n",
            "8 • Critical Thinking Questions\n",
            "Access for free at openstax.org\n",
            "\n",
            "\n"
          ]
        }
      ]
    },
    {
      "cell_type": "markdown",
      "source": [
        "Saving these extracted into files which will be used for indexing"
      ],
      "metadata": {
        "id": "MWSZJ7eQHRar"
      }
    },
    {
      "cell_type": "code",
      "source": [
        "raw_files_dir = \"/content/data/raw_files\"\n",
        "for i, text in enumerate(text_per_page):\n",
        "    filename = f\"{raw_files_dir}/document_{i+1}.txt\"\n",
        "    with open(filename, \"w\") as f:\n",
        "      f.write(text)"
      ],
      "metadata": {
        "id": "suk9O-xG6Avd"
      },
      "execution_count": 7,
      "outputs": []
    },
    {
      "cell_type": "markdown",
      "source": [
        "Create a FAISS document store with a SQLite backend and a Flat index factory."
      ],
      "metadata": {
        "id": "BdZTcA8F5GUq"
      }
    },
    {
      "cell_type": "code",
      "source": [
        "document_store = FAISSDocumentStore(sql_url=\"sqlite:///\", faiss_index_factory_str=\"Flat\")"
      ],
      "metadata": {
        "id": "18hNhW6ob8Uh"
      },
      "execution_count": 8,
      "outputs": []
    },
    {
      "cell_type": "code",
      "source": [
        "# from haystack.utils import clean_wiki_text, convert_files_to_docs\n",
        "\n",
        "# # Convert files to dicts\n",
        "# docs = convert_files_to_docs(dir_path=doc_dir, clean_func=clean_wiki_text, split_paragraphs=True)\n",
        "\n",
        "# # Now, let's write the dicts containing documents to our DB.\n",
        "# document_store.write_documents(docs)\n"
      ],
      "metadata": {
        "id": "9_vlMFfzb9Nq"
      },
      "execution_count": 9,
      "outputs": []
    },
    {
      "cell_type": "markdown",
      "source": [
        "Build an indexing pipeline with text conversion and pre-processing components to prepare documents for indexing."
      ],
      "metadata": {
        "id": "C7lJeyd55Ji4"
      }
    },
    {
      "cell_type": "code",
      "source": [
        "\n",
        "indexing_pipeline = Pipeline()\n",
        "text_converter = TextConverter()\n",
        "preprocessor = PreProcessor(\n",
        "    clean_whitespace=True,\n",
        "    clean_header_footer=True,\n",
        "    clean_empty_lines=True,\n",
        "    split_by=\"word\",\n",
        "    split_length=200,\n",
        "    split_overlap=20,\n",
        "    split_respect_sentence_boundary=True,\n",
        ")\n",
        "\n",
        "\"\"\"Index a collection of PDF files located in a specified directory.\"\"\"\n",
        "\n",
        "indexing_pipeline.add_node(component=text_converter, name=\"TextConverter\", inputs=[\"File\"])\n",
        "indexing_pipeline.add_node(component=preprocessor, name=\"PreProcessor\", inputs=[\"TextConverter\"])\n",
        "indexing_pipeline.add_node(component=document_store, name=\"DocumentStore\", inputs=[\"PreProcessor\"])\n",
        "\n",
        "files_to_index = [raw_files_dir + \"/\" + f for f in os.listdir(raw_files_dir)]\n",
        "indexing_pipeline.run_batch(file_paths=files_to_index)\n",
        "\n"
      ],
      "metadata": {
        "colab": {
          "base_uri": "https://localhost:8080/"
        },
        "id": "2NWDlAYdrF1v",
        "outputId": "a39556c0-5a0e-46f6-b2b8-3831e682f080"
      },
      "execution_count": 10,
      "outputs": [
        {
          "output_type": "stream",
          "name": "stderr",
          "text": [
            "Converting files: 100%|██████████| 49/49 [00:00<00:00, 810.28it/s]\n",
            "Preprocessing:   0%|          | 0/49 [00:00<?, ?docs/s]WARNING:haystack.nodes.preprocessor.preprocessor:We found one or more sentences whose split count is higher than the split length.\n",
            "Preprocessing: 100%|██████████| 49/49 [00:00<00:00, 524.65docs/s]\n",
            "Writing Documents: 10000it [00:00, 31676.40it/s]\n"
          ]
        },
        {
          "output_type": "execute_result",
          "data": {
            "text/plain": [
              "{'documents': [<Document: {'content': 'transcription; mRNA is used to synthesize proteins by\\nthe process of translation. The genetic code is the\\ncorrespondence between the three-nucleotide mRNA\\ncodon and an amino acid. The genetic code is\\n“translated” by the tRNA molecules, which associate a\\nspecific codon with a specific amino acid. The genetic\\ncode is degenerate because 64 triplet codons in mRNA\\nspecify only 20 amino acids and three stop codons.\\nThis means that more than one codon corresponds to\\nan amino acid. Almost every species on the planet uses\\nthe same genetic code.\\nThe players in translation include the mRNA template,\\nribosomes, tRNAs, and various enzymatic factors. The\\nsmall ribosomal subunit binds to the mRNA template.\\nTranslation begins at the initiating AUG on the mRNA.\\nThe formation of bonds occurs between sequential\\namino acids specified by the mRNA template according\\nto the genetic code. The ribosome accepts charged\\ntRNAs, and as it steps along the mRNA, it catalyzes\\nbonding between the new amino acid and the end of\\nthe growing polypeptide. The entire mRNA is translated\\nin three-nucleotide “steps” of the ribosome. When a\\nstop codon is encountered, a release factor binds and\\ndissociates the components and frees the new protein.\\n', 'content_type': 'text', 'score': None, 'meta': {'_split_id': 0, '_split_overlap': [{'doc_id': '230a685940d72f810777c7ad05b3e5c5', 'range': (1034, 1223)}]}, 'id_hash_keys': ['content'], 'embedding': None, 'id': 'bbe9dddc9ec5886dc72f475ad80f649f'}>,\n",
              "  <Document: {'content': 'The entire mRNA is translated\\nin three-nucleotide “steps” of the ribosome. When a\\nstop codon is encountered, a release factor binds and\\ndissociates the components and frees the new protein.\\n9.5 How Genes Are Regulated\\nWhile all somatic cells within an organism contain the\\nsame DNA, not all cells within that organism express\\nthe same proteins. Prokaryotic organisms express the\\nentire DNA they encode in every cell, but not\\nnecessarily all at the same time. Proteins are\\nexpressed only when they are needed. Eukaryotic\\norganisms express a subset of the DNA that is encoded\\nin any given cell. In each cell type, the type and amount\\nof protein is regulated by controlling gene expression.\\nTo express a protein, the DNA is first transcribed into\\nRNA, which is then translated into proteins. In\\nprokaryotic cells, these processes occur almost\\nsimultaneously. In eukaryotic cells, transcription\\noccurs in the nucleus and is separate from the\\ntranslation that occurs in the cytoplasm. Gene\\nexpression in prokaryotes is regulated only at the\\ntranscriptional level, whereas in eukaryotic cells, gene\\nexpression is regulated at the epigenetic,\\ntranscriptional, post-transcriptional, translational, and\\npost-translational levels.\\nVisual Connection Questions\\n1. ', 'content_type': 'text', 'score': None, 'meta': {'_split_id': 1, '_split_overlap': [{'doc_id': 'bbe9dddc9ec5886dc72f475ad80f649f', 'range': (0, 189)}, {'doc_id': '7193726ff077a457c0954e7aad4c14d', 'range': (980, 1251)}]}, 'id_hash_keys': ['content'], 'embedding': None, 'id': '230a685940d72f810777c7ad05b3e5c5'}>,\n",
              "  <Document: {'content': 'Gene\\nexpression in prokaryotes is regulated only at the\\ntranscriptional level, whereas in eukaryotic cells, gene\\nexpression is regulated at the epigenetic,\\ntranscriptional, post-transcriptional, translational, and\\npost-translational levels.\\nVisual Connection Questions\\n1. Figure 9.10 You isolate a cell strain in which the\\njoining together of Okazaki fragments is impaired\\nand suspect that a mutation has occurred in an\\nenzyme found at the replication fork. Which enzyme\\nis most likely to be mutated?\\nReview Questions\\n2. Which of the following does cytosine pair with?\\na.\\nguanine\\nb.\\nthymine\\nc.\\nadenine\\nd.\\na pyrimidine\\n3. Prokaryotes contain a ________chromosome, and\\neukaryotes contain ________ chromosomes.\\na.\\nsingle-stranded circular; single-stranded linear\\nb.\\nsingle-stranded linear; single-stranded circular\\nc.\\ndouble-stranded circular; double-stranded\\nlinear\\nd.\\ndouble-stranded linear; double-stranded\\ncircular\\n4. DNA replicates by which of the following models?\\na.\\nconservative\\nb.\\nsemiconservative\\nc.\\ndispersive\\nd.\\nnone of the above\\n5. The initial mechanism for repairing nucleotide\\nerrors in DNA is ________.\\na.\\nmismatch repair\\nb.\\nDNA polymerase proofreading\\nc.\\nnucleotide excision repair\\nd.\\nthymine dimers\\n6. A promoter is ________.\\n', 'content_type': 'text', 'score': None, 'meta': {'_split_id': 2, '_split_overlap': [{'doc_id': '230a685940d72f810777c7ad05b3e5c5', 'range': (0, 271)}, {'doc_id': 'ade3d1de1c1fa6e18453e885782f0b48', 'range': (1042, 1240)}]}, 'id_hash_keys': ['content'], 'embedding': None, 'id': '7193726ff077a457c0954e7aad4c14d'}>,\n",
              "  <Document: {'content': 'The initial mechanism for repairing nucleotide\\nerrors in DNA is ________.\\na.\\nmismatch repair\\nb.\\nDNA polymerase proofreading\\nc.\\nnucleotide excision repair\\nd.\\nthymine dimers\\n6. A promoter is ________.\\na.\\na specific sequence of DNA nucleotides\\nb.\\na specific sequence of RNA nucleotides\\nc.\\na protein that binds to DNA\\nd.\\nan enzyme that synthesizes RNA\\n7. Portions of eukaryotic mRNA sequence that are\\nremoved during RNA processing are ________.\\na.\\nexons\\nb.\\ncaps\\nc.\\npoly-A tails\\nd.\\nintrons\\n9 • Visual Connection Questions\\n221', 'content_type': 'text', 'score': None, 'meta': {'_split_id': 3, '_split_overlap': [{'doc_id': '7193726ff077a457c0954e7aad4c14d', 'range': (0, 198)}]}, 'id_hash_keys': ['content'], 'embedding': None, 'id': 'ade3d1de1c1fa6e18453e885782f0b48'}>,\n",
              "  <Document: {'content': 'the genetic modification of crops). Biotechnology also has many industrial applications, such as\\nfermentation, the treatment of oil spills, and the production of biofuels, as well as many\\nhousehold applications such as the use of enzymes in laundry detergent.\\nManipulating Genetic Material\\nTo accomplish the applications described above, biotechnologists must be able to extract,\\nmanipulate, and analyze nucleic acids.\\nReview of Nucleic Acid Structure\\nTo understand the basic techniques used to work with nucleic acids, remember that nucleic acids\\nare macromolecules made of nucleotides (a sugar, a phosphate, and a nitrogenous base). The\\nphosphate groups on these molecules each have a net negative charge. An entire set of DNA\\nmolecules in the nucleus of eukaryotic organisms is called the genome. DNA has two\\ncomplementary strands linked by hydrogen bonds between the paired bases.\\nUnlike DNA in eukaryotic cells, RNA molecules leave the nucleus. Messenger RNA (mRNA) is\\nanalyzed most frequently because it represents the protein-coding genes that are being expressed\\nin the cell.\\nIsolation of Nucleic Acids\\nTo study or manipulate nucleic acids, the DNA must first be extracted from cells. Various\\ntechniques are used to extract different types of DNA (Figure 10.2). ', 'content_type': 'text', 'score': None, 'meta': {'_split_id': 0, '_split_overlap': [{'doc_id': '889659f34eb660d010ace7a48d66a4c3', 'range': (1084, 1269)}]}, 'id_hash_keys': ['content'], 'embedding': None, 'id': '4bdeeb468f947f3ed261e65359aa3ada'}>,\n",
              "  <Document: {'content': 'Isolation of Nucleic Acids\\nTo study or manipulate nucleic acids, the DNA must first be extracted from cells. Various\\ntechniques are used to extract different types of DNA (Figure 10.2). Most nucleic acid extraction\\ntechniques involve steps to break open the cell, and then the use of enzymatic reactions to\\ndestroy all undesired macromolecules. Cells are broken open using a detergent solution\\ncontaining buffering compounds. To prevent degradation and contamination, macromolecules\\nsuch as proteins and RNA are inactivated using enzymes. The DNA is then brought out of solution\\nusing alcohol. The resulting DNA, because it is made up of long polymers, forms a gelatinous\\nmass.\\nFIGURE 10.2 This diagram shows the basic method used for the extraction of DNA.\\nRNA is studied to understand gene expression patterns in cells. RNA is naturally very unstable\\nbecause enzymes that break down RNA are commonly present in nature. Some are even secreted\\nby our own skin and are very difficult to inactivate. Similar to DNA extraction, RNA extraction\\ninvolves the use of various buffers and enzymes to inactivate other macromolecules and preserve\\nonly the RNA.\\n224\\n10 • Biotechnology\\nAccess for free at openstax.org', 'content_type': 'text', 'score': None, 'meta': {'_split_id': 1, '_split_overlap': [{'doc_id': '4bdeeb468f947f3ed261e65359aa3ada', 'range': (0, 185)}]}, 'id_hash_keys': ['content'], 'embedding': None, 'id': '889659f34eb660d010ace7a48d66a4c3'}>,\n",
              "  <Document: {'content': \"Key Terms\\nalternative RNA splicing\\na post-transcriptional gene\\nregulation mechanism in eukaryotes in which\\nmultiple protein products are produced by a single\\ngene through alternative splicing combinations of\\nthe RNA transcript\\ncodon\\nthree consecutive nucleotides in mRNA that\\nspecify the addition of a specific amino acid or the\\nrelease of a polypeptide chain during translation\\ndeoxyribose\\na five-carbon sugar molecule with a\\nhydrogen atom rather than a hydroxyl group in the\\n2' position; the sugar component of DNA\\nnucleotides\\nDNA ligase\\nthe enzyme that catalyzes the joining of\\nDNA fragments together\\nDNA polymerase\\nan enzyme that synthesizes a new\\nstrand of DNA complementary to a template strand\\ndouble helix\\nthe molecular shape of DNA in which\\ntwo strands of nucleotides wind around each other\\nin a spiral shape\\nepigenetic\\ndescribing non-genetic regulatory factors,\\nsuch as changes in modifications to histone proteins\\nand DNA that control accessibility to genes in\\nchromosomes\\nexon\\na sequence present in protein-coding mRNA\\nafter completion of pre-mRNA splicing\\ngene expression\\nprocesses that control whether a\\ngene is expressed\\ngenetic code\\nthe amino acids that correspond to\\nthree-nucleotide codons of mRNA\\nhelicase\\nan enzyme that helps to open up the DNA\\nhelix during DNA replication by breaking the\\nhydrogen bonds\\nintron\\nnon–protein-coding intervening sequences\\nthat are spliced from mRNA during processing\\nlagging strand\\nduring replication of the 3' to 5'\\nstrand, the strand that is replicated in short\\nfragments and away from the replication fork\\nleading strand\\nthe strand that is synthesized\\ncontinuously in the 5' to 3' direction that is\\nsynthesized in the direction of the replication fork\\nmismatch repair\\na form of DNA repair in which non-\\ncomplementary nucleotides are recognized,\\nexcised, and replaced with correct nucleotides\\nmRNA\\nmessenger RNA; a form of RNA that carries\\nthe nucleotide sequence code for a protein\\nsequence that is translated into a polypeptide\\nsequence\\nmutation\\na permanent variation in the nucleotide\\nsequence of a genome\\nnitrogenous base\\na nitrogen-containing molecule\\nthat acts as a base; often referring to one of the\\npurine or pyrimidine components of nucleic acids\\nnontemplate strand\\nthe strand of DNA that is not\\nused to transcribe mRNA; this strand is identical to\\nthe mRNA except that T nucleotides in the DNA are\\nreplaced by U nucleotides in the mRNA\\nnucleotide excision repair\\na form of DNA repair in\\nwhich the DNA molecule is unwound and separated\\nin the region of the nucleotide damage, the\\ndamaged nucleotides are removed and replaced\\nwith new nucleotides using the complementary\\nstrand, and the DNA strand is resealed and allowed\\nto rejoin its complement\\nOkazaki fragments\\nthe DNA fragments that are\\nsynthesized in short stretches on the lagging strand\\nphosphate group\\na molecular group consisting of a\\ncentral phosphorus atom bound to four oxygen\\natoms\\npost-transcriptional\\ncontrol of gene expression after\\nthe RNA molecule has been created but before it is\\ntranslated into protein\\npost-translational\\ncontrol of gene expression after a\\nprotein has been created\\nprimer\\na short stretch of RNA nucleotides that is\\nrequired to initiate replication and allow DNA\\npolymerase to bind and begin replication\\npromoter\\na sequence on DNA to which RNA\\npolymerase and associated factors bind and initiate\\ntranscription\\nreplication fork\\nthe Y-shaped structure formed\\nduring the initiation of replication\\nRNA polymerase\\nan enzyme that synthesizes an RNA\\nstrand from a DNA template strand\\nrRNA\\nribosomal RNA; molecules of RNA that combine\\nto form part of the ribosome\\nsemiconservative replication\\nthe method used to\\nreplicate DNA in which the double-stranded\\nmolecule is separated and each strand acts as a\\ntemplate for a new strand to be synthesized, so the\\nresulting DNA molecules are composed of one new\\nstrand of nucleotides and one old strand of\\nnucleotides\\nsplicing\\nthe process of removing introns and\\nreconnecting exons in a pre-mRNA\\nstart codon\\nthe AUG (or, rarely GUG) on an mRNA\\nfrom which translation begins; always specifies\\nmethionine\\nstop codon\\none of the three mRNA codons that\\nspecifies termination of translation\\ntelomerase\\nan enzyme that contains a catalytic part\\nand an inbuilt RNA template; it functions to maintain\\ntelomeres at chromosome ends\\ntelomere\\nthe DNA at the end of linear chromosomes\\ntemplate strand\\nthe strand of DNA that specifies the\\n9 • Key Terms\\n219\", 'content_type': 'text', 'score': None, 'meta': {'_split_id': 0, '_split_overlap': []}, 'id_hash_keys': ['content'], 'embedding': None, 'id': 'b93fd7162cbba5b0611ffd7d9941f061'}>,\n",
              "  <Document: {'content': '1.\\nDNA unwinds at the origin of replication.\\n2.\\nNew bases are added to the complementary parental strands. One new strand is made continuously, while the\\nother strand is made in pieces.\\n3.\\nPrimers are removed, new DNA nucleotides are put in place of the primers and the backbone is sealed by DNA\\nligase.\\nVISUAL CONNECTION\\nFIGURE 9.10 A replication fork is formed by the opening of the origin of replication, and helicase separates the DNA strands. An RNA primer\\nis synthesized, and is elongated by the DNA polymerase. On the leading strand, DNA is synthesized continuously, whereas on the lagging\\nstrand, DNA is synthesized in short stretches. The DNA fragments are joined by DNA ligase (not shown).\\nYou isolate a cell strain in which the joining together of Okazaki fragments is impaired and suspect that a mutation\\nhas occurred in an enzyme found at the replication fork. Which enzyme is most likely to be mutated?\\nTelomere Replication\\nBecause eukaryotic chromosomes are linear, DNA replication comes to the end of a line in eukaryotic chromosomes.\\nAs you have learned, the DNA polymerase enzyme can add nucleotides in only one direction. ', 'content_type': 'text', 'score': None, 'meta': {'_split_id': 0, '_split_overlap': [{'doc_id': 'bd07460266c0f1a8ec9b4f31647636a8', 'range': (917, 1140)}]}, 'id_hash_keys': ['content'], 'embedding': None, 'id': '3ad23d302e9fbc28110ade7e460af8c1'}>,\n",
              "  <Document: {'content': 'Telomere Replication\\nBecause eukaryotic chromosomes are linear, DNA replication comes to the end of a line in eukaryotic chromosomes.\\nAs you have learned, the DNA polymerase enzyme can add nucleotides in only one direction. In the leading strand,\\nsynthesis continues until the end of the chromosome is reached; however, on the lagging strand there is no place for\\na primer to be made for the DNA fragment to be copied at the end of the chromosome. This presents a problem for\\nthe cell because the ends remain unpaired, and over time these ends get progressively shorter as cells continue to\\ndivide. The ends of the linear chromosomes are known as telomeres, which have repetitive sequences that do not\\ncode for a particular gene. As a consequence, it is telomeres that are shortened with each round of DNA replication\\ninstead of genes. For example, in humans, a six base-pair sequence, TTAGGG, is repeated 100 to 1000 times. The\\ndiscovery of the enzyme telomerase (Figure 9.11) helped in the understanding of how chromosome ends are\\nmaintained. The telomerase attaches to the end of the chromosome, and complementary bases to the RNA\\ntemplate are added on the end of the DNA strand. ', 'content_type': 'text', 'score': None, 'meta': {'_split_id': 1, '_split_overlap': [{'doc_id': '3ad23d302e9fbc28110ade7e460af8c1', 'range': (0, 223)}, {'doc_id': 'a6cf39e305c1195604881cdeb3a22fdc', 'range': (1045, 1182)}]}, 'id_hash_keys': ['content'], 'embedding': None, 'id': 'bd07460266c0f1a8ec9b4f31647636a8'}>,\n",
              "  <Document: {'content': 'The telomerase attaches to the end of the chromosome, and complementary bases to the RNA\\ntemplate are added on the end of the DNA strand. Once the lagging strand template is sufficiently elongated, DNA\\npolymerase can now add nucleotides that are complementary to the ends of the chromosomes. Thus, the ends of\\nthe chromosomes are replicated.\\n9.2 • DNA Replication\\n205', 'content_type': 'text', 'score': None, 'meta': {'_split_id': 2, '_split_overlap': [{'doc_id': 'bd07460266c0f1a8ec9b4f31647636a8', 'range': (0, 137)}]}, 'id_hash_keys': ['content'], 'embedding': None, 'id': 'a6cf39e305c1195604881cdeb3a22fdc'}>,\n",
              "  <Document: {'content': 'INTRODUCTION\\nCHAPTER 9\\nMolecular Biology\\n9.1 The Structure of DNA\\n9.2 DNA Replication\\n9.3 Transcription\\n9.4 Translation\\n9.5 How Genes Are Regulated\\nThe three letters “DNA” have now become associated with crime solving,\\npaternity testing, human identification, and genetic testing. DNA can be retrieved from hair, blood,\\nor saliva. With the exception of identical twins, each person’s DNA is unique and it is possible to\\ndetect differences between human beings on the basis of their unique DNA sequence.\\nDNA analysis has many practical applications beyond forensics and paternity testing. DNA testing\\nis used for tracing genealogy and identifying pathogens. In the medical field, DNA is used in\\ndiagnostics, new vaccine development, and cancer therapy. It is now possible to determine\\npredisposition to many diseases by analyzing genes.\\nDNA is the genetic material passed from parent to offspring for all life on Earth. The technology of\\nmolecular genetics developed in the last half century has enabled us to see deep into the history\\nof life to deduce the relationships between living things in ways never thought possible. It also\\nallows us to understand the workings of evolution in populations of organisms. ', 'content_type': 'text', 'score': None, 'meta': {'_split_id': 0, '_split_overlap': [{'doc_id': 'f2d9f85cbe9ec9a81c3ea69f289dee3b', 'range': (919, 1211)}]}, 'id_hash_keys': ['content'], 'embedding': None, 'id': 'e00caa23ffd77978d6910c792b291761'}>,\n",
              "  <Document: {'content': 'The technology of\\nmolecular genetics developed in the last half century has enabled us to see deep into the history\\nof life to deduce the relationships between living things in ways never thought possible. It also\\nallows us to understand the workings of evolution in populations of organisms. Over a thousand\\nspecies have had their entire genome sequenced, and there have been thousands of individual\\nhuman genome sequences completed. These sequences will allow us to understand human\\ndisease and the relationship of humans to the rest of the tree of life. Finally, molecular genetics\\nFIGURE 9.1 Dolly the sheep was the first cloned mammal.\\nCHAPTER OUTLINE', 'content_type': 'text', 'score': None, 'meta': {'_split_id': 1, '_split_overlap': [{'doc_id': 'e00caa23ffd77978d6910c792b291761', 'range': (0, 292)}]}, 'id_hash_keys': ['content'], 'embedding': None, 'id': 'f2d9f85cbe9ec9a81c3ea69f289dee3b'}>,\n",
              "  <Document: {'content': 'Gel Electrophoresis\\nBecause nucleic acids are negatively charged ions at neutral or alkaline pH in an aqueous environment, they can be\\nmoved by an electric field. Gel electrophoresis is a technique used to separate charged molecules on the basis of\\nsize and charge. The nucleic acids can be separated as whole chromosomes or as fragments. The nucleic acids are\\nloaded into a slot at one end of a gel matrix, an electric current is applied, and negatively charged molecules are\\npulled toward the opposite end of the gel (the end with the positive electrode). Smaller molecules move through the\\npores in the gel faster than larger molecules; this difference in the rate of migration separates the fragments on the\\nbasis of size. The nucleic acids in a gel matrix are invisible until they are stained with a compound that allows them\\nto be seen, such as a dye. Distinct fragments of nucleic acids appear as bands at specific distances from the top of\\nthe gel (the negative electrode end) that are based on their size (Figure 10.3). ', 'content_type': 'text', 'score': None, 'meta': {'_split_id': 0, '_split_overlap': [{'doc_id': 'c7236c579bf67cd9d9fb8d840b292ba2', 'range': (858, 1028)}]}, 'id_hash_keys': ['content'], 'embedding': None, 'id': 'd9e006563a22ffabcca6fba131da0c35'}>,\n",
              "  <Document: {'content': 'Distinct fragments of nucleic acids appear as bands at specific distances from the top of\\nthe gel (the negative electrode end) that are based on their size (Figure 10.3). A mixture of many fragments of\\nvarying sizes appear as a long smear, whereas uncut genomic DNA is usually too large to run through the gel and\\nforms a single large band at the top of the gel.\\nFIGURE 10.3 Shown are DNA fragments from six samples run on a gel, stained with a fluorescent dye and viewed under UV light. (credit:\\nmodification of work by James Jacob, Tompkins Cortland Community College)\\nPolymerase Chain Reaction\\nDNA analysis often requires focusing on one or more specific regions of the genome. It also frequently involves\\nsituations in which only one or a few copies of a DNA molecule are available for further analysis. These amounts are\\ninsufficient for most procedures, such as gel electrophoresis. Polymerase chain reaction (PCR) is a technique used\\nto rapidly increase the number of copies of specific regions of DNA for further analyses (Figure 10.4). ', 'content_type': 'text', 'score': None, 'meta': {'_split_id': 1, '_split_overlap': [{'doc_id': 'd9e006563a22ffabcca6fba131da0c35', 'range': (0, 170)}, {'doc_id': 'fb78110ad73afc9689f0e1033cf48204', 'range': (889, 1044)}]}, 'id_hash_keys': ['content'], 'embedding': None, 'id': 'c7236c579bf67cd9d9fb8d840b292ba2'}>,\n",
              "  <Document: {'content': 'Polymerase chain reaction (PCR) is a technique used\\nto rapidly increase the number of copies of specific regions of DNA for further analyses (Figure 10.4). PCR uses a\\nspecial form of DNA polymerase, the enzyme that replicates DNA, and other short nucleotide sequences called\\nprimers that base pair to a specific portion of the DNA being replicated. PCR is used for many purposes in\\nlaboratories. These include: 1) the identification of the owner of a DNA sample left at a crime scene; 2) paternity\\nanalysis; 3) the comparison of small amounts of ancient DNA with modern organisms; and 4) determining the\\nsequence of nucleotides in a specific region.\\n10.1 • Cloning and Genetic Engineering\\n225', 'content_type': 'text', 'score': None, 'meta': {'_split_id': 2, '_split_overlap': [{'doc_id': 'c7236c579bf67cd9d9fb8d840b292ba2', 'range': (0, 155)}]}, 'id_hash_keys': ['content'], 'embedding': None, 'id': 'fb78110ad73afc9689f0e1033cf48204'}>,\n",
              "  <Document: {'content': '196\\n8 • Critical Thinking Questions\\nAccess for free at openstax.org', 'content_type': 'text', 'score': None, 'meta': {'_split_id': 0, '_split_overlap': []}, 'id_hash_keys': ['content'], 'embedding': None, 'id': 'b28c85d2e7427d0979d2617c67278c38'}>,\n",
              "  <Document: {'content': 'Because foreign genes can spread to other species in the environment, particularly in the pollen and seeds of plants,\\nextensive testing is required to ensure ecological stability. Staples like corn, potatoes, and tomatoes were the first\\ncrop plants to be genetically engineered.\\nTransformation of Plants Using Agrobacterium tumefaciens\\nIn plants, tumors caused by the bacterium Agrobacterium tumefaciens occur by transfer of DNA from the bacterium\\nto the plant. The artificial introduction of DNA into plant cells is more challenging than in animal cells because of the\\nthick plant cell wall. Researchers used the natural transfer of DNA from Agrobacterium to a plant host to introduce\\nDNA fragments of their choice into plant hosts. In nature, the disease-causing A. tumefaciens have a set of plasmids\\nthat contain genes that integrate into the infected plant cell’s genome. Researchers manipulate the plasmids to\\ncarry the desired DNA fragment and insert it into the plant genome.\\nThe Organic Insecticide Bacillus thuringiensis\\nBacillus thuringiensis (Bt) is a bacterium that produces protein crystals that are toxic to many insect species that\\nfeed on plants. Insects that have eaten Bt toxin stop feeding on the plants within a few hours. ', 'content_type': 'text', 'score': None, 'meta': {'_split_id': 0, '_split_overlap': [{'doc_id': '2db253adc44a82ac00626b5e1fde489b', 'range': (983, 1242)}]}, 'id_hash_keys': ['content'], 'embedding': None, 'id': '6160a02ee0a92da3b5fc8b6eec4fd73a'}>,\n",
              "  <Document: {'content': 'The Organic Insecticide Bacillus thuringiensis\\nBacillus thuringiensis (Bt) is a bacterium that produces protein crystals that are toxic to many insect species that\\nfeed on plants. Insects that have eaten Bt toxin stop feeding on the plants within a few hours. After the toxin is\\nactivated in the intestines of the insects, death occurs within a couple of days. The crystal toxin genes have been\\ncloned from the bacterium and introduced into plants, therefore allowing plants to produce their own crystal Bt\\ntoxin that acts against insects. Bt toxin is safe for the environment and non-toxic to mammals (including humans).\\nAs a result, it has been approved for use by organic farmers as a natural insecticide. There is some concern,\\nhowever, that insects may evolve resistance to the Bt toxin in the same way that bacteria evolve resistance to\\nantibiotics.\\nFlavrSavr Tomato\\nThe first GM crop to be introduced into the market was the FlavrSavr Tomato produced in 1994. Molecular genetic\\ntechnology was used to slow down the process of softening and rotting caused by fungal infections, which led to\\nincreased shelf life of the GM tomatoes. Additional genetic modification improved the flavor of this tomato. ', 'content_type': 'text', 'score': None, 'meta': {'_split_id': 1, '_split_overlap': [{'doc_id': '6160a02ee0a92da3b5fc8b6eec4fd73a', 'range': (0, 259)}, {'doc_id': 'cc87ee82ef9cc196b077a529230c659', 'range': (967, 1205)}]}, 'id_hash_keys': ['content'], 'embedding': None, 'id': '2db253adc44a82ac00626b5e1fde489b'}>,\n",
              "  <Document: {'content': 'Molecular genetic\\ntechnology was used to slow down the process of softening and rotting caused by fungal infections, which led to\\nincreased shelf life of the GM tomatoes. Additional genetic modification improved the flavor of this tomato. The\\nFlavrSavr tomato did not successfully stay in the market because of problems maintaining and shipping the crop.\\n10.3 Genomics and Proteomics\\nLEARNING OBJECTIVES\\nBy the end of this section, you will be able to:\\n•\\nDefine genomics and proteomics\\n•\\nDefine whole genome sequencing\\n•\\nExplain different applications of genomics and proteomics\\nThe study of nucleic acids began with the discovery of DNA, progressed to the study of genes and small fragments,\\nand has now exploded to the field of genomics. Genomics is the study of entire genomes, including the complete set\\nof genes, their nucleotide sequence and organization, and their interactions within a species and with other species.\\nThe advances in genomics have been made possible by DNA sequencing technology. Just as information technology\\nhas led to Google Maps that enable us to get detailed information about locations around the globe, genomic\\ninformation is used to create similar maps of the DNA of different organisms.\\n', 'content_type': 'text', 'score': None, 'meta': {'_split_id': 2, '_split_overlap': [{'doc_id': '2db253adc44a82ac00626b5e1fde489b', 'range': (0, 238)}, {'doc_id': '2c0c24a5094381bdde3a44605935acf0', 'range': (1005, 1221)}]}, 'id_hash_keys': ['content'], 'embedding': None, 'id': 'cc87ee82ef9cc196b077a529230c659'}>,\n",
              "  <Document: {'content': 'Just as information technology\\nhas led to Google Maps that enable us to get detailed information about locations around the globe, genomic\\ninformation is used to create similar maps of the DNA of different organisms.\\nMapping Genomes\\nGenome mapping is the process of finding the location of genes on each chromosome. The maps that are created\\nare comparable to the maps that we use to navigate streets. A genetic map is an illustration that lists genes and\\ntheir location on a chromosome. Genetic maps provide the big picture (similar to a map of interstate highways) and\\nuse genetic markers (similar to landmarks). A genetic marker is a gene or sequence on a chromosome that shows\\ngenetic linkage with a trait of interest. The genetic marker tends to be inherited with the gene of interest, and one\\nmeasure of distance between them is the recombination frequency during meiosis. Early geneticists called this\\nlinkage analysis.\\nPhysical maps get into the intimate details of smaller regions of the chromosomes (similar to a detailed road map)\\n(Figure 10.11). A physical map is a representation of the physical distance, in nucleotides, between genes or genetic\\nmarkers. ', 'content_type': 'text', 'score': None, 'meta': {'_split_id': 3, '_split_overlap': [{'doc_id': 'cc87ee82ef9cc196b077a529230c659', 'range': (0, 216)}, {'doc_id': '65b114cf2f7e3998715229ffcfdd719f', 'range': (927, 1168)}]}, 'id_hash_keys': ['content'], 'embedding': None, 'id': '2c0c24a5094381bdde3a44605935acf0'}>,\n",
              "  <Document: {'content': 'Physical maps get into the intimate details of smaller regions of the chromosomes (similar to a detailed road map)\\n(Figure 10.11). A physical map is a representation of the physical distance, in nucleotides, between genes or genetic\\nmarkers. Both genetic linkage maps and physical maps are required to build a complete picture of the genome.\\nHaving a complete map of the genome makes it easier for researchers to study individual genes. Human genome\\n234\\n10 • Biotechnology\\nAccess for free at openstax.org', 'content_type': 'text', 'score': None, 'meta': {'_split_id': 4, '_split_overlap': [{'doc_id': '2c0c24a5094381bdde3a44605935acf0', 'range': (0, 241)}]}, 'id_hash_keys': ['content'], 'embedding': None, 'id': '65b114cf2f7e3998715229ffcfdd719f'}>,\n",
              "  <Document: {'content': 'FIGURE 10.9 It can be seen that two of these mice are transgenic because they have a gene that causes them to fluoresce under a UV light.\\nThe non-transgenic mouse does not have the gene that causes fluorescence. (credit: Ingrid Moen et al.)\\nSeveral human proteins are expressed in the milk of transgenic sheep and goats. In one commercial example, the\\nFDA has approved a blood anticoagulant protein that is produced in the milk of transgenic goats for use in humans.\\nMice have been used extensively for expressing and studying the effects of recombinant genes and mutations.\\nTransgenic Plants\\nManipulating the DNA of plants (creating genetically modified organisms, or GMOs) has helped to create desirable\\ntraits such as disease resistance, herbicide, and pest resistance, better nutritional value, and better shelf life (Figure\\n10.10). Plants are the most important source of food for the human population. Farmers developed ways to select\\nfor plant varieties with desirable traits long before modern-day biotechnology practices were established.\\nFIGURE 10.10 Corn, a major agricultural crop used to create products for a variety of industries, is often modified through plant\\nbiotechnology. (credit: Keith Weller, USDA)\\nTransgenic plants have received DNA from other species. ', 'content_type': 'text', 'score': None, 'meta': {'_split_id': 0, '_split_overlap': [{'doc_id': '90b8d863f1d78d72aaf535c5cc4f34a3', 'range': (1048, 1277)}]}, 'id_hash_keys': ['content'], 'embedding': None, 'id': '59ed44f1f741a2c3ec85cbeaff422e9b'}>,\n",
              "  <Document: {'content': 'FIGURE 10.10 Corn, a major agricultural crop used to create products for a variety of industries, is often modified through plant\\nbiotechnology. (credit: Keith Weller, USDA)\\nTransgenic plants have received DNA from other species. Because they contain unique combinations of genes and\\nare not restricted to the laboratory, transgenic plants and other GMOs are closely monitored by government\\nagencies to ensure that they are fit for human consumption and do not endanger other plant and animal life.\\n10.2 • Biotechnology in Medicine and Agriculture\\n233', 'content_type': 'text', 'score': None, 'meta': {'_split_id': 1, '_split_overlap': [{'doc_id': '59ed44f1f741a2c3ec85cbeaff422e9b', 'range': (0, 229)}]}, 'id_hash_keys': ['content'], 'embedding': None, 'id': '90b8d863f1d78d72aaf535c5cc4f34a3'}>,\n",
              "  <Document: {'content': 'ribosome shifts one codon at a time, catalyzing each process that occurs in the three sites. With each step, a\\ncharged tRNA enters the complex, the polypeptide becomes one amino acid longer, and an uncharged tRNA departs.\\nThe energy for each bond between amino acids is derived from GTP, a molecule similar to ATP (Figure 9.21).\\nAmazingly, the E. coli translation apparatus takes only 0.05 seconds to add each amino acid, meaning that a\\n200-amino acid polypeptide could be translated in just 10 seconds.\\nFIGURE 9.21 Translation begins when a tRNA anticodon recognizes a codon on the mRNA. The large ribosomal subunit joins the small\\nsubunit, and a second tRNA is recruited. As the mRNA moves relative to the ribosome, the polypeptide chain is formed. Entry of a release\\nfactor into the A site terminates translation and the components dissociate.\\nTermination of translation occurs when a stop codon (UAA, UAG, or UGA) is encountered. When the ribosome\\nencounters the stop codon, the growing polypeptide is released and the ribosome subunits dissociate and leave the\\nmRNA. After many ribosomes have completed translation, the mRNA is degraded so the nucleotides can be reused\\nin another transcription reaction.\\n', 'content_type': 'text', 'score': None, 'meta': {'_split_id': 0, '_split_overlap': [{'doc_id': 'a9623e1f42b416a449ca1451618fc9b', 'range': (1072, 1209)}]}, 'id_hash_keys': ['content'], 'embedding': None, 'id': '389a32a865195509a94a9db11f71a95f'}>,\n",
              "  <Document: {'content': 'After many ribosomes have completed translation, the mRNA is degraded so the nucleotides can be reused\\nin another transcription reaction.\\nLINK TO LEARNING\\nTranscribe a gene and translate it to protein using complementary pairing and the genetic code at this site\\n(http://openstax.org/l/create_protein2).\\n214\\n9 • Molecular Biology\\nAccess for free at openstax.org', 'content_type': 'text', 'score': None, 'meta': {'_split_id': 1, '_split_overlap': [{'doc_id': '389a32a865195509a94a9db11f71a95f', 'range': (0, 137)}]}, 'id_hash_keys': ['content'], 'embedding': None, 'id': 'a9623e1f42b416a449ca1451618fc9b'}>,\n",
              "  <Document: {'content': 'maps help researchers in their efforts to identify human disease-causing genes related to illnesses such as cancer,\\nheart disease, and cystic fibrosis, to name a few. In addition, genome mapping can be used to help identify\\norganisms with beneficial traits, such as microbes with the ability to clean up pollutants or even prevent pollution.\\nResearch involving plant genome mapping may lead to methods that produce higher crop yields or to the\\ndevelopment of plants that adapt better to climate change.\\nFIGURE 10.11 This is a physical map of the human X chromosome. (credit: modification of work by NCBI, NIH)\\nGenetic maps provide the outline, and physical maps provide the details. It is easy to understand why both types of\\ngenome-mapping techniques are important to show the big picture. Information obtained from each technique is\\nused in combination to study the genome. Genomic mapping is used with different model organisms that are used\\nfor research. Genome mapping is still an ongoing process, and as more advanced techniques are developed, more\\nadvances are expected. Genome mapping is similar to completing a complicated puzzle using every piece of\\navailable data. ', 'content_type': 'text', 'score': None, 'meta': {'_split_id': 0, '_split_overlap': [{'doc_id': '97b34142013cfc038fd9d72dfd75f726', 'range': (959, 1175)}]}, 'id_hash_keys': ['content'], 'embedding': None, 'id': '80384074c330cbeb6c41fb2e58b5e573'}>,\n",
              "  <Document: {'content': 'Genome mapping is still an ongoing process, and as more advanced techniques are developed, more\\nadvances are expected. Genome mapping is similar to completing a complicated puzzle using every piece of\\navailable data. Mapping information generated in laboratories all over the world is entered into central databases,\\nsuch as the National Center for Biotechnology Information (NCBI). Efforts are made to make the information more\\neasily accessible to researchers and the general public. Just as we use global positioning systems instead of paper\\nmaps to navigate through roadways, NCBI allows us to use a genome viewer tool to simplify the data mining\\nprocess.\\n10.3 • Genomics and Proteomics\\n235', 'content_type': 'text', 'score': None, 'meta': {'_split_id': 1, '_split_overlap': [{'doc_id': '80384074c330cbeb6c41fb2e58b5e573', 'range': (0, 216)}]}, 'id_hash_keys': ['content'], 'embedding': None, 'id': '97b34142013cfc038fd9d72dfd75f726'}>,\n",
              "  <Document: {'content': '9.5 How Genes Are Regulated\\nLEARNING OBJECTIVES\\nBy the end of this section, you will be able to:\\n•\\nDiscuss why every cell does not express all of its genes\\n•\\nDescribe how prokaryotic gene expression occurs at the transcriptional level\\n•\\nUnderstand that eukaryotic gene expression occurs at the epigenetic, transcriptional, post-\\ntranscriptional, translational, and post-translational levels\\nFor a cell to function properly, necessary proteins must be synthesized at the proper time. All organisms and cells\\ncontrol or regulate the transcription and translation of their DNA into protein. The process of turning on a gene to\\nproduce RNA and protein is called gene expression. Whether in a simple unicellular organism or in a complex\\nmulticellular organism, each cell controls when and how its genes are expressed. For this to occur, there must be a\\nmechanism to control when a gene is expressed to make RNA and protein, how much of the protein is made, and\\nwhen it is time to stop making that protein because it is no longer needed.\\nCells in multicellular organisms are specialized; cells in different tissues look very different and perform different\\nfunctions. ', 'content_type': 'text', 'score': None, 'meta': {'_split_id': 0, '_split_overlap': [{'doc_id': '69b7aa5c894689618eff4fdcadf03399', 'range': (813, 1161)}]}, 'id_hash_keys': ['content'], 'embedding': None, 'id': 'bc5e4953e5a4be2434f581f4b96217db'}>,\n",
              "  <Document: {'content': 'For this to occur, there must be a\\nmechanism to control when a gene is expressed to make RNA and protein, how much of the protein is made, and\\nwhen it is time to stop making that protein because it is no longer needed.\\nCells in multicellular organisms are specialized; cells in different tissues look very different and perform different\\nfunctions. For example, a muscle cell is very different from a liver cell, which is very different from a skin cell. These\\ndifferences are a consequence of the expression of different sets of genes in each of these cells. All cells have\\ncertain basic functions they must perform for themselves, such as converting the energy in sugar molecules into\\nenergy in ATP. Each cell also has many genes that are not expressed, and expresses many that are not expressed by\\nother cells, such that it can carry out its specialized functions. In addition, cells will turn on or off certain genes at\\ndifferent times in response to changes in the environment or at different times during the development of the\\norganism. ', 'content_type': 'text', 'score': None, 'meta': {'_split_id': 1, '_split_overlap': [{'doc_id': 'bc5e4953e5a4be2434f581f4b96217db', 'range': (0, 348)}, {'doc_id': '4e08b527f87885822d7f2eb9f8a0e643', 'range': (868, 1043)}]}, 'id_hash_keys': ['content'], 'embedding': None, 'id': '69b7aa5c894689618eff4fdcadf03399'}>,\n",
              "  <Document: {'content': 'In addition, cells will turn on or off certain genes at\\ndifferent times in response to changes in the environment or at different times during the development of the\\norganism. Unicellular organisms, both eukaryotic and prokaryotic, also turn on and off genes in response to the\\ndemands of their environment so that they can respond to special conditions.\\nThe control of gene expression is extremely complex. Malfunctions in this process are detrimental to the cell and\\ncan lead to the development of many diseases, including cancer.\\nProkaryotic versus Eukaryotic Gene Expression\\nTo understand how gene expression is regulated, we must first understand how a gene becomes a functional protein\\nin a cell. The process occurs in both prokaryotic and eukaryotic cells, just in slightly different fashions.\\nBecause prokaryotic organisms lack a cell nucleus, the processes of transcription and translation occur almost\\nsimultaneously. When the protein is no longer needed, transcription stops. As a result, the primary method to\\ncontrol what type and how much protein is expressed in a prokaryotic cell is through the regulation of DNA\\ntranscription into RNA. All the subsequent steps happen automatically. When more protein is required, more\\ntranscription occurs. ', 'content_type': 'text', 'score': None, 'meta': {'_split_id': 2, '_split_overlap': [{'doc_id': '69b7aa5c894689618eff4fdcadf03399', 'range': (0, 175)}, {'doc_id': 'e5e545b2fbb822c56bdf1536db6699e8', 'range': (987, 1257)}]}, 'id_hash_keys': ['content'], 'embedding': None, 'id': '4e08b527f87885822d7f2eb9f8a0e643'}>,\n",
              "  <Document: {'content': 'As a result, the primary method to\\ncontrol what type and how much protein is expressed in a prokaryotic cell is through the regulation of DNA\\ntranscription into RNA. All the subsequent steps happen automatically. When more protein is required, more\\ntranscription occurs. Therefore, in prokaryotic cells, the control of gene expression is almost entirely at the\\ntranscriptional level.\\nThe first example of such control was discovered using E. coli in the 1950s and 1960s by French researchers and is\\ncalled the lac operon. The lac operon is a stretch of DNA with three adjacent genes that code for proteins that\\nparticipate in the absorption and metabolism of lactose, a food source for E. coli. When lactose is not present in the\\nbacterium’s environment, the lac genes are transcribed in small amounts. When lactose is present, the genes are\\ntranscribed and the bacterium is able to use the lactose as a food source. The operon also contains a promoter\\nsequence to which the RNA polymerase binds to begin transcription; between the promoter and the three genes is a\\nregion called the operator. ', 'content_type': 'text', 'score': None, 'meta': {'_split_id': 3, '_split_overlap': [{'doc_id': '4e08b527f87885822d7f2eb9f8a0e643', 'range': (0, 270)}, {'doc_id': 'd16a3e1b509e2b79ac136f8df033290', 'range': (917, 1093)}]}, 'id_hash_keys': ['content'], 'embedding': None, 'id': 'e5e545b2fbb822c56bdf1536db6699e8'}>,\n",
              "  <Document: {'content': 'The operon also contains a promoter\\nsequence to which the RNA polymerase binds to begin transcription; between the promoter and the three genes is a\\nregion called the operator. When there is no lactose present, a protein known as a repressor binds to the operator\\nand prevents RNA polymerase from binding to the promoter, except in rare cases. Thus very little of the protein\\nproducts of the three genes is made. When lactose is present, an end product of lactose metabolism binds to the\\nrepressor protein and prevents it from binding to the operator. This allows RNA polymerase to bind to the promoter\\nand freely transcribe the three genes, allowing the organism to metabolize the lactose.\\nEukaryotic cells, in contrast, have intracellular organelles and are much more complex. Recall that in eukaryotic\\ncells, the DNA is contained inside the cell’s nucleus and it is transcribed into mRNA there. The newly synthesized\\nmRNA is then transported out of the nucleus into the cytoplasm, where ribosomes translate the mRNA into protein.\\nThe processes of transcription and translation are physically separated by the nuclear membrane; transcription\\noccurs only within the nucleus, and translation only occurs outside the nucleus in the cytoplasm. ', 'content_type': 'text', 'score': None, 'meta': {'_split_id': 4, '_split_overlap': [{'doc_id': 'e5e545b2fbb822c56bdf1536db6699e8', 'range': (0, 176)}, {'doc_id': '9f13a370e30a504e3d9f1c155ec1529a', 'range': (1033, 1241)}]}, 'id_hash_keys': ['content'], 'embedding': None, 'id': 'd16a3e1b509e2b79ac136f8df033290'}>,\n",
              "  <Document: {'content': 'The processes of transcription and translation are physically separated by the nuclear membrane; transcription\\noccurs only within the nucleus, and translation only occurs outside the nucleus in the cytoplasm. The regulation of\\n9.5 • How Genes Are Regulated\\n215', 'content_type': 'text', 'score': None, 'meta': {'_split_id': 5, '_split_overlap': [{'doc_id': 'd16a3e1b509e2b79ac136f8df033290', 'range': (0, 208)}]}, 'id_hash_keys': ['content'], 'embedding': None, 'id': '9f13a370e30a504e3d9f1c155ec1529a'}>,\n",
              "  <Document: {'content': 'Applying Genomics\\nThe introduction of DNA sequencing and whole genome sequencing projects, particularly the Human Genome\\nProject, has expanded the applicability of DNA sequence information. Genomics is now being used in a wide variety\\nof fields, such as metagenomics, pharmacogenomics, and mitochondrial genomics. The most commonly known\\napplication of genomics is to understand and find cures for diseases.\\nPredicting Disease Risk at the Individual Level\\nPredicting the risk of disease involves screening and identifying currently healthy individuals by genome analysis at\\nthe individual level. Intervention with lifestyle changes and drugs can be recommended before disease onset.\\nHowever, this approach is most applicable when the problem arises from a single gene mutation. Such defects only\\naccount for about 5 percent of diseases found in developed countries. Most of the common diseases, such as heart\\ndisease, are multifactorial or polygenic, which refers to a phenotypic characteristic that is determined by two or\\nmore genes, and also environmental factors such as diet. In April 2010, scientists at Stanford University published\\nthe genome analysis of a healthy individual (Stephen Quake, a scientist at Stanford University, who had his genome\\nsequenced); the analysis predicted his propensity to acquire various diseases. ', 'content_type': 'text', 'score': None, 'meta': {'_split_id': 0, '_split_overlap': [{'doc_id': '76677782a21f357236f79aff6152aa99', 'range': (1081, 1333)}]}, 'id_hash_keys': ['content'], 'embedding': None, 'id': '976c1d9db5ee8baa058839099f0f95fb'}>,\n",
              "  <Document: {'content': 'In April 2010, scientists at Stanford University published\\nthe genome analysis of a healthy individual (Stephen Quake, a scientist at Stanford University, who had his genome\\nsequenced); the analysis predicted his propensity to acquire various diseases. A risk assessment was done to\\nanalyze Quake’s percentage of risk for 55 different medical conditions. A rare genetic mutation was found that\\nshowed him to be at risk for sudden heart attack. He was also predicted to have a 23 percent risk of developing\\nprostate cancer and a 1.4 percent risk of developing Alzheimer’s disease. The scientists used databases and several\\npublications to analyze the genomic data. Even though genomic sequencing is becoming more affordable and\\nanalytical tools are becoming more reliable, ethical issues surrounding genomic analysis at a population level\\nremain to be addressed. For example, could such data be legitimately used to charge more or less for insurance or\\nto affect credit ratings?\\nGene Editing\\nFor thousands of years, humans have engaged in some level of control over genes and heredity regarding the plants\\nand animals we rely on. The technology now exists to exert that control more directly by precisely altering the DNA\\nof organisms. ', 'content_type': 'text', 'score': None, 'meta': {'_split_id': 1, '_split_overlap': [{'doc_id': '976c1d9db5ee8baa058839099f0f95fb', 'range': (0, 252)}, {'doc_id': 'a1d0663719c44865dafd638e1dbad56f', 'range': (978, 1234)}]}, 'id_hash_keys': ['content'], 'embedding': None, 'id': '76677782a21f357236f79aff6152aa99'}>,\n",
              "  <Document: {'content': 'Gene Editing\\nFor thousands of years, humans have engaged in some level of control over genes and heredity regarding the plants\\nand animals we rely on. The technology now exists to exert that control more directly by precisely altering the DNA\\nof organisms. The technique is usually referred to as CRISPR, for the portions of DNA it targets: \"Clustered Regularly\\nInterspaced Short Palindromic Repeats.\"In essence, DNA contains repetitive sequences with \"spacers\" between\\nthem. CRISPR-associated nucleases (known as \"Cas\") are enzymes that can identify, attach to, and cut the strand at\\nprecise locations. In 2012, Jennifer Doudna and Emmanuelle Charpentier developed a method to combine the Cas\\nnuclease with a synthetically produced \"guide RNA\" that leads the nuclease to selected locations on the DNA\\nstrand. The discovery revolutionized gene editing. Researchers around the world have used CRISPR to manipulate\\nthe actual DNA of plants, animals, laboratory cell lines, and (in trials) human patients. Doudna and Charpentier were\\nawarded the Nobel Prize for their work.\\nGene editing is so promising because it can be used experimentally to understand disease or organismal limitations,\\nthen be applied to overcome those issues. ', 'content_type': 'text', 'score': None, 'meta': {'_split_id': 2, '_split_overlap': [{'doc_id': '76677782a21f357236f79aff6152aa99', 'range': (0, 256)}, {'doc_id': 'fda19ba808cbc93f506431466791bcf2', 'range': (1071, 1228)}]}, 'id_hash_keys': ['content'], 'embedding': None, 'id': 'a1d0663719c44865dafd638e1dbad56f'}>,\n",
              "  <Document: {'content': \"Gene editing is so promising because it can be used experimentally to understand disease or organismal limitations,\\nthen be applied to overcome those issues. For example, in a human trial, cancerous cells were removed from a\\nperson, edited to remove their cancerous properties at the DNA level, and reintroduced into the patient so that\\nthose now edited cells could multiply and replace the cancerous ones. Using the person's own cells increases the\\nlikelihood of acceptance and success.\\nLike other applications of genomics, the prospect of directly editing genes brings up a number of ethical issues. Both\\nDoudna and Chapentier, as well as many other genetic engineers, support only certain CRISPR applications. And\\nmany governments and other entities place strict guidelines on the uses of the powerful technology.\\nGenome-wide Association Studies\\nSince 2005, it has been possible to conduct a type of study called a genome-wide association study, or GWAS. A\\nGWAS is a method that identifies differences between individuals in single nucleotide polymorphisms (SNPs) that\\nmay be involved in causing diseases. The method is particularly suited to diseases that may be affected by one or\\nmany genetic changes throughout the genome. \", 'content_type': 'text', 'score': None, 'meta': {'_split_id': 3, '_split_overlap': [{'doc_id': 'a1d0663719c44865dafd638e1dbad56f', 'range': (0, 157)}, {'doc_id': '7e332c104050e18cec51f70da9716d99', 'range': (1109, 1229)}]}, 'id_hash_keys': ['content'], 'embedding': None, 'id': 'fda19ba808cbc93f506431466791bcf2'}>,\n",
              "  <Document: {'content': 'The method is particularly suited to diseases that may be affected by one or\\nmany genetic changes throughout the genome. It is very difficult to identify the genes involved in such a disease\\nusing family history information. The GWAS method relies on a genetic database that has been in development since\\n2002 called the International HapMap Project. The HapMap Project sequenced the genomes of several hundred\\nindividuals from around the world and identified groups of SNPs. The groups include SNPs that are located near to\\neach other on chromosomes so they tend to stay together through recombination. The fact that the group stays\\ntogether means that identifying one marker SNP is all that is needed to identify all the SNPs in the group. There are\\n10.3 • Genomics and Proteomics\\n237', 'content_type': 'text', 'score': None, 'meta': {'_split_id': 4, '_split_overlap': [{'doc_id': 'fda19ba808cbc93f506431466791bcf2', 'range': (0, 120)}]}, 'id_hash_keys': ['content'], 'embedding': None, 'id': '7e332c104050e18cec51f70da9716d99'}>,\n",
              "  <Document: {'content': \"FIGURE 9.3 (a) Each DNA nucleotide is made up of a sugar, a phosphate group, and a base. (b) Cytosine and thymine are pyrimidines.\\nGuanine and adenine are purines.\\nThe phosphate group of one nucleotide bonds covalently with the sugar molecule of the next nucleotide, and so on,\\nforming a long polymer of nucleotide monomers. The sugar–phosphate groups line up in a “backbone” for each\\nsingle strand of DNA, and the nucleotide bases stick out from this backbone. The carbon atoms of the five-carbon\\nsugar are numbered clockwise from the oxygen as 1', 2', 3', 4', and 5' (1' is read as “one prime”). The phosphate\\ngroup is attached to the 5' carbon of one nucleotide and the 3' carbon of the next nucleotide. In its natural state,\\neach DNA molecule is actually composed of two single strands held together along their length with hydrogen bonds\\nbetween the bases.\\nWatson and Crick proposed that the DNA is made up of two strands that are twisted around each other to form a\\nright-handed helix, called a double helix. \", 'content_type': 'text', 'score': None, 'meta': {'_split_id': 0, '_split_overlap': [{'doc_id': 'fb54bc876ebf7f8dfa285f86516cad87', 'range': (862, 1014)}]}, 'id_hash_keys': ['content'], 'embedding': None, 'id': '3b00dd7d5f346b581b44ccb5a655a9c7'}>,\n",
              "  <Document: {'content': \"Watson and Crick proposed that the DNA is made up of two strands that are twisted around each other to form a\\nright-handed helix, called a double helix. Base-pairing takes place between a purine and pyrimidine: namely, A\\npairs with T, and G pairs with C. In other words, adenine and thymine are complementary base pairs, and cytosine\\nand guanine are also complementary base pairs. This is the basis for Chargaff’s rule; because of their\\ncomplementarity, there is as much adenine as thymine in a DNA molecule and as much guanine as cytosine.\\nAdenine and thymine are connected by two hydrogen bonds, and cytosine and guanine are connected by three\\nhydrogen bonds. The two strands are anti-parallel in nature; that is, one strand will have the 3' carbon of the sugar in\\nthe “upward” position, whereas the other strand will have the 5' carbon in the upward position. The diameter of the\\nDNA double helix is uniform throughout because a purine (two rings) always pairs with a pyrimidine (one ring) and\\ntheir combined lengths are always equal. (Figure 9.4).\\nFIGURE 9.4 DNA (a) forms a double stranded helix, and (b) adenine pairs with thymine and cytosine pairs with guanine. \", 'content_type': 'text', 'score': None, 'meta': {'_split_id': 1, '_split_overlap': [{'doc_id': '3b00dd7d5f346b581b44ccb5a655a9c7', 'range': (0, 152)}, {'doc_id': 'f18ecf73e7b828a2d894331cc38f1979', 'range': (1052, 1169)}]}, 'id_hash_keys': ['content'], 'embedding': None, 'id': 'fb54bc876ebf7f8dfa285f86516cad87'}>,\n",
              "  <Document: {'content': \"FIGURE 9.4 DNA (a) forms a double stranded helix, and (b) adenine pairs with thymine and cytosine pairs with guanine. (credit a:\\nmodification of work by Jerome Walker, Dennis Myts)\\nThe Structure of RNA\\nThere is a second nucleic acid in all cells called ribonucleic acid, or RNA. Like DNA, RNA is a polymer of nucleotides.\\nEach of the nucleotides in RNA is made up of a nitrogenous base, a five-carbon sugar, and a phosphate group. In the\\ncase of RNA, the five-carbon sugar is ribose, not deoxyribose. Ribose has a hydroxyl group at the 2' carbon, unlike\\n200\\n9 • Molecular Biology\\nAccess for free at openstax.org\", 'content_type': 'text', 'score': None, 'meta': {'_split_id': 2, '_split_overlap': [{'doc_id': 'fb54bc876ebf7f8dfa285f86516cad87', 'range': (0, 117)}]}, 'id_hash_keys': ['content'], 'embedding': None, 'id': 'f18ecf73e7b828a2d894331cc38f1979'}>,\n",
              "  <Document: {'content': 'structure; the nucleosomes are the “beads” and the short lengths of DNA between them are the “string.” The\\nnucleosomes, with their DNA coiled around them, stack compactly onto each other to form a 30-nm–wide fiber. This\\nfiber is further coiled into a thicker and more compact structure. At the metaphase stage of mitosis, when the\\nchromosomes are lined up in the center of the cell, the chromosomes are at their most compacted. They are\\napproximately 700 nm in width, and are found in association with scaffold proteins.\\nIn interphase, the phase of the cell cycle between mitoses at which the chromosomes are decondensed, eukaryotic\\nchromosomes have two distinct regions that can be distinguished by staining. There is a tightly packaged region that\\nstains darkly, and a less dense region. The darkly staining regions usually contain genes that are not active, and are\\nfound in the regions of the centromere and telomeres. The lightly staining regions usually contain genes that are\\nactive, with DNA packaged around nucleosomes but not further compacted.\\nFIGURE 9.7 These figures illustrate the compaction of the eukaryotic chromosome.\\nLINK TO LEARNING\\nWatch this animation (http://openstax.org/l/DNA_packaging) of DNA packaging.\\n', 'content_type': 'text', 'score': None, 'meta': {'_split_id': 0, '_split_overlap': [{'doc_id': '5f873ff4613ff5ab44f42b3f02b42b', 'range': (1055, 1229)}]}, 'id_hash_keys': ['content'], 'embedding': None, 'id': 'ab24015fb3c652159218301c4f9cf238'}>,\n",
              "  <Document: {'content': 'FIGURE 9.7 These figures illustrate the compaction of the eukaryotic chromosome.\\nLINK TO LEARNING\\nWatch this animation (http://openstax.org/l/DNA_packaging) of DNA packaging.\\n9.2 DNA Replication\\nLEARNING OBJECTIVES\\nBy the end of this section, you will be able to:\\n•\\nExplain the process of DNA replication\\n•\\nExplain the importance of telomerase to DNA replication\\n•\\nDescribe mechanisms of DNA repair\\n202\\n9 • Molecular Biology\\nAccess for free at openstax.org', 'content_type': 'text', 'score': None, 'meta': {'_split_id': 1, '_split_overlap': [{'doc_id': 'ab24015fb3c652159218301c4f9cf238', 'range': (0, 174)}]}, 'id_hash_keys': ['content'], 'embedding': None, 'id': '5f873ff4613ff5ab44f42b3f02b42b'}>,\n",
              "  <Document: {'content': 'nucleus is put into an enucleated egg cell, which is\\nthen stimulated to divide and develop into an\\norganism.\\nIn reverse genetics methods, a gene is mutated or\\nremoved in some way to identify its effect on the\\nphenotype of the whole organism as a way to\\ndetermine its function.\\n10.2 Biotechnology in Medicine and\\nAgriculture\\nGenetic testing is performed to identify disease-\\ncausing genes, and can be used to benefit affected\\nindividuals and their relatives who have not developed\\ndisease symptoms yet. Gene therapy—by which\\nfunctioning genes are incorporated into the genomes of\\nindividuals with a non-functioning mutant gene—has\\nthe potential to cure heritable diseases. Transgenic\\norganisms possess DNA from a different species,\\nusually generated by molecular cloning techniques.\\nVaccines, antibiotics, and hormones are examples of\\nproducts obtained by recombinant DNA technology.\\nTransgenic animals have been created for experimental\\npurposes and some are used to produce some human\\nproteins.\\nGenes are inserted into plants, using plasmids in the\\nbacterium Agrobacterium tumefaciens, which infects\\nplants. Transgenic plants have been created to improve\\nthe characteristics of crop plants—for example, by\\ngiving them insect resistance by inserting a gene for a\\nbacterial toxin.\\n', 'content_type': 'text', 'score': None, 'meta': {'_split_id': 0, '_split_overlap': [{'doc_id': 'd9b0be932c5058d825438e983b46f353', 'range': (1109, 1279)}]}, 'id_hash_keys': ['content'], 'embedding': None, 'id': '731a9b8eb187c431da66792bf88bfe40'}>,\n",
              "  <Document: {'content': 'Transgenic plants have been created to improve\\nthe characteristics of crop plants—for example, by\\ngiving them insect resistance by inserting a gene for a\\nbacterial toxin.\\n10.3 Genomics and Proteomics\\nGenome mapping is similar to solving a big,\\ncomplicated puzzle with pieces of information coming\\nfrom laboratories all over the world. Genetic maps\\nprovide an outline for the location of genes within a\\ngenome, and they estimate the distance between\\ngenes and genetic markers on the basis of the\\nrecombination frequency during meiosis. Physical\\nmaps provide detailed information about the physical\\ndistance between the genes. The most detailed\\ninformation is available through sequence mapping.\\nInformation from all mapping and sequencing sources\\nis combined to study an entire genome.\\nWhole genome sequencing is the latest available\\nresource to treat genetic diseases. Some doctors are\\nusing whole genome sequencing to save lives.\\nGenomics has many industrial applications, including\\nbiofuel development, agriculture, pharmaceuticals, and\\npollution control.\\nImagination is the only barrier to the applicability of\\ngenomics. ', 'content_type': 'text', 'score': None, 'meta': {'_split_id': 1, '_split_overlap': [{'doc_id': '731a9b8eb187c431da66792bf88bfe40', 'range': (0, 170)}, {'doc_id': '2fc4de36881f0d0ac9e09bb595f3ebfd', 'range': (931, 1123)}]}, 'id_hash_keys': ['content'], 'embedding': None, 'id': 'd9b0be932c5058d825438e983b46f353'}>,\n",
              "  <Document: {'content': 'Genomics has many industrial applications, including\\nbiofuel development, agriculture, pharmaceuticals, and\\npollution control.\\nImagination is the only barrier to the applicability of\\ngenomics. Genomics is being applied to most fields of\\nbiology; it can be used for personalized medicine,\\nprediction of disease risks at an individual level, the\\nstudy of drug interactions before the conduction of\\nclinical trials, and the study of microorganisms in the\\nenvironment as opposed to the laboratory. It is also\\nbeing applied to the generation of new biofuels,\\ngenealogical assessment using mitochondria,\\nadvances in forensic science, and improvements in\\nagriculture.\\nProteomics is the study of the entire set of proteins\\nexpressed by a given type of cell under certain\\nenvironmental conditions. In a multicellular organism,\\ndifferent cell types will have different proteomes, and\\nthese will vary with changes in the environment. Unlike\\na genome, a proteome is dynamic and under constant\\nflux, which makes it more complicated and more useful\\nthan the knowledge of genomes alone.\\nVisual Connection Questions\\n1. Figure 10.7 Why was Dolly a Finn-Dorset and not a\\nScottish Blackface sheep?\\nReview Questions\\n2. In gel electrophoresis of DNA, the different bands in\\nthe final gel form because the DNA molecules\\n________.\\n', 'content_type': 'text', 'score': None, 'meta': {'_split_id': 2, '_split_overlap': [{'doc_id': 'd9b0be932c5058d825438e983b46f353', 'range': (0, 192)}, {'doc_id': '18f51832dc56f301b82273d793127221', 'range': (1179, 1307)}]}, 'id_hash_keys': ['content'], 'embedding': None, 'id': '2fc4de36881f0d0ac9e09bb595f3ebfd'}>,\n",
              "  <Document: {'content': 'Review Questions\\n2. In gel electrophoresis of DNA, the different bands in\\nthe final gel form because the DNA molecules\\n________.\\na.\\nare from different organisms\\nb.\\nhave different lengths\\nc.\\nhave different nucleotide compositions\\nd.\\nhave different genes\\n3. In the reproductive cloning of an animal, the\\ngenome of the cloned individual comes from\\n________.\\na.\\na sperm cell\\nb.\\nan egg cell\\nc.\\nany gamete cell\\nd.\\na body cell\\n244\\n10 • Visual Connection Questions\\nAccess for free at openstax.org', 'content_type': 'text', 'score': None, 'meta': {'_split_id': 3, '_split_overlap': [{'doc_id': '2fc4de36881f0d0ac9e09bb595f3ebfd', 'range': (0, 128)}]}, 'id_hash_keys': ['content'], 'embedding': None, 'id': '18f51832dc56f301b82273d793127221'}>,\n",
              "  <Document: {'content': 'Mitochondrial Genomics\\nMitochondria are intracellular organelles that contain their own DNA. Mitochondrial DNA mutates at a rapid rate and\\nis often used to study evolutionary relationships. Another feature that makes studying the mitochondrial genome\\ninteresting is that in most multicellular organisms, the mitochondrial DNA is passed on from the mother during the\\nprocess of fertilization. For this reason, mitochondrial genomics is often used to trace genealogy.\\nGenomics in Forensic Analysis\\nInformation and clues obtained from DNA samples found at crime scenes have been used as evidence in court\\ncases, and genetic markers have been used in forensic analysis. Genomic analysis has also become useful in this\\nfield. In 2001, the first use of genomics in forensics was published. It was a collaborative effort between academic\\nresearch institutions and the FBI to solve the mysterious cases of anthrax (Figure 10.15) that was transported by\\nthe US Postal Service. Anthrax bacteria were made into an infectious powder and mailed to news media and two\\nU.S. Senators. The powder infected the administrative staff and postal workers who opened or handled the letters.\\nFive people died, and 17 were sickened from the bacteria. ', 'content_type': 'text', 'score': None, 'meta': {'_split_id': 0, '_split_overlap': [{'doc_id': '43a468b3062366e55e18cbdb7da0678e', 'range': (1069, 1225)}]}, 'id_hash_keys': ['content'], 'embedding': None, 'id': 'f1e023bf0566463df1d6986e93b0fc7b'}>,\n",
              "  <Document: {'content': 'The powder infected the administrative staff and postal workers who opened or handled the letters.\\nFive people died, and 17 were sickened from the bacteria. Using microbial genomics, researchers determined that a\\nspecific strain of anthrax was used in all the mailings; eventually, the source was traced to a scientist at a national\\nbiodefense laboratory in Maryland.\\nFIGURE 10.15 Bacillus anthracis is the organism that causes anthrax. (credit: modification of work by CDC; scale-bar data from Matt\\nRussell)\\nGenomics in Agriculture\\nGenomics can reduce the trials and failures involved in scientific research to a certain extent, which could improve\\nthe quality and quantity of crop yields in agriculture (Figure 10.16). Linking traits to genes or gene signatures helps\\nto improve crop breeding to generate hybrids with the most desirable qualities. Scientists use genomic data to\\nidentify desirable traits, and then transfer those traits to a different organism to create a new genetically modified\\norganism, as described in the previous module. Scientists are discovering how genomics can improve the quality\\nand quantity of agricultural production. ', 'content_type': 'text', 'score': None, 'meta': {'_split_id': 1, '_split_overlap': [{'doc_id': 'f1e023bf0566463df1d6986e93b0fc7b', 'range': (0, 156)}, {'doc_id': 'cb2f516d272834bdfb7b1dc5f8e915d5', 'range': (850, 1151)}]}, 'id_hash_keys': ['content'], 'embedding': None, 'id': '43a468b3062366e55e18cbdb7da0678e'}>,\n",
              "  <Document: {'content': 'Scientists use genomic data to\\nidentify desirable traits, and then transfer those traits to a different organism to create a new genetically modified\\norganism, as described in the previous module. Scientists are discovering how genomics can improve the quality\\nand quantity of agricultural production. For example, scientists could use desirable traits to create a useful product\\nor enhance an existing product, such as making a drought-sensitive crop more tolerant of the dry season.\\n240\\n10 • Biotechnology\\nAccess for free at openstax.org', 'content_type': 'text', 'score': None, 'meta': {'_split_id': 2, '_split_overlap': [{'doc_id': '43a468b3062366e55e18cbdb7da0678e', 'range': (0, 301)}]}, 'id_hash_keys': ['content'], 'embedding': None, 'id': 'cb2f516d272834bdfb7b1dc5f8e915d5'}>,\n",
              "  <Document: {'content': 'When a cell divides, it is important that each daughter cell receives an identical copy of the DNA. This is\\naccomplished by the process of DNA replication. The replication of DNA occurs during the synthesis phase, or S\\nphase, of the cell cycle, before the cell enters mitosis or meiosis.\\nThe elucidation of the structure of the double helix provided a hint as to how DNA is copied. Recall that adenine\\nnucleotides pair with thymine nucleotides, and cytosine with guanine. This means that the two strands are\\ncomplementary to each other. For example, a strand of DNA with a nucleotide sequence of AGTCATGA will have a\\ncomplementary strand with the sequence TCAGTACT (Figure 9.8).\\nFIGURE 9.8 The two strands of DNA are complementary, meaning the sequence of bases in one strand can be used to create the correct\\nsequence of bases in the other strand.\\nBecause of the complementarity of the two strands, having one strand means that it is possible to recreate the other\\nstrand. This model for replication suggests that the two strands of the double helix separate during replication, and\\neach strand serves as a template from which the new complementary strand is copied (Figure 9.9).\\n', 'content_type': 'text', 'score': None, 'meta': {'_split_id': 0, '_split_overlap': [{'doc_id': 'd18ad9da824e3c28218b19af1b52a801', 'range': (974, 1180)}]}, 'id_hash_keys': ['content'], 'embedding': None, 'id': '1e2b5743b06d33bed26b9a85472e9c8e'}>,\n",
              "  <Document: {'content': 'This model for replication suggests that the two strands of the double helix separate during replication, and\\neach strand serves as a template from which the new complementary strand is copied (Figure 9.9).\\n9.2 • DNA Replication\\n203', 'content_type': 'text', 'score': None, 'meta': {'_split_id': 1, '_split_overlap': [{'doc_id': '1e2b5743b06d33bed26b9a85472e9c8e', 'range': (0, 206)}]}, 'id_hash_keys': ['content'], 'embedding': None, 'id': 'd18ad9da824e3c28218b19af1b52a801'}>,\n",
              "  <Document: {'content': \"deoxyribose, which has only a hydrogen atom (Figure 9.5).\\nFIGURE 9.5 The difference between the ribose found in RNA and the deoxyribose found in DNA is that ribose has a hydroxyl group at the 2'\\ncarbon.\\nRNA nucleotides contain the nitrogenous bases adenine, cytosine, and guanine. However, they do not contain\\nthymine, which is instead replaced by uracil, symbolized by a “U.” RNA exists as a single-stranded molecule rather\\nthan a double-stranded helix. Molecular biologists have named several kinds of RNA on the basis of their function.\\nThese include messenger RNA (mRNA), transfer RNA (tRNA), and ribosomal RNA (rRNA)—molecules that are\\ninvolved in the production of proteins from the DNA code.\\nHow DNA Is Arranged in the Cell\\nDNA is a working molecule; it must be replicated when a cell is ready to divide, and it must be “read” to produce the\\nmolecules, such as proteins, to carry out the functions of the cell. For this reason, the DNA is protected and\\npackaged in very specific ways. In addition, DNA molecules can be very long. Stretched end-to-end, the DNA\\nmolecules in a single human cell would come to a length of about 2 meters. \", 'content_type': 'text', 'score': None, 'meta': {'_split_id': 0, '_split_overlap': [{'doc_id': 'e24f7111f444048d86a1781fb67a3f0f', 'range': (992, 1141)}]}, 'id_hash_keys': ['content'], 'embedding': None, 'id': 'c23cdec692a170470d71984bd1675245'}>,\n",
              "  <Document: {'content': 'In addition, DNA molecules can be very long. Stretched end-to-end, the DNA\\nmolecules in a single human cell would come to a length of about 2 meters. Thus, the DNA for a cell must be\\npackaged in a very ordered way to fit and function within a structure (the cell) that is not visible to the naked eye.\\nThe chromosomes of prokaryotes are much simpler than those of eukaryotes in many of their features (Figure 9.6).\\nMost prokaryotes contain a single, circular chromosome that is found in an area in the cytoplasm called the\\nnucleoid.\\nFIGURE 9.6 A eukaryote contains a well-defined nucleus, whereas in prokaryotes, the chromosome lies in the cytoplasm in an area called\\nthe nucleoid.\\nThe size of the genome in one of the most well-studied prokaryotes, Escherichia coli, is 4.6 million base pairs, which\\nwould extend a distance of about 1.6 mm if stretched out. So how does this fit inside a small bacterial cell? The DNA\\nis twisted beyond the double helix in what is known as supercoiling. Some proteins are known to be involved in the\\nsupercoiling; other proteins and enzymes help in maintaining the supercoiled structure.\\n', 'content_type': 'text', 'score': None, 'meta': {'_split_id': 1, '_split_overlap': [{'doc_id': 'c23cdec692a170470d71984bd1675245', 'range': (0, 149)}, {'doc_id': 'f40c7d623f35431ae56e210a0a7d9ed8', 'range': (988, 1121)}]}, 'id_hash_keys': ['content'], 'embedding': None, 'id': 'e24f7111f444048d86a1781fb67a3f0f'}>,\n",
              "  <Document: {'content': 'Some proteins are known to be involved in the\\nsupercoiling; other proteins and enzymes help in maintaining the supercoiled structure.\\nEukaryotes, whose chromosomes each consist of a linear DNA molecule, employ a different type of packing strategy\\nto fit their DNA inside the nucleus (Figure 9.7). Before the structure of DNA was even uncovered, Marie Maynard\\nDaly and Arthur E. Mirsky conducted extensive research in the 1940s and 1950s to understand the molecules and\\nstructures in involved. At the most basic level, DNA is wrapped around proteins known as histones to form\\nstructures called nucleosomes. The DNA is wrapped tightly around the histone core. This nucleosome is linked to\\nthe next one by a short strand of DNA that is free of histones. This is also known as the “beads on a string”\\n9.1 • The Structure of DNA\\n201', 'content_type': 'text', 'score': None, 'meta': {'_split_id': 2, '_split_overlap': [{'doc_id': 'e24f7111f444048d86a1781fb67a3f0f', 'range': (0, 133)}]}, 'id_hash_keys': ['content'], 'embedding': None, 'id': 'f40c7d623f35431ae56e210a0a7d9ed8'}>,\n",
              "  <Document: {'content': '9.4 Translation\\nLEARNING OBJECTIVES\\nBy the end of this section, you will be able to:\\n•\\nDescribe the different steps in protein synthesis\\n•\\nDiscuss the role of ribosomes in protein synthesis\\n•\\nDescribe the genetic code and how the nucleotide sequence determines the amino acid and the protein\\nsequence\\nThe synthesis of proteins is one of a cell’s most energy-consuming metabolic processes. In turn, proteins account\\nfor more mass than any other component of living organisms (with the exception of water), and proteins perform a\\nwide variety of the functions of a cell. The process of translation, or protein synthesis, involves decoding an mRNA\\nmessage into a polypeptide product. Amino acids are covalently strung together in lengths ranging from\\napproximately 50 amino acids to more than 1,000.\\nThe Protein Synthesis Machinery\\nIn addition to the mRNA template, many other molecules contribute to the process of translation. The composition\\nof each component may vary across species; for instance, ribosomes may consist of different numbers of ribosomal\\nRNAs (rRNA) and polypeptides depending on the organism. However, the general structures and functions of the\\nprotein synthesis machinery are comparable from bacteria to human cells. ', 'content_type': 'text', 'score': None, 'meta': {'_split_id': 0, '_split_overlap': [{'doc_id': '77cf65ee9a36c22bb41532f0ac889284', 'range': (926, 1236)}]}, 'id_hash_keys': ['content'], 'embedding': None, 'id': 'b3970b90216f0e202eaaad76713de243'}>,\n",
              "  <Document: {'content': 'The composition\\nof each component may vary across species; for instance, ribosomes may consist of different numbers of ribosomal\\nRNAs (rRNA) and polypeptides depending on the organism. However, the general structures and functions of the\\nprotein synthesis machinery are comparable from bacteria to human cells. Translation requires the input of an\\nmRNA template, ribosomes, tRNAs, and various enzymatic factors (Figure 9.19).\\nFIGURE 9.19 The protein synthesis machinery includes the large and small subunits of the ribosome, mRNA, and tRNA. (credit:\\nmodification of work by NIGMS, NIH)\\nIn E. coli, there are 200,000 ribosomes present in every cell at any given time. A ribosome is a complex\\nmacromolecule composed of structural and catalytic rRNAs, and many distinct polypeptides. In eukaryotes, the\\nnucleolus is completely specialized for the synthesis and assembly of rRNAs.\\nRibosomes are located in the cytoplasm in prokaryotes and in the cytoplasm and endoplasmic reticulum of\\neukaryotes. Ribosomes are made up of a large and a small subunit that come together for translation. The small\\nsubunit is responsible for binding the mRNA template, whereas the large subunit sequentially binds tRNAs, a type\\nof RNA molecule that brings amino acids to the growing chain of the polypeptide. ', 'content_type': 'text', 'score': None, 'meta': {'_split_id': 1, '_split_overlap': [{'doc_id': 'b3970b90216f0e202eaaad76713de243', 'range': (0, 310)}, {'doc_id': '21ccd74998e2e72f7fb2a894f0e9e180', 'range': (1082, 1285)}]}, 'id_hash_keys': ['content'], 'embedding': None, 'id': '77cf65ee9a36c22bb41532f0ac889284'}>,\n",
              "  <Document: {'content': 'The small\\nsubunit is responsible for binding the mRNA template, whereas the large subunit sequentially binds tRNAs, a type\\nof RNA molecule that brings amino acids to the growing chain of the polypeptide. Each mRNA molecule is\\nsimultaneously translated by many ribosomes, all synthesizing protein in the same direction.\\nDepending on the species, 40 to 60 types of tRNA exist in the cytoplasm. Serving as adaptors, specific tRNAs bind to\\nsequences on the mRNA template and add the corresponding amino acid to the polypeptide chain. Therefore, tRNAs\\nare the molecules that actually “translate” the language of RNA into the language of proteins. For each tRNA to\\nfunction, it must have its specific amino acid bonded to it. In the process of tRNA “charging,” each tRNA molecule is\\nbonded to its correct amino acid.\\n212\\n9 • Molecular Biology\\nAccess for free at openstax.org', 'content_type': 'text', 'score': None, 'meta': {'_split_id': 2, '_split_overlap': [{'doc_id': '77cf65ee9a36c22bb41532f0ac889284', 'range': (0, 203)}]}, 'id_hash_keys': ['content'], 'embedding': None, 'id': '21ccd74998e2e72f7fb2a894f0e9e180'}>,\n",
              "  <Document: {'content': 'FIGURE 9.11 The ends of linear chromosomes are maintained by the action of the telomerase enzyme.\\nTelomerase is typically found to be active in germ cells, adult stem cells, and some cancer cells. For her discovery of\\ntelomerase and its action, Elizabeth Blackburn (Figure 9.12) received the Nobel Prize for Medicine and Physiology in\\n2009. Later research using HeLa cells (obtained from Henrietta Lacks) confirmed that telomerase is present in\\nhuman cells. And in 2001, researchers including Diane L. Wright found that telomerase is necessary for cells in\\nhuman embryos to rapidly proliferate.\\nFIGURE 9.12 Elizabeth Blackburn, 2009 Nobel Laureate, was the scientist who discovered how telomerase works. (credit: U.S. Embassy,\\nStockholm, Sweden)\\nTelomerase is not active in adult somatic cells. Adult somatic cells that undergo cell division continue to have their\\ntelomeres shortened. This essentially means that telomere shortening is associated with aging. In 2010, scientists\\nfound that telomerase can reverse some age-related conditions in mice, and this may have potential in regenerative\\nmedicine.1 Telomerase-deficient mice were used in these studies; these mice have tissue atrophy, stem-cell\\ndepletion, organ system failure, and impaired tissue injury responses. ', 'content_type': 'text', 'score': None, 'meta': {'_split_id': 0, '_split_overlap': [{'doc_id': 'c43dc78be35abae662f5aff47f5e52ba', 'range': (960, 1272)}]}, 'id_hash_keys': ['content'], 'embedding': None, 'id': 'db55f8f497e4409d7fc8ef9a28cd15d2'}>,\n",
              "  <Document: {'content': 'In 2010, scientists\\nfound that telomerase can reverse some age-related conditions in mice, and this may have potential in regenerative\\nmedicine.1 Telomerase-deficient mice were used in these studies; these mice have tissue atrophy, stem-cell\\ndepletion, organ system failure, and impaired tissue injury responses. Telomerase reactivation in these mice caused\\nextension of telomeres, reduced DNA damage, reversed neurodegeneration, and improved functioning of the testes,\\nspleen, and intestines. Thus, telomere reactivation may have potential for treating age-related diseases in humans.\\nDNA Replication in Prokaryotes\\nRecall that the prokaryotic chromosome is a circular molecule with a less extensive coiling structure than eukaryotic\\nchromosomes. The eukaryotic chromosome is linear and highly coiled around proteins. While there are many\\n1 Mariella Jaskelioff, et al., “Telomerase reactivation reverses tissue degeneration in aged telomerase-deficient mice,” Nature, 469\\n(2011):102–7.\\n206\\n9 • Molecular Biology\\nAccess for free at openstax.org', 'content_type': 'text', 'score': None, 'meta': {'_split_id': 1, '_split_overlap': [{'doc_id': 'db55f8f497e4409d7fc8ef9a28cd15d2', 'range': (0, 312)}]}, 'id_hash_keys': ['content'], 'embedding': None, 'id': 'c43dc78be35abae662f5aff47f5e52ba'}>,\n",
              "  <Document: {'content': 'gene expression can occur at all stages of the process (Figure 9.22). Regulation may occur when the DNA is uncoiled\\nand loosened from nucleosomes to bind transcription factors (epigenetic level), when the RNA is transcribed\\n(transcriptional level), when RNA is processed and exported to the cytoplasm after it is transcribed (post-\\ntranscriptional level), when the RNA is translated into protein (translational level), or after the protein has been\\nmade (post-translational level).\\nFIGURE 9.22 Eukaryotic gene expression is regulated during transcription and RNA processing, which take place in the nucleus, as well as\\nduring protein translation, which takes place in the cytoplasm. Further regulation may occur through post-translational modifications of\\nproteins.\\nThe differences in the regulation of gene expression between prokaryotes and eukaryotes are summarized in Table\\n9.2.\\n216\\n9 • Molecular Biology\\nAccess for free at openstax.org', 'content_type': 'text', 'score': None, 'meta': {'_split_id': 0, '_split_overlap': []}, 'id_hash_keys': ['content'], 'embedding': None, 'id': 'c6faa17fdd11207c914780547a689096'}>,\n",
              "  <Document: {'content': 'techniques have revolutionized plant and animal breeding for human agricultural needs. All of\\nthese advances in biotechnology depended on basic research leading to the discovery of the\\nstructure of DNA in 1953, and the research since then that has uncovered the details of DNA\\nreplication and the complex process leading to the expression of DNA in the form of proteins in the\\ncell.\\n9.1 The Structure of DNA\\nLEARNING OBJECTIVES\\nBy the end of this section, you will be able to:\\n•\\nDescribe the structure of DNA\\n•\\nDescribe how eukaryotic and prokaryotic DNA is arranged in the cell\\nIn the 1950s, Francis Crick and James Watson worked together at the University of Cambridge,\\nEngland, to determine the structure of DNA. Other scientists, such as Linus Pauling and Maurice\\nWilkins, were also actively exploring this field. Pauling had discovered the secondary structure of\\nproteins using X-ray crystallography. X-ray crystallography is a method for investigating molecular\\nstructure by observing the patterns formed by X-rays shot through a crystal of the substance. The\\npatterns give important information about the structure of the molecule of interest. In Wilkins’ lab,\\nresearcher Rosalind Franklin was using X-ray crystallography to understand the structure of DNA.\\n', 'content_type': 'text', 'score': None, 'meta': {'_split_id': 0, '_split_overlap': [{'doc_id': 'a212ec19e67cfced99639b546f9d6826', 'range': (1062, 1264)}]}, 'id_hash_keys': ['content'], 'embedding': None, 'id': 'f2988e447974384728fcc4e57d4b0a02'}>,\n",
              "  <Document: {'content': \"The\\npatterns give important information about the structure of the molecule of interest. In Wilkins’ lab,\\nresearcher Rosalind Franklin was using X-ray crystallography to understand the structure of DNA.\\nWatson and Crick were able to piece together the puzzle of the DNA molecule using Franklin's\\ndata (Figure 9.2). Watson and Crick also had key pieces of information available from other\\nresearchers such as Chargaff’s rules. Chargaff had shown that of the four kinds of monomers\\n(nucleotides) present in a DNA molecule, two types were always present in equal amounts and the\\nremaining two types were also always present in equal amounts. This meant they were always\\npaired in some way. In 1962, James Watson, Francis Crick, and Maurice Wilkins were awarded the\\nNobel Prize in Medicine for their work in determining the structure of DNA.\\n198\\n9 • Molecular Biology\\nAccess for free at openstax.org\", 'content_type': 'text', 'score': None, 'meta': {'_split_id': 1, '_split_overlap': [{'doc_id': 'f2988e447974384728fcc4e57d4b0a02', 'range': (0, 202)}]}, 'id_hash_keys': ['content'], 'embedding': None, 'id': 'a212ec19e67cfced99639b546f9d6826'}>,\n",
              "  <Document: {'content': 'Key Terms\\nanneal\\nin molecular biology, the process by which\\ntwo single strands of DNA hydrogen bond at\\ncomplementary nucleotides to form a double-\\nstranded molecule\\nbiomarker\\nan individual protein that is uniquely\\nproduced in a diseased state\\nbiotechnology\\nthe use of artificial methods to modify\\nthe genetic material of living organisms or cells to\\nproduce novel compounds or to perform new\\nfunctions\\ncloning\\nthe production of an exact copy—specifically,\\nan exact genetic copy—of a gene, cell, or organism\\ngel electrophoresis\\na technique used to separate\\nmolecules on the basis of their ability to migrate\\nthrough a semisolid gel in response to an electric\\ncurrent\\ngene therapy\\nthe technique used to cure heritable\\ndiseases by replacing mutant genes with good\\ngenes\\ngenetic engineering\\nalteration of the genetic makeup\\nof an organism using the molecular methods of\\nbiotechnology\\ngenetic map\\nan outline of genes and their location on\\na chromosome that is based on recombination\\nfrequencies between markers\\ngenetic testing\\nidentifying gene variants in an\\nindividual that may lead to a genetic disease in that\\nindividual\\ngenetically modified organism (GMO)\\nan organism\\nwhose genome has been artificially changed\\ngenomics\\nthe study of entire genomes, including the\\ncomplete set of genes, their nucleotide sequence\\nand organization, and their interactions within a\\nspecies and with other species\\nmetagenomics\\nthe study of the collective genomes of\\nmultiple species that grow and interact in an\\nenvironmental niche\\nmodel organism\\na species that is studied and used as\\na model to understand the biological processes in\\nother species represented by the model organism\\npharmacogenomics\\nthe study of drug interactions\\nwith the genome or proteome; also called\\ntoxicogenomics\\nphysical map\\na representation of the physical\\ndistance between genes or genetic markers\\nplasmid\\na small circular molecule of DNA found in\\nbacteria that replicates independently of the main\\nbacterial chromosome; plasmids code for some\\nimportant traits for bacteria and can be used as\\nvectors to transport DNA into bacteria in genetic\\nengineering applications\\npolymerase chain reaction (PCR)\\na technique used\\nto make multiple copies of DNA\\nprotein signature\\na set of over- or under-expressed\\nproteins characteristic of cells in a particular\\ndiseased tissue\\nproteomics\\nstudy of the function of proteomes\\nrecombinant DNA\\na combination of DNA fragments\\ngenerated by molecular cloning that does not exist\\nin nature\\nrecombinant protein\\na protein that is expressed from\\nrecombinant DNA molecules\\nreproductive cloning\\ncloning of entire organisms\\nrestriction enzyme\\nan enzyme that recognizes a\\nspecific nucleotide sequence in DNA and cuts the\\nDNA double strand at that recognition site, often\\nwith a staggered cut leaving short single strands or\\n“sticky” ends\\nreverse genetics\\na form of genetic analysis that\\nmanipulates DNA to disrupt or affect the product of\\na gene to analyze the gene’s function\\ntransgenic\\ndescribing an organism that receives DNA\\nfrom a different species\\nwhole genome sequencing\\na process that\\ndetermines the nucleotide sequence of an entire\\ngenome\\nChapter Summary\\n10.1 Cloning and Genetic Engineering\\nNucleic acids can be isolated from cells for the\\npurposes of further analysis by breaking open the cells\\nand enzymatically destroying all other major\\nmacromolecules. ', 'content_type': 'text', 'score': None, 'meta': {'_split_id': 0, '_split_overlap': []}, 'id_hash_keys': ['content'], 'embedding': None, 'id': 'f484980ebb3559772bcd9f239edd441f'}>,\n",
              "  <Document: {'content': 'Fragmented or whole chromosomes\\ncan be separated on the basis of size by gel\\nelectrophoresis. Short stretches of DNA can be\\namplified by PCR. DNA can be cut (and subsequently\\nre-spliced together) using restriction enzymes. The\\nmolecular and cellular techniques of biotechnology\\nallow researchers to genetically engineer organisms,\\nmodifying them to achieve desirable traits.\\nCloning may involve cloning small DNA fragments\\n(molecular cloning), or cloning entire organisms\\n(reproductive cloning). In molecular cloning with\\nbacteria, a desired DNA fragment is inserted into a\\nbacterial plasmid using restriction enzymes and the\\nplasmid is taken up by a bacterium, which will then\\nexpress the foreign DNA. Using other techniques,\\nforeign genes can be inserted into eukaryotic\\norganisms. In each case, the organisms are called\\ntransgenic organisms. In reproductive cloning, a donor\\n10 • Key Terms\\n243', 'content_type': 'text', 'score': None, 'meta': {'_split_id': 1, '_split_overlap': []}, 'id_hash_keys': ['content'], 'embedding': None, 'id': 'b50ef38b45202449ba2bf0369a6413b4'}>,\n",
              "  <Document: {'content': 'LINK TO LEARNING\\nOnline Mendelian Inheritance in Man (OMIM) (http://openstax.org/l/OMIM2) is a searchable online catalog of human\\ngenes and genetic disorders. This website shows genome mapping, and also details the history and research of each\\ntrait and disorder. Click the link to search for traits (such as handedness) and genetic disorders (such as diabetes).\\nWhole Genome Sequencing\\nAlthough there have been significant advances in the medical sciences in recent years, doctors are still confounded\\nby many diseases and researchers are using whole genome sequencing to get to the bottom of the problem. Whole\\ngenome sequencing is a process that determines the DNA sequence of an entire genome. Whole genome\\nsequencing is a brute-force approach to problem solving when there is a genetic basis at the core of a disease.\\nSeveral laboratories now provide services to sequence, analyze, and interpret entire genomes.\\nIn 2010, whole genome sequencing was used to save a young boy whose intestines had multiple mysterious\\nabscesses. The child had several colon operations with no relief. Finally, a whole genome sequence revealed a\\ndefect in a pathway that controls apoptosis (programmed cell death). ', 'content_type': 'text', 'score': None, 'meta': {'_split_id': 0, '_split_overlap': [{'doc_id': 'a1a37dd4f3505721001f394fbd2314ee', 'range': (1031, 1198)}]}, 'id_hash_keys': ['content'], 'embedding': None, 'id': 'fc851713ca1c5f01678a1e8b2fb0e3a'}>,\n",
              "  <Document: {'content': 'The child had several colon operations with no relief. Finally, a whole genome sequence revealed a\\ndefect in a pathway that controls apoptosis (programmed cell death). A bone marrow transplant was used to\\novercome this genetic disorder, leading to a cure for the boy. He was the first person to be successfully diagnosed\\nusing whole genome sequencing.\\nThe first genomes to be sequenced, such as those belonging to viruses, bacteria, and yeast, were smaller in terms of\\nthe number of nucleotides than the genomes of multicellular organisms. The genomes of other model organisms,\\nsuch as the mouse (Mus musculus), the fruit fly (Drosophila melanogaster), and the nematode (Caenorhabditis\\nelegans) are now known. A great deal of basic research is performed in model organisms because the information\\ncan be applied to other organisms. A model organism is a species that is studied as a model to understand the\\nbiological processes in other species that can be represented by the model organism. For example, fruit flies are\\nable to metabolize alcohol like humans, so the genes affecting sensitivity to alcohol have been studied in fruit flies in\\nan effort to understand the variation in sensitivity to alcohol in humans. ', 'content_type': 'text', 'score': None, 'meta': {'_split_id': 1, '_split_overlap': [{'doc_id': 'fc851713ca1c5f01678a1e8b2fb0e3a', 'range': (0, 167)}, {'doc_id': '70bbb0cc810673e0493e68280f5cd219', 'range': (992, 1217)}]}, 'id_hash_keys': ['content'], 'embedding': None, 'id': 'a1a37dd4f3505721001f394fbd2314ee'}>,\n",
              "  <Document: {'content': 'For example, fruit flies are\\nable to metabolize alcohol like humans, so the genes affecting sensitivity to alcohol have been studied in fruit flies in\\nan effort to understand the variation in sensitivity to alcohol in humans. Having entire genomes sequenced helps\\nwith the research efforts in these model organisms (Figure 10.12).\\nFIGURE 10.12 Much basic research is done with model organisms, such as the mouse, Mus musculus; the fruit fly, Drosophila\\nmelanogaster; the nematode Caenorhabditis elegans; the yeast Saccharomyces cerevisiae; and the common weed, Arabidopsis thaliana.\\n(credit \"mouse\": modification of work by Florean Fortescue; credit \"nematodes\": modification of work by \"snickclunk\"/Flickr; credit\\n\"common weed\": modification of work by Peggy Greb, USDA; scale-bar data from Matt Russell)\\nThe first human genome sequence was published in 2003. The number of whole genomes that have been\\nsequenced steadily increases and now includes hundreds of species and thousands of individual human genomes.\\n236\\n10 • Biotechnology\\nAccess for free at openstax.org', 'content_type': 'text', 'score': None, 'meta': {'_split_id': 2, '_split_overlap': [{'doc_id': 'a1a37dd4f3505721001f394fbd2314ee', 'range': (0, 225)}]}, 'id_hash_keys': ['content'], 'embedding': None, 'id': '70bbb0cc810673e0493e68280f5cd219'}>,\n",
              "  <Document: {'content': \"8. The RNA components of ribosomes are synthesized\\nin the ________.\\na.\\ncytoplasm\\nb.\\nnucleus\\nc.\\nnucleolus\\nd.\\nendoplasmic reticulum\\n9. How long would the peptide be that is translated\\nfrom this MRNA sequence: 5'-AUGGGCUACCGA-3'?\\na.\\n0\\nb.\\n2\\nc.\\n3\\nd.\\n4\\n10. Control of gene expression in eukaryotic cells\\noccurs at which level(s)?\\na.\\nonly the transcriptional level\\nb.\\nepigenetic and transcriptional levels\\nc.\\nepigenetic, transcriptional, and translational\\nlevels\\nd.\\nepigenetic, transcriptional, post-\\ntranscriptional, translational, and post-\\ntranslational levels\\n11. Post-translational control refers to:\\na.\\nregulation of gene expression after\\ntranscription\\nb.\\nregulation of gene expression after translation\\nc.\\ncontrol of epigenetic activation\\nd.\\nperiod between transcription and translation\\nCritical Thinking Questions\\n12. Describe the organization of the eukaryotic\\nchromosome.\\n13. Describe the structure and complementary base\\npairing of DNA.\\n14. How do the linear chromosomes in eukaryotes\\nensure that its ends are replicated completely?\\n15. Transcribe and translate the following DNA\\nsequence (nontemplate strand): 5'-\\nATGGCCGGTTATTAAGCA-3'\\n16. Describe how controlling gene expression will\\nalter the overall protein levels in the cell.\\n222\\n9 • Critical Thinking Questions\\nAccess for free at openstax.org\", 'content_type': 'text', 'score': None, 'meta': {'_split_id': 0, '_split_overlap': []}, 'id_hash_keys': ['content'], 'embedding': None, 'id': 'b1a80c157b9acf05adfe4817b1df9f2c'}>,\n",
              "  <Document: {'content': 'The Genetic Code\\nTo summarize what we know to this point, the cellular process of transcription generates messenger RNA (mRNA), a\\nmobile molecular copy of one or more genes with an alphabet of A, C, G, and uracil (U). Translation of the mRNA\\ntemplate converts nucleotide-based genetic information into a protein product. Protein sequences consist of 20\\ncommonly occurring amino acids; therefore, it can be said that the protein alphabet consists of 20 letters. Each\\namino acid is defined by a three-nucleotide sequence called the triplet codon. The relationship between a\\nnucleotide codon and its corresponding amino acid is called the genetic code.\\nGiven the different numbers of “letters” in the mRNA and protein “alphabets,” combinations of nucleotides\\ncorresponded to single amino acids. Using a three-nucleotide code means that there are a total of 64 (4 × 4 × 4)\\npossible combinations; therefore, a given amino acid is encoded by more than one nucleotide triplet (Figure 9.20).\\nFIGURE 9.20 This figure shows the genetic code for translating each nucleotide triplet, or codon, in mRNA into an amino acid or a\\ntermination signal in a nascent protein. ', 'content_type': 'text', 'score': None, 'meta': {'_split_id': 0, '_split_overlap': [{'doc_id': '315eac90517a836989135dc28e793d20', 'range': (984, 1154)}]}, 'id_hash_keys': ['content'], 'embedding': None, 'id': '3d7c258bb8a8eb4fae3af01bcaa73e1b'}>,\n",
              "  <Document: {'content': \"FIGURE 9.20 This figure shows the genetic code for translating each nucleotide triplet, or codon, in mRNA into an amino acid or a\\ntermination signal in a nascent protein. (credit: modification of work by NIH)\\nThree of the 64 codons terminate protein synthesis and release the polypeptide from the translation machinery.\\nThese triplets are called stop codons. Another codon, AUG, also has a special function. In addition to specifying the\\namino acid methionine, it also serves as the start codon to initiate translation. The reading frame for translation is\\nset by the AUG start codon near the 5' end of the mRNA. The genetic code is universal. With a few exceptions,\\nvirtually all species use the same genetic code for protein synthesis, which is powerful evidence that all life on Earth\\nshares a common origin.\\nThe Mechanism of Protein Synthesis\\nJust as with mRNA synthesis, protein synthesis can be divided into three phases: initiation, elongation, and\\ntermination. The process of translation is similar in prokaryotes and eukaryotes. Here we will explore how\\ntranslation occurs in E. coli, a representative prokaryote, and specify any differences between prokaryotic and\\neukaryotic translation.\\nProtein synthesis begins with the formation of an initiation complex. \", 'content_type': 'text', 'score': None, 'meta': {'_split_id': 1, '_split_overlap': [{'doc_id': '3d7c258bb8a8eb4fae3af01bcaa73e1b', 'range': (0, 170)}, {'doc_id': '7f150d33d52de6a202186b5878ce21c2', 'range': (1038, 1268)}]}, 'id_hash_keys': ['content'], 'embedding': None, 'id': '315eac90517a836989135dc28e793d20'}>,\n",
              "  <Document: {'content': 'Here we will explore how\\ntranslation occurs in E. coli, a representative prokaryote, and specify any differences between prokaryotic and\\neukaryotic translation.\\nProtein synthesis begins with the formation of an initiation complex. In E. coli, this complex involves the small\\nribosome subunit, the mRNA template, three initiation factors, and a special initiator tRNA. The initiator tRNA\\ninteracts with the AUG start codon, and links to a special form of the amino acid methionine that is typically\\nremoved from the polypeptide after translation is complete.\\nIn prokaryotes and eukaryotes, the basics of polypeptide elongation are the same, so we will review elongation from\\nthe perspective of E. coli. The large ribosomal subunit of E. coli consists of three compartments: the A site binds\\nincoming charged tRNAs (tRNAs with their attached specific amino acids). The P site binds charged tRNAs carrying\\namino acids that have formed bonds with the growing polypeptide chain but have not yet dissociated from their\\ncorresponding tRNA. The E site releases dissociated tRNAs so they can be recharged with free amino acids. The\\n9.4 • Translation\\n213', 'content_type': 'text', 'score': None, 'meta': {'_split_id': 2, '_split_overlap': [{'doc_id': '315eac90517a836989135dc28e793d20', 'range': (0, 230)}]}, 'id_hash_keys': ['content'], 'embedding': None, 'id': '7f150d33d52de6a202186b5878ce21c2'}>,\n",
              "  <Document: {'content': \"FIGURE 9.17 Multiple polymerases can transcribe a single bacterial gene while numerous ribosomes concurrently translate the mRNA\\ntranscripts into polypeptides. In this way, a specific protein can rapidly reach a high concentration in the bacterial cell.\\nEukaryotic RNA Processing\\nThe newly transcribed eukaryotic mRNAs must undergo several processing steps before they can be transferred\\nfrom the nucleus to the cytoplasm and translated into a protein. The additional steps involved in eukaryotic mRNA\\nmaturation create a molecule that is much more stable than a prokaryotic mRNA. For example, eukaryotic mRNAs\\nlast for several hours, whereas the typical prokaryotic mRNA lasts no more than five seconds.\\nThe mRNA transcript is first coated in RNA-stabilizing proteins to prevent it from degrading while it is processed and\\nexported out of the nucleus. This occurs while the pre-mRNA still is being synthesized by adding a special\\nnucleotide “cap” to the 5' end of the growing transcript. In addition to preventing degradation, factors involved in\\nprotein synthesis recognize the cap to help initiate translation by ribosomes.\\nOnce elongation is complete, an enzyme then adds a string of approximately 200 adenine residues to the 3' end,\\ncalled the poly-A tail. \", 'content_type': 'text', 'score': None, 'meta': {'_split_id': 0, '_split_overlap': [{'doc_id': '57d9f680958d4c13df67d1fd5a779772', 'range': (1127, 1261)}]}, 'id_hash_keys': ['content'], 'embedding': None, 'id': '87bf477b29892ee04fd05eee0090cbbb'}>,\n",
              "  <Document: {'content': \"Once elongation is complete, an enzyme then adds a string of approximately 200 adenine residues to the 3' end,\\ncalled the poly-A tail. This modification further protects the pre-mRNA from degradation and signals to cellular\\nfactors that the transcript needs to be exported to the cytoplasm.\\nEukaryotic genes are composed of protein-coding sequences called exons (ex-on signifies that they are expressed)\\nand intervening sequences called introns (int-ron denotes their intervening role). Introns are removed from the pre-\\nmRNA during processing. Intron sequences in mRNA do not encode functional proteins. It is essential that all of a\\npre-mRNA’s introns be completely and precisely removed before protein synthesis so that the exons join together to\\ncode for the correct amino acids. If the process errs by even a single nucleotide, the sequence of the rejoined exons\\nwould be shifted, and the resulting protein would be nonfunctional. The process of removing introns and\\nreconnecting exons is called splicing (Figure 9.18). Introns are removed and degraded while the pre-mRNA is still in\\nthe nucleus.\\nFIGURE 9.18 Eukaryotic mRNA contains introns that must be spliced out. A 5' cap and 3' tail are also added.\\n9.3 • Transcription\\n211\", 'content_type': 'text', 'score': None, 'meta': {'_split_id': 1, '_split_overlap': [{'doc_id': '87bf477b29892ee04fd05eee0090cbbb', 'range': (0, 134)}]}, 'id_hash_keys': ['content'], 'embedding': None, 'id': '57d9f680958d4c13df67d1fd5a779772'}>,\n",
              "  <Document: {'content': 'several million SNPs identified, but identifying them in other individuals who have not had their complete genome\\nsequenced is much easier because only the marker SNPs need to be identified.\\nIn a common design for a GWAS, two groups of individuals are chosen; one group has the disease, and the other\\ngroup does not. The individuals in each group are matched in other characteristics to reduce the effect of\\nconfounding variables causing differences between the two groups. For example, the genotypes may differ because\\nthe two groups are mostly taken from different parts of the world. Once the individuals are chosen, and typically\\ntheir numbers are a thousand or more for the study to work, samples of their DNA are obtained. The DNA is analyzed\\nusing automated systems to identify large differences in the percentage of particular SNPs between the two groups.\\nOften the study examines a million or more SNPs in the DNA. The results of GWAS can be used in two ways: the\\ngenetic differences may be used as markers for susceptibility to the disease in undiagnosed individuals, and the\\nparticular genes identified can be targets for research into the molecular pathway of the disease and potential\\ntherapies. ', 'content_type': 'text', 'score': None, 'meta': {'_split_id': 0, '_split_overlap': [{'doc_id': 'a77c6fc8184712d8ab13c9ca6477f5a0', 'range': (924, 1208)}]}, 'id_hash_keys': ['content'], 'embedding': None, 'id': 'd8019d668bb1b0a8e4ec8d9414f723f4'}>,\n",
              "  <Document: {'content': 'The results of GWAS can be used in two ways: the\\ngenetic differences may be used as markers for susceptibility to the disease in undiagnosed individuals, and the\\nparticular genes identified can be targets for research into the molecular pathway of the disease and potential\\ntherapies. An offshoot of the discovery of gene associations with disease has been the formation of companies that\\nprovide so-called “personal genomics” that will identify risk levels for various diseases based on an individual’s SNP\\ncomplement. The science behind these services is controversial.\\nBecause GWAS looks for associations between genes and disease, these studies provide data for other research into\\ncauses, rather than answering specific questions themselves. An association between a gene difference and a\\ndisease does not necessarily mean there is a cause-and-effect relationship. However, some studies have provided\\nuseful information about the genetic causes of diseases. For example, three different studies in 2005 identified a\\ngene for a protein involved in regulating inflammation in the body that is associated with a disease-causing\\nblindness called age-related macular degeneration. This opened up new possibilities for research into the cause of\\nthis disease. ', 'content_type': 'text', 'score': None, 'meta': {'_split_id': 1, '_split_overlap': [{'doc_id': 'd8019d668bb1b0a8e4ec8d9414f723f4', 'range': (0, 284)}, {'doc_id': '84f46a33835b478a30bb06fe26f68a6f', 'range': (963, 1258)}]}, 'id_hash_keys': ['content'], 'embedding': None, 'id': 'a77c6fc8184712d8ab13c9ca6477f5a0'}>,\n",
              "  <Document: {'content': \"For example, three different studies in 2005 identified a\\ngene for a protein involved in regulating inflammation in the body that is associated with a disease-causing\\nblindness called age-related macular degeneration. This opened up new possibilities for research into the cause of\\nthis disease. A large number of genes have been identified to be associated with Crohn’s disease using GWAS, and\\nsome of these have suggested new hypothetical mechanisms for the cause of the disease.\\nPharmacogenomics\\nPharmacogenomics involves evaluating the effectiveness and safety of drugs on the basis of information from an\\nindividual's genomic sequence. Personal genome sequence information can be used to prescribe medications that\\nwill be most effective and least toxic on the basis of the individual patient’s genotype. Studying changes in gene\\nexpression could provide information about the gene transcription profile in the presence of the drug, which can be\\nused as an early indicator of the potential for toxic effects. For example, genes involved in cellular growth and\\ncontrolled cell death, when disturbed, could lead to the growth of cancerous cells. Genome-wide studies can also\\nhelp to find new genes involved in drug toxicity. \", 'content_type': 'text', 'score': None, 'meta': {'_split_id': 2, '_split_overlap': [{'doc_id': 'a77c6fc8184712d8ab13c9ca6477f5a0', 'range': (0, 295)}, {'doc_id': '757ca786ce2f53bfc7df7b3689b6c435', 'range': (1014, 1227)}]}, 'id_hash_keys': ['content'], 'embedding': None, 'id': '84f46a33835b478a30bb06fe26f68a6f'}>,\n",
              "  <Document: {'content': 'For example, genes involved in cellular growth and\\ncontrolled cell death, when disturbed, could lead to the growth of cancerous cells. Genome-wide studies can also\\nhelp to find new genes involved in drug toxicity. The gene signatures may not be completely accurate, but can be\\ntested further before pathologic symptoms arise.\\nMetagenomics\\nTraditionally, microbiology has been taught with the view that microorganisms are best studied under pure culture\\nconditions, which involves isolating a single type of cell and culturing it in the laboratory. Because microorganisms\\ncan go through several generations in a matter of hours, their gene expression profiles adapt to the new laboratory\\nenvironment very quickly. On the other hand, many species resist being cultured in isolation. Most microorganisms\\ndo not live as isolated entities, but in microbial communities known as biofilms. For all of these reasons, pure\\nculture is not always the best way to study microorganisms. Metagenomics is the study of the collective genomes of\\nmultiple species that grow and interact in an environmental niche. Metagenomics can be used to identify new\\nspecies more rapidly and to analyze the effect of pollutants on the environment (Figure 10.13). ', 'content_type': 'text', 'score': None, 'meta': {'_split_id': 3, '_split_overlap': [{'doc_id': '84f46a33835b478a30bb06fe26f68a6f', 'range': (0, 213)}, {'doc_id': 'a8aef62ffbba6c5b91b2d9f318f82391', 'range': (1096, 1232)}]}, 'id_hash_keys': ['content'], 'embedding': None, 'id': '757ca786ce2f53bfc7df7b3689b6c435'}>,\n",
              "  <Document: {'content': 'Metagenomics can be used to identify new\\nspecies more rapidly and to analyze the effect of pollutants on the environment (Figure 10.13). Metagenomics\\ntechniques can now also be applied to communities of higher eukaryotes, such as fish.\\n238\\n10 • Biotechnology\\nAccess for free at openstax.org', 'content_type': 'text', 'score': None, 'meta': {'_split_id': 4, '_split_overlap': [{'doc_id': '757ca786ce2f53bfc7df7b3689b6c435', 'range': (0, 136)}]}, 'id_hash_keys': ['content'], 'embedding': None, 'id': 'a8aef62ffbba6c5b91b2d9f318f82391'}>,\n",
              "  <Document: {'content': '\"vehicle\" in which to insert a desired DNA fragment. Modified plasmids are usually reintroduced into a bacterial host\\nfor replication. As the bacteria divide, they copy their own DNA (including the plasmids). The inserted DNA fragment\\nis copied along with the rest of the bacterial DNA. In a bacterial cell, the fragment of DNA from the human genome\\n(or another organism that is being studied) is referred to as foreign DNA to differentiate it from the DNA of the\\nbacterium (the host DNA).\\nPlasmids occur naturally in bacterial populations (such as Escherichia coli) and have genes that can contribute\\nfavorable traits to the organism, such as antibiotic resistance (the ability to be unaffected by antibiotics). Plasmids\\nhave been highly engineered as vectors for molecular cloning and for the subsequent large-scale production of\\nimportant molecules, such as insulin. A valuable characteristic of plasmid vectors is the ease with which a foreign\\nDNA fragment can be introduced. These plasmid vectors contain many short DNA sequences that can be cut with\\ndifferent commonly available restriction enzymes. ', 'content_type': 'text', 'score': None, 'meta': {'_split_id': 0, '_split_overlap': [{'doc_id': '493cfe6107e79de8479c3c8e60fb26e5', 'range': (870, 1105)}]}, 'id_hash_keys': ['content'], 'embedding': None, 'id': 'b50de472dac2425f3b21a5bbd0e857cd'}>,\n",
              "  <Document: {'content': 'A valuable characteristic of plasmid vectors is the ease with which a foreign\\nDNA fragment can be introduced. These plasmid vectors contain many short DNA sequences that can be cut with\\ndifferent commonly available restriction enzymes. Restriction enzymes (also called restriction endonucleases)\\nrecognize specific DNA sequences and cut them in a predictable manner; they are naturally produced by bacteria as\\na defense mechanism against foreign DNA. Many restriction enzymes make staggered cuts in the two strands of\\nDNA, such that the cut ends have a 2- to 4-nucleotide single-stranded overhang. The sequence that is recognized by\\nthe restriction enzyme is a four- to eight-nucleotide sequence that is a palindrome. Like with a word palindrome, this\\nmeans the sequence reads the same forward and backward. In most cases, the sequence reads the same forward\\non one strand and backward on the complementary strand. When a staggered cut is made in a sequence like this,\\nthe overhangs are complementary (Figure 10.5).\\n', 'content_type': 'text', 'score': None, 'meta': {'_split_id': 1, '_split_overlap': [{'doc_id': 'b50de472dac2425f3b21a5bbd0e857cd', 'range': (0, 235)}, {'doc_id': '1a651f4c1e5364b550af160bcc2f9d17', 'range': (808, 1015)}]}, 'id_hash_keys': ['content'], 'embedding': None, 'id': '493cfe6107e79de8479c3c8e60fb26e5'}>,\n",
              "  <Document: {'content': \"In most cases, the sequence reads the same forward\\non one strand and backward on the complementary strand. When a staggered cut is made in a sequence like this,\\nthe overhangs are complementary (Figure 10.5).\\nFIGURE 10.5 In this (a) six-nucleotide restriction enzyme recognition site, notice that the sequence of six nucleotides reads the same in the\\n5' to 3' direction on one strand as it does in the 5' to 3' direction on the complementary strand. This is known as a palindrome. (b) The\\nrestriction enzyme makes breaks in the DNA strands, and (c) the cut in the DNA results in “sticky ends”. Another piece of DNA cut on either\\nend by the same restriction enzyme could attach to these sticky ends and be inserted into the gap made by this cut.\\nBecause these overhangs are capable of coming back together by hydrogen bonding with complementary overhangs\\non a piece of DNA cut with the same restriction enzyme, these are called “sticky ends.” The process of forming\\nhydrogen bonds between complementary sequences on single strands to form double-stranded DNA is called\\nannealing. \", 'content_type': 'text', 'score': None, 'meta': {'_split_id': 2, '_split_overlap': [{'doc_id': '493cfe6107e79de8479c3c8e60fb26e5', 'range': (0, 207)}, {'doc_id': 'b8441b936235cad8085846073cdc907e', 'range': (744, 1077)}]}, 'id_hash_keys': ['content'], 'embedding': None, 'id': '1a651f4c1e5364b550af160bcc2f9d17'}>,\n",
              "  <Document: {'content': 'Because these overhangs are capable of coming back together by hydrogen bonding with complementary overhangs\\non a piece of DNA cut with the same restriction enzyme, these are called “sticky ends.” The process of forming\\nhydrogen bonds between complementary sequences on single strands to form double-stranded DNA is called\\nannealing. Addition of an enzyme called DNA ligase, which takes part in DNA replication in cells, permanently joins\\nthe DNA fragments when the sticky ends come together. In this way, any DNA fragment can be spliced between the\\ntwo ends of a plasmid DNA that has been cut with the same restriction enzyme (Figure 10.6).\\n10.1 • Cloning and Genetic Engineering\\n227', 'content_type': 'text', 'score': None, 'meta': {'_split_id': 3, '_split_overlap': [{'doc_id': '1a651f4c1e5364b550af160bcc2f9d17', 'range': (0, 333)}]}, 'id_hash_keys': ['content'], 'embedding': None, 'id': 'b8441b936235cad8085846073cdc907e'}>,\n",
              "  <Document: {'content': '10.2 Biotechnology in Medicine and Agriculture\\nLEARNING OBJECTIVES\\nBy the end of this section, you will be able to:\\n•\\nDescribe uses of biotechnology in medicine\\n•\\nDescribe uses of biotechnology in agriculture\\nIt is easy to see how biotechnology can be used for medicinal purposes. Knowledge of the genetic makeup of our\\nspecies, the genetic basis of heritable diseases, and the invention of technology to manipulate and fix mutant genes\\nprovides methods to treat diseases. Biotechnology in agriculture can enhance resistance to disease, pests, and\\nenvironmental stress to improve both crop yield and quality.\\nGenetic Diagnosis and Gene Therapy\\nThe process of testing for suspected genetic defects before administering treatment is called genetic diagnosis by\\ngenetic testing. In some cases in which a genetic disease is present in an individual’s family, family members may\\nbe advised to undergo genetic testing. For example, mutations in the BRCA genes may increase the likelihood of\\ndeveloping breast, ovarian, and some other cancers. A person with breast cancer can be screened for these\\nmutations. If one of the high-risk mutations is found, relatives may also wish to be screened for that particular\\nmutation, or simply be more vigilant for the occurrence of cancers. ', 'content_type': 'text', 'score': None, 'meta': {'_split_id': 0, '_split_overlap': [{'doc_id': '3b9d32010537802781b685268348485b', 'range': (1102, 1272)}]}, 'id_hash_keys': ['content'], 'embedding': None, 'id': '578fa3fc5a1154845220dbfa7b1599eb'}>,\n",
              "  <Document: {'content': 'If one of the high-risk mutations is found, relatives may also wish to be screened for that particular\\nmutation, or simply be more vigilant for the occurrence of cancers. Genetic testing is also offered for fetuses (or\\nembryos with in vitro fertilization) to determine the presence or absence of disease-causing genes in families with\\nspecific debilitating diseases.\\nLINK TO LEARNING\\nSee how human DNA is extracted (http://openstax.org/l/DNA_extraction) for uses such as genetic testing.\\nGene therapy is a genetic engineering technique that may one day be used to cure certain genetic diseases. In its\\nsimplest form, it involves the introduction of a non-mutated gene at a random location in the genome to cure a\\ndisease by replacing a protein that may be absent in these individuals because of a genetic mutation. The non-\\nmutated gene is usually introduced into diseased cells as part of a vector transmitted by a virus, such as an\\nadenovirus, that can infect the host cell and deliver the foreign DNA into the genome of the targeted cell (Figure\\n10.8). To date, gene therapies have been primarily experimental procedures in humans. ', 'content_type': 'text', 'score': None, 'meta': {'_split_id': 1, '_split_overlap': [{'doc_id': '578fa3fc5a1154845220dbfa7b1599eb', 'range': (0, 170)}, {'doc_id': '8243073543f1f24d6be0ee3702547476', 'range': (815, 1134)}]}, 'id_hash_keys': ['content'], 'embedding': None, 'id': '3b9d32010537802781b685268348485b'}>,\n",
              "  <Document: {'content': 'The non-\\nmutated gene is usually introduced into diseased cells as part of a vector transmitted by a virus, such as an\\nadenovirus, that can infect the host cell and deliver the foreign DNA into the genome of the targeted cell (Figure\\n10.8). To date, gene therapies have been primarily experimental procedures in humans. A few of these experimental\\ntreatments have been successful, but the methods may be important in the future as the factors limiting its success\\nare resolved.\\n10.2 • Biotechnology in Medicine and Agriculture\\n231', 'content_type': 'text', 'score': None, 'meta': {'_split_id': 2, '_split_overlap': [{'doc_id': '3b9d32010537802781b685268348485b', 'range': (0, 319)}]}, 'id_hash_keys': ['content'], 'embedding': None, 'id': '8243073543f1f24d6be0ee3702547476'}>,\n",
              "  <Document: {'content': 'FIGURE 10.17 This machine is preparing to do a proteomic pattern analysis to identify specific cancers so that an accurate cancer\\nprognosis can be made. (credit: Dorie Hightower, NCI, NIH)\\nThe National Cancer Institute has developed programs to improve the detection and treatment of cancer. The\\nClinical Proteomic Technologies for Cancer and the Early Detection Research Network are efforts to identify protein\\nsignatures specific to different types of cancers. The Biomedical Proteomics Program is designed to identify protein\\nsignatures and design effective therapies for cancer patients.\\n242\\n10 • Biotechnology\\nAccess for free at openstax.org', 'content_type': 'text', 'score': None, 'meta': {'_split_id': 0, '_split_overlap': []}, 'id_hash_keys': ['content'], 'embedding': None, 'id': 'b54e4e8c6dd974fa06a90f842338c833'}>,\n",
              "  <Document: {'content': 'FIGURE 10.4 Polymerase chain reaction, or PCR, is used to produce many copies of a specific sequence of DNA using a special form of DNA\\npolymerase.\\nCloning\\nIn general, cloning means the creation of a perfect replica. Typically, the word is used to describe the creation of a\\ngenetically identical copy. In biology, the re-creation of a whole organism is referred to as “reproductive cloning.”\\nLong before attempts were made to clone an entire organism, researchers learned how to copy short stretches of\\nDNA—a process that is referred to as molecular cloning. The technique offered methods to create new medicines\\nand to overcome difficulties with existing ones. When Lydia Villa-Komaroff, working in the Gilbert Lab at Harvard,\\npublished the first paper outlining the technique for producing synthetic insulin, diabetes researchers and patients\\nreceived new hope in fighting the disease. Insulin at that time was only produced using pig and cow pancreases, and\\nthe life-saving substance was often in short supply. Synthetic insulin, once mass produced, would solve that\\nproblem for many patients. These early discoveries led to the \"BioTech Boom,\" and spurred continued research and\\nfunding for newer and better ways to improve health.\\n', 'content_type': 'text', 'score': None, 'meta': {'_split_id': 0, '_split_overlap': [{'doc_id': '1aeb9e3f2635dfea552bae76ee779960', 'range': (1098, 1236)}]}, 'id_hash_keys': ['content'], 'embedding': None, 'id': 'bf2cf2e1e8183040f2bb4a3e3470cab4'}>,\n",
              "  <Document: {'content': 'These early discoveries led to the \"BioTech Boom,\" and spurred continued research and\\nfunding for newer and better ways to improve health.\\nMolecular Cloning\\nCloning allows for the creation of multiple copies of genes, expression of genes, and study of specific genes. To get\\nthe DNA fragment into a bacterial cell in a form that will be copied or expressed, the fragment is first inserted into a\\nplasmid. A plasmid (also called a vector in this context) is a small circular DNA molecule that replicates\\nindependently of the chromosomal DNA in bacteria. In cloning, the plasmid molecules can be used to provide a\\n226\\n10 • Biotechnology\\nAccess for free at openstax.org', 'content_type': 'text', 'score': None, 'meta': {'_split_id': 1, '_split_overlap': [{'doc_id': 'bf2cf2e1e8183040f2bb4a3e3470cab4', 'range': (0, 138)}]}, 'id_hash_keys': ['content'], 'embedding': None, 'id': '1aeb9e3f2635dfea552bae76ee779960'}>,\n",
              "  <Document: {'content': 'INTRODUCTION\\nCHAPTER 10\\nBiotechnology\\n10.1 Cloning and Genetic Engineering\\n10.2 Biotechnology in Medicine and Agriculture\\n10.3 Genomics and Proteomics\\nThe latter half of the twentieth century began with the discovery of the structure\\nof DNA, then progressed to the development of the basic tools used to study and manipulate DNA.\\nThese advances, as well as advances in our understanding of and ability to manipulate cells, have\\nled some to refer to the twenty-first century as the biotechnology century. The rate of discovery\\nand of the development of new applications in medicine, agriculture, and energy is expected to\\naccelerate, bringing huge benefits to humankind and perhaps also significant risks. Many of these\\ndevelopments are expected to raise significant ethical and social questions that human societies\\nhave not yet had to consider.\\n10.1 Cloning and Genetic Engineering\\nLEARNING OBJECTIVES\\nBy the end of this section, you will be able to:\\n•\\nExplain the basic techniques used to manipulate genetic material\\n•\\nExplain molecular and reproductive cloning\\nBiotechnology is the use of artificial methods to modify the genetic material of living organisms or\\ncells to produce novel compounds or to perform new functions. ', 'content_type': 'text', 'score': None, 'meta': {'_split_id': 0, '_split_overlap': [{'doc_id': '2f1304cc4b3be21d924f841cf53abea8', 'range': (846, 1226)}]}, 'id_hash_keys': ['content'], 'embedding': None, 'id': 'ae69d28bf14d5f4add7ce146fff16265'}>,\n",
              "  <Document: {'content': '10.1 Cloning and Genetic Engineering\\nLEARNING OBJECTIVES\\nBy the end of this section, you will be able to:\\n•\\nExplain the basic techniques used to manipulate genetic material\\n•\\nExplain molecular and reproductive cloning\\nBiotechnology is the use of artificial methods to modify the genetic material of living organisms or\\ncells to produce novel compounds or to perform new functions. Biotechnology has been used for\\nimproving livestock and crops since the beginning of agriculture through selective breeding. Since\\nthe discovery of the structure of DNA in 1953, and particularly since the development of tools and\\nmethods to manipulate DNA in the 1970s, biotechnology has become synonymous with the\\nmanipulation of organisms’ DNA at the molecular level. The primary applications of this\\ntechnology are in medicine (for the production of vaccines and antibiotics) and in agriculture (for\\nFIGURE 10.1 (a) A thermal cycler, such as the one shown here, is a basic tool used to study DNA in a process called\\nthe polymerase chain reaction (PCR). The polymerase enzyme most often used with PCR comes from a strain of\\nbacteria that lives in (b) the hot springs of Yellowstone National Park. ', 'content_type': 'text', 'score': None, 'meta': {'_split_id': 1, '_split_overlap': [{'doc_id': 'ae69d28bf14d5f4add7ce146fff16265', 'range': (0, 380)}, {'doc_id': 'd4db64555bd1868161dc388c69843a34', 'range': (1037, 1179)}]}, 'id_hash_keys': ['content'], 'embedding': None, 'id': '2f1304cc4b3be21d924f841cf53abea8'}>,\n",
              "  <Document: {'content': 'The polymerase enzyme most often used with PCR comes from a strain of\\nbacteria that lives in (b) the hot springs of Yellowstone National Park. (credit a: modification of work by Magnus\\nManske; credit b: modification of work by Jon Sullivan)\\nCHAPTER OUTLINE', 'content_type': 'text', 'score': None, 'meta': {'_split_id': 2, '_split_overlap': [{'doc_id': '2f1304cc4b3be21d924f841cf53abea8', 'range': (0, 142)}]}, 'id_hash_keys': ['content'], 'embedding': None, 'id': 'd4db64555bd1868161dc388c69843a34'}>,\n",
              "  <Document: {'content': 'advances in biotechnology have made it possible to reproductively clone mammals in the laboratory.\\nNatural sexual reproduction involves the union, during fertilization, of a sperm and an egg. Each of these gametes is\\nhaploid, meaning they contain one set of chromosomes in their nuclei. The resulting cell, or zygote, is then diploid\\nand contains two sets of chromosomes. This cell divides mitotically to produce a multicellular organism. However,\\nthe union of just any two cells cannot produce a viable zygote; there are components in the cytoplasm of the egg cell\\nthat are essential for the early development of the embryo during its first few cell divisions. Without these\\nprovisions, there would be no subsequent development. Therefore, to produce a new individual, both a diploid\\ngenetic complement and an egg cytoplasm are required. The approach to producing an artificially cloned individual\\nis to take the egg cell of one individual and to remove the haploid nucleus. Then a diploid nucleus from a body cell of\\na second individual, the donor, is put into the egg cell. The egg is then stimulated to divide so that development\\nproceeds. ', 'content_type': 'text', 'score': None, 'meta': {'_split_id': 0, '_split_overlap': [{'doc_id': 'f3500f29d50bde78251e48d1ba474a65', 'range': (976, 1143)}]}, 'id_hash_keys': ['content'], 'embedding': None, 'id': '9198f9cee0071ed040284c2608467286'}>,\n",
              "  <Document: {'content': 'Then a diploid nucleus from a body cell of\\na second individual, the donor, is put into the egg cell. The egg is then stimulated to divide so that development\\nproceeds. This sounds simple, but in fact it takes many attempts before each of the steps is completed successfully.\\nThe first cloned agricultural animal was Dolly, a sheep who was born in 1996. The success rate of reproductive\\ncloning at the time was very low. Dolly lived for six years and died of a lung tumor (Figure 10.7). There was\\nspeculation that because the cell DNA that gave rise to Dolly came from an older individual, the age of the DNA may\\nhave affected her life expectancy. Since Dolly, several species of animals (such as horses, bulls, and goats) have\\nbeen successfully cloned.\\nThere have been attempts at producing cloned human embryos as sources of embryonic stem cells. In the\\nprocedure, the DNA from an adult human is introduced into a human egg cell, which is then stimulated to divide. The\\ntechnology is similar to the technology that was used to produce Dolly, but the embryo is never implanted into a\\nsurrogate carrier. ', 'content_type': 'text', 'score': None, 'meta': {'_split_id': 1, '_split_overlap': [{'doc_id': '9198f9cee0071ed040284c2608467286', 'range': (0, 167)}, {'doc_id': '8d738067b2aa5e24f8fc7ce830c6ab2', 'range': (967, 1102)}]}, 'id_hash_keys': ['content'], 'embedding': None, 'id': 'f3500f29d50bde78251e48d1ba474a65'}>,\n",
              "  <Document: {'content': 'The\\ntechnology is similar to the technology that was used to produce Dolly, but the embryo is never implanted into a\\nsurrogate carrier. The cells produced are called embryonic stem cells because they have the capacity to develop into\\nmany different kinds of cells, such as muscle or nerve cells. The stem cells could be used to research and ultimately\\nprovide therapeutic applications, such as replacing damaged tissues. The benefit of cloning in this instance is that\\nthe cells used to regenerate new tissues would be a perfect match to the donor of the original DNA. For example, a\\nleukemia patient would not require a sibling with a tissue match for a bone-marrow transplant. Freda Miller and\\nElaine Fuchs, working independently, discovered stem cells in different layers of the skin. These cells help the skin\\nrepair itself, and their discovery may have applications in treatments of skin disease and potentially other\\nconditions, such as nerve damage.\\n10.1 • Cloning and Genetic Engineering\\n229', 'content_type': 'text', 'score': None, 'meta': {'_split_id': 2, '_split_overlap': [{'doc_id': 'f3500f29d50bde78251e48d1ba474a65', 'range': (0, 135)}]}, 'id_hash_keys': ['content'], 'embedding': None, 'id': '8d738067b2aa5e24f8fc7ce830c6ab2'}>,\n",
              "  <Document: {'content': 'FIGURE 10.6 This diagram shows the steps involved in molecular cloning.\\nPlasmids with foreign DNA inserted into them are called recombinant DNA molecules because they contain new\\ncombinations of genetic material. Proteins that are produced from recombinant DNA molecules are called\\nrecombinant proteins. Not all recombinant plasmids are capable of expressing genes. Plasmids may also be\\nengineered to express proteins only when stimulated by certain environmental factors, so that scientists can control\\nthe expression of the recombinant proteins.\\nReproductive Cloning\\nReproductive cloning is a method used to make a clone or an identical copy of an entire multicellular organism.\\nMost multicellular organisms undergo reproduction by sexual means, which involves the contribution of DNA from\\ntwo individuals (parents), making it impossible to generate an identical copy or a clone of either parent. Recent\\n228\\n10 • Biotechnology\\nAccess for free at openstax.org', 'content_type': 'text', 'score': None, 'meta': {'_split_id': 0, '_split_overlap': []}, 'id_hash_keys': ['content'], 'embedding': None, 'id': 'f16060d828f06244cd90e17854d1f76b'}>,\n",
              "  <Document: {'content': \"FIGURE 9.15 The initiation of transcription begins when DNA is unwound, forming a transcription bubble. Enzymes and other proteins\\ninvolved in transcription bind at the promoter.\\nElongation\\nTranscription always proceeds from one of the two DNA strands, which is called the template strand. The mRNA\\nproduct is complementary to the template strand and is almost identical to the other DNA strand, called the\\nnontemplate strand, with the exception that RNA contains a uracil (U) in place of the thymine (T) found in DNA.\\nDuring elongation, an enzyme called RNA polymerase proceeds along the DNA template adding nucleotides by\\nbase pairing with the DNA template in a manner similar to DNA replication, with the difference that an RNA strand is\\nbeing synthesized that does not remain bound to the DNA template. As elongation proceeds, the DNA is\\ncontinuously unwound ahead of the core enzyme and rewound behind it (Figure 9.16).\\nFIGURE 9.16 During elongation, RNA polymerase tracks along the DNA template, synthesizes mRNA in the 5' to 3' direction, and unwinds\\nthen rewinds the DNA as it is read.\\n\", 'content_type': 'text', 'score': None, 'meta': {'_split_id': 0, '_split_overlap': [{'doc_id': 'e0ba25f34de3514a2a64f76d82b48901', 'range': (925, 1093)}]}, 'id_hash_keys': ['content'], 'embedding': None, 'id': '28e8c74810e79918f1180a7c7308e594'}>,\n",
              "  <Document: {'content': \"FIGURE 9.16 During elongation, RNA polymerase tracks along the DNA template, synthesizes mRNA in the 5' to 3' direction, and unwinds\\nthen rewinds the DNA as it is read.\\nTermination\\nOnce a gene is transcribed, the prokaryotic polymerase needs to be instructed to dissociate from the DNA template\\nand liberate the newly made mRNA. Depending on the gene being transcribed, there are two kinds of termination\\nsignals, but both involve repeated nucleotide sequences in the DNA template that result in RNA polymerase stalling,\\nleaving the DNA template, and freeing the mRNA transcript.\\nOn termination, the process of transcription is complete. In a prokaryotic cell, by the time termination occurs, the\\ntranscript would already have been used to partially synthesize numerous copies of the encoded protein because\\nthese processes can occur concurrently using multiple ribosomes (polyribosomes) (Figure 9.17). In contrast, the\\npresence of a nucleus in eukaryotic cells precludes simultaneous transcription and translation.\\n210\\n9 • Molecular Biology\\nAccess for free at openstax.org\", 'content_type': 'text', 'score': None, 'meta': {'_split_id': 1, '_split_overlap': [{'doc_id': '28e8c74810e79918f1180a7c7308e594', 'range': (0, 168)}]}, 'id_hash_keys': ['content'], 'embedding': None, 'id': 'e0ba25f34de3514a2a64f76d82b48901'}>,\n",
              "  <Document: {'content': \"Differences in the Regulation of Gene Expression of Prokaryotic and Eukaryotic Organisms\\nProkaryotic organisms\\nEukaryotic organisms\\nLack nucleus\\nContain nucleus\\nRNA transcription and protein\\ntranslation occur almost\\nsimultaneously\\n•\\nRNA transcription occurs prior to protein translation, and it takes place\\nin the nucleus. RNA translation to protein occurs in the cytoplasm.\\n•\\nRNA post-processing includes addition of a 5' cap, poly-A tail, and\\nexcision of introns and splicing of exons.\\nGene expression is regulated\\nprimarily at the transcriptional level\\nGene expression is regulated at many levels (epigenetic, transcriptional,\\npost-transcriptional, translational, and post-translational)\\nTABLE 9.2\\nEVOLUTION CONNECTION\\nAlternative RNA Splicing\\nIn the 1970s, genes were first observed that exhibited alternative RNA splicing. Alternative RNA splicing is a\\nmechanism that allows different protein products to be produced from one gene when different combinations of\\nintrons (and sometimes exons) are removed from the transcript (Figure 9.23). This alternative splicing can be\\nhaphazard, but more often it is controlled and acts as a mechanism of gene regulation, with the frequency of\\ndifferent splicing alternatives controlled by the cell as a way to control the production of different protein products\\nin different cells, or at different stages of development. \", 'content_type': 'text', 'score': None, 'meta': {'_split_id': 0, '_split_overlap': [{'doc_id': 'd0bd1c3525485c22d651372e12065f3', 'range': (1044, 1364)}]}, 'id_hash_keys': ['content'], 'embedding': None, 'id': 'a8aded85dbf44a8b0317a0665a0033c2'}>,\n",
              "  <Document: {'content': 'This alternative splicing can be\\nhaphazard, but more often it is controlled and acts as a mechanism of gene regulation, with the frequency of\\ndifferent splicing alternatives controlled by the cell as a way to control the production of different protein products\\nin different cells, or at different stages of development. Alternative splicing is now understood to be a common\\nmechanism of gene regulation in eukaryotes; according to one estimate, 70% of genes in humans are expressed as\\nmultiple proteins through alternative splicing.\\n9.5 • How Genes Are Regulated\\n217', 'content_type': 'text', 'score': None, 'meta': {'_split_id': 1, '_split_overlap': [{'doc_id': 'a8aded85dbf44a8b0317a0665a0033c2', 'range': (0, 320)}]}, 'id_hash_keys': ['content'], 'embedding': None, 'id': 'd0bd1c3525485c22d651372e12065f3'}>,\n",
              "  <Document: {'content': 'FIGURE 9.2 Scientist Rosalind Franklin discovered the X-ray diffraction pattern of DNA, which helped to elucidate its double helix structure.\\n(credit: modification of work by NIH)\\nNow let’s consider the structure of the two types of nucleic acids, deoxyribonucleic acid (DNA) and ribonucleic acid\\n(RNA). The building blocks of DNA are nucleotides, which are made up of three parts: a deoxyribose (5-carbon\\nsugar), a phosphate group, and a nitrogenous base (Figure 9.3). There are four types of nitrogenous bases in DNA.\\nAdenine (A) and guanine (G) are double-ringed purines, and cytosine (C) and thymine (T) are smaller, single-ringed\\npyrimidines. The nucleotide is named according to the nitrogenous base it contains.\\n9.1 • The Structure of DNA\\n199', 'content_type': 'text', 'score': None, 'meta': {'_split_id': 0, '_split_overlap': []}, 'id_hash_keys': ['content'], 'embedding': None, 'id': 'b62821f02f95825e8426237e848a20f8'}>,\n",
              "  <Document: {'content': 'FIGURE 10.16 Transgenic agricultural plants can be made to resist disease. These transgenic plums are resistant to the plum pox virus.\\n(credit: Scott Bauer, USDA ARS)\\nProteomics\\nProteins are the final products of genes that perform the function encoded by the gene. Proteins are composed of\\namino acids and play important roles in the cell. All enzymes (except ribozymes) are proteins and act as catalysts\\nthat affect the rate of reactions. Proteins are also regulatory molecules, and some are hormones. Transport proteins,\\nsuch as hemoglobin, help transport oxygen to various organs. Antibodies that defend against foreign particles are\\nalso proteins. In the diseased state, protein function can be impaired because of changes at the genetic level or\\nbecause of direct impact on a specific protein.\\nA proteome is the entire set of proteins produced by a cell type. Proteomes can be studied using the knowledge of\\ngenomes because genes code for mRNAs, and the mRNAs encode proteins. The study of the function of proteomes\\nis called proteomics. Proteomics complements genomics and is useful when scientists want to test their\\nhypotheses that were based on genes. ', 'content_type': 'text', 'score': None, 'meta': {'_split_id': 0, '_split_overlap': [{'doc_id': 'd81d986ee39d30675af976b1bf994c5a', 'range': (983, 1161)}]}, 'id_hash_keys': ['content'], 'embedding': None, 'id': '38c557089378fffcf6e07fae8baa7c83'}>,\n",
              "  <Document: {'content': 'The study of the function of proteomes\\nis called proteomics. Proteomics complements genomics and is useful when scientists want to test their\\nhypotheses that were based on genes. Even though all cells in a multicellular organism have the same set of genes,\\nthe set of proteins produced in different tissues is different and dependent on gene expression. Thus, the genome is\\nconstant, but the proteome varies and is dynamic within an organism. In addition, RNAs can be alternatively spliced\\n(cut and pasted to create novel combinations and novel proteins), and many proteins are modified after translation.\\nAlthough the genome provides a blueprint, the final architecture depends on several factors that can change the\\nprogression of events that generate the proteome.\\nGenomes and proteomes of patients suffering from specific diseases are being studied to understand the genetic\\nbasis of the disease. The most prominent disease being studied with proteomic approaches is cancer (Figure 10.17).\\nProteomic approaches are being used to improve the screening and early detection of cancer; this is achieved by\\nidentifying proteins whose expression is affected by the disease process. ', 'content_type': 'text', 'score': None, 'meta': {'_split_id': 1, '_split_overlap': [{'doc_id': '38c557089378fffcf6e07fae8baa7c83', 'range': (0, 178)}, {'doc_id': '87754bbfce07365fae66b925a0bce0e5', 'range': (994, 1179)}]}, 'id_hash_keys': ['content'], 'embedding': None, 'id': 'd81d986ee39d30675af976b1bf994c5a'}>,\n",
              "  <Document: {'content': 'Proteomic approaches are being used to improve the screening and early detection of cancer; this is achieved by\\nidentifying proteins whose expression is affected by the disease process. An individual protein is called a\\nbiomarker, whereas a set of proteins with altered expression levels is called a protein signature. For a biomarker or\\nprotein signature to be useful as a candidate for early screening and detection of a cancer, it must be secreted in\\nbody fluids such as sweat, blood, or urine, so that large-scale screenings can be performed in a noninvasive fashion.\\nThe current problem with using biomarkers for the early detection of cancer is the high rate of false-negative results.\\nA false-negative result is a negative test result that should have been positive. In other words, many cases of cancer\\ngo undetected, which makes biomarkers unreliable. Some examples of protein biomarkers used in cancer detection\\nare CA-125 for ovarian cancer and PSA for prostate cancer. Protein signatures may be more reliable than biomarkers\\nto detect cancer cells. ', 'content_type': 'text', 'score': None, 'meta': {'_split_id': 2, '_split_overlap': [{'doc_id': 'd81d986ee39d30675af976b1bf994c5a', 'range': (0, 185)}, {'doc_id': 'f1fdffaa4c5fdd10930ad757eaeec5fd', 'range': (861, 1060)}]}, 'id_hash_keys': ['content'], 'embedding': None, 'id': '87754bbfce07365fae66b925a0bce0e5'}>,\n",
              "  <Document: {'content': 'Some examples of protein biomarkers used in cancer detection\\nare CA-125 for ovarian cancer and PSA for prostate cancer. Protein signatures may be more reliable than biomarkers\\nto detect cancer cells. Proteomics is also being used to develop individualized treatment plans, which involves the\\nprediction of whether or not an individual will respond to specific drugs and the side effects that the individual may\\nhave. Proteomics is also being used to predict the possibility of disease recurrence.\\n10.3 • Genomics and Proteomics\\n241', 'content_type': 'text', 'score': None, 'meta': {'_split_id': 3, '_split_overlap': [{'doc_id': '87754bbfce07365fae66b925a0bce0e5', 'range': (0, 199)}]}, 'id_hash_keys': ['content'], 'embedding': None, 'id': 'f1fdffaa4c5fdd10930ad757eaeec5fd'}>,\n",
              "  <Document: {'content': 'VISUAL CONNECTION\\nFIGURE 10.7 Dolly the sheep was the first agricultural animal to be cloned. To create Dolly, the nucleus was removed from a donor egg cell.\\nThe enucleated egg was placed next to the other cell, then they were shocked to fuse. They were shocked again to start division. The cells\\nwere allowed to divide for several days until an early embryonic stage was reached, before being implanted in a surrogate mother.\\nWhy was Dolly a Finn-Dorset and not a Scottish Blackface sheep?\\nGenetic Engineering\\nUsing recombinant DNA technology to modify an organism’s DNA to achieve desirable traits is called genetic\\nengineering. Addition of foreign DNA in the form of recombinant DNA vectors that are generated by molecular\\ncloning is the most common method of genetic engineering. An organism that receives the recombinant DNA is\\ncalled a genetically modified organism (GMO). If the foreign DNA that is introduced comes from a different species,\\nthe host organism is called transgenic. Bacteria, plants, and animals have been genetically modified since the early\\n1970s for academic, medical, agricultural, and industrial purposes. These applications will be examined in more\\ndetail in the next module.\\n', 'content_type': 'text', 'score': None, 'meta': {'_split_id': 0, '_split_overlap': [{'doc_id': 'd4a8f62d89626aa8ece89e1c7b7b263c', 'range': (989, 1204)}]}, 'id_hash_keys': ['content'], 'embedding': None, 'id': 'b19d49ecc65436c2100773bc77a66f47'}>,\n",
              "  <Document: {'content': 'Bacteria, plants, and animals have been genetically modified since the early\\n1970s for academic, medical, agricultural, and industrial purposes. These applications will be examined in more\\ndetail in the next module.\\nLINK TO LEARNING\\nWatch this short video (http://openstax.org/l/transgenic) explaining how scientists create a transgenic animal.\\nAlthough the classic methods of studying the function of genes began with a given phenotype and determined the\\ngenetic basis of that phenotype, modern techniques allow researchers to start at the DNA sequence level and ask:\\n\"What does this gene or DNA element do?\"This technique, called reverse genetics, has resulted in reversing the\\nclassical genetic methodology. One example of this method is analogous to damaging a body part to determine its\\nfunction. An insect that loses a wing cannot fly, which means that the wing’s function is flight. The classic genetic\\nmethod compares insects that cannot fly with insects that can fly, and observes that the non-flying insects have lost\\nwings. Similarly in a reverse genetics approach, mutating or deleting genes provides researchers with clues about\\ngene function. Alternately, reverse genetics can be used to cause a gene to overexpress itself to determine what\\nphenotypic effects may occur.\\n', 'content_type': 'text', 'score': None, 'meta': {'_split_id': 1, '_split_overlap': [{'doc_id': 'b19d49ecc65436c2100773bc77a66f47', 'range': (0, 215)}, {'doc_id': '4170bc0faf6b60a8ff2be7badaa1bb52', 'range': (1157, 1284)}]}, 'id_hash_keys': ['content'], 'embedding': None, 'id': 'd4a8f62d89626aa8ece89e1c7b7b263c'}>,\n",
              "  <Document: {'content': 'Alternately, reverse genetics can be used to cause a gene to overexpress itself to determine what\\nphenotypic effects may occur.\\n230\\n10 • Biotechnology\\nAccess for free at openstax.org', 'content_type': 'text', 'score': None, 'meta': {'_split_id': 2, '_split_overlap': [{'doc_id': 'd4a8f62d89626aa8ece89e1c7b7b263c', 'range': (0, 127)}]}, 'id_hash_keys': ['content'], 'embedding': None, 'id': '4170bc0faf6b60a8ff2be7badaa1bb52'}>,\n",
              "  <Document: {'content': 'complementary mRNA molecule\\ntranscription bubble\\nthe region of locally unwound\\nDNA that allows for transcription of mRNA\\ntRNA\\ntransfer RNA; an RNA molecule that contains a\\nspecific three-nucleotide anticodon sequence to\\npair with the mRNA codon and also binds to a\\nspecific amino acid\\nChapter Summary\\n9.1 The Structure of DNA\\nThe model of the double-helix structure of DNA was\\nproposed by Watson and Crick. The DNA molecule is a\\npolymer of nucleotides. Each nucleotide is composed\\nof a nitrogenous base, a five-carbon sugar\\n(deoxyribose), and a phosphate group. There are four\\nnitrogenous bases in DNA, two purines (adenine and\\nguanine) and two pyrimidines (cytosine and thymine).\\nA DNA molecule is composed of two strands. Each\\nstrand is composed of nucleotides bonded together\\ncovalently between the phosphate group of one and\\nthe deoxyribose sugar of the next. From this backbone\\nextend the bases. The bases of one strand bond to the\\nbases of the second strand with hydrogen bonds.\\nAdenine always bonds with thymine, and cytosine\\nalways bonds with guanine. The bonding causes the\\ntwo strands to spiral around each other in a shape\\ncalled a double helix. Ribonucleic acid (RNA) is a\\nsecond nucleic acid found in cells. ', 'content_type': 'text', 'score': None, 'meta': {'_split_id': 0, '_split_overlap': [{'doc_id': 'c4fe37ac3359caea8a44eee4d5e1e5c8', 'range': (1060, 1220)}]}, 'id_hash_keys': ['content'], 'embedding': None, 'id': 'a88b076b742bb0774ff417109b206644'}>,\n",
              "  <Document: {'content': 'The bonding causes the\\ntwo strands to spiral around each other in a shape\\ncalled a double helix. Ribonucleic acid (RNA) is a\\nsecond nucleic acid found in cells. RNA is a single-\\nstranded polymer of nucleotides. It also differs from\\nDNA in that it contains the sugar ribose, rather than\\ndeoxyribose, and the nucleotide uracil rather than\\nthymine. Various RNA molecules function in the\\nprocess of forming proteins from the genetic code in\\nDNA.\\nProkaryotes contain a single, double-stranded circular\\nchromosome. Eukaryotes contain double-stranded\\nlinear DNA molecules packaged into chromosomes.\\nThe DNA helix is wrapped around proteins to form\\nnucleosomes. The protein coils are further coiled, and\\nduring mitosis and meiosis, the chromosomes become\\neven more greatly coiled to facilitate their movement.\\nChromosomes have two distinct regions which can be\\ndistinguished by staining, reflecting different degrees\\nof packaging and determined by whether the DNA in a\\nregion is being expressed (euchromatin) or not\\n(heterochromatin).\\n9.2 DNA Replication\\nDNA replicates by a semi-conservative method in\\nwhich each of the two parental DNA strands act as a\\ntemplate for new DNA to be synthesized. After\\nreplication, each DNA has one parental or “old” strand,\\nand one daughter or “new” strand.\\n', 'content_type': 'text', 'score': None, 'meta': {'_split_id': 1, '_split_overlap': [{'doc_id': 'a88b076b742bb0774ff417109b206644', 'range': (0, 160)}, {'doc_id': '3dc25fda113f0e398e7b3e84d1c27388', 'range': (1027, 1282)}]}, 'id_hash_keys': ['content'], 'embedding': None, 'id': 'c4fe37ac3359caea8a44eee4d5e1e5c8'}>,\n",
              "  <Document: {'content': '9.2 DNA Replication\\nDNA replicates by a semi-conservative method in\\nwhich each of the two parental DNA strands act as a\\ntemplate for new DNA to be synthesized. After\\nreplication, each DNA has one parental or “old” strand,\\nand one daughter or “new” strand.\\nReplication in eukaryotes starts at multiple origins of\\nreplication, while replication in prokaryotes starts from\\na single origin of replication. The DNA is opened with\\nenzymes, resulting in the formation of the replication\\nfork. Primase synthesizes an RNA primer to initiate\\nsynthesis by DNA polymerase, which can add\\nnucleotides in only one direction. One strand is\\nsynthesized continuously in the direction of the\\nreplication fork; this is called the leading strand. The\\nother strand is synthesized in a direction away from the\\nreplication fork, in short stretches of DNA known as\\nOkazaki fragments. This strand is known as the lagging\\nstrand. Once replication is completed, the RNA primers\\nare replaced by DNA nucleotides and the DNA is sealed\\nwith DNA ligase.\\nThe ends of eukaryotic chromosomes pose a problem,\\nas polymerase is unable to extend them without a\\nprimer. ', 'content_type': 'text', 'score': None, 'meta': {'_split_id': 2, '_split_overlap': [{'doc_id': 'c4fe37ac3359caea8a44eee4d5e1e5c8', 'range': (0, 255)}, {'doc_id': '931600e89622352f1eba1da2365ae2a0', 'range': (903, 1128)}]}, 'id_hash_keys': ['content'], 'embedding': None, 'id': '3dc25fda113f0e398e7b3e84d1c27388'}>,\n",
              "  <Document: {'content': 'Once replication is completed, the RNA primers\\nare replaced by DNA nucleotides and the DNA is sealed\\nwith DNA ligase.\\nThe ends of eukaryotic chromosomes pose a problem,\\nas polymerase is unable to extend them without a\\nprimer. Telomerase, an enzyme with an inbuilt RNA\\ntemplate, extends the ends by copying the RNA\\ntemplate and extending one end of the chromosome.\\nDNA polymerase can then extend the DNA using the\\nprimer. In this way, the ends of the chromosomes are\\nprotected. Cells have mechanisms for repairing DNA\\nwhen it becomes damaged or errors are made in\\nreplication. These mechanisms include mismatch\\nrepair to replace nucleotides that are paired with a\\nnon-complementary base and nucleotide excision\\nrepair, which removes bases that are damaged such as\\nthymine dimers.\\n9.3 Transcription\\nIn prokaryotes, mRNA synthesis is initiated at a\\npromoter sequence on the DNA template. Elongation\\nsynthesizes new mRNA. Termination liberates the\\nmRNA and occurs by mechanisms that stall the RNA\\npolymerase and cause it to fall off the DNA template.\\nNewly transcribed eukaryotic mRNAs are modified with\\na cap and a poly-A tail. These structures protect the\\nmature mRNA from degradation and help export it from\\nthe nucleus. ', 'content_type': 'text', 'score': None, 'meta': {'_split_id': 3, '_split_overlap': [{'doc_id': '3dc25fda113f0e398e7b3e84d1c27388', 'range': (0, 225)}, {'doc_id': '28327234c1015275d9ce7f9d1218b726', 'range': (1047, 1219)}]}, 'id_hash_keys': ['content'], 'embedding': None, 'id': '931600e89622352f1eba1da2365ae2a0'}>,\n",
              "  <Document: {'content': 'Newly transcribed eukaryotic mRNAs are modified with\\na cap and a poly-A tail. These structures protect the\\nmature mRNA from degradation and help export it from\\nthe nucleus. Eukaryotic mRNAs also undergo splicing,\\nin which introns are removed and exons are\\nreconnected with single-nucleotide accuracy. Only\\nfinished mRNAs are exported from the nucleus to the\\ncytoplasm.\\n9.4 Translation\\nThe central dogma describes the flow of genetic\\ninformation in the cell from genes to mRNA to proteins.\\nGenes are used to make mRNA by the process of\\n220\\n9 • Chapter Summary\\nAccess for free at openstax.org', 'content_type': 'text', 'score': None, 'meta': {'_split_id': 4, '_split_overlap': [{'doc_id': '931600e89622352f1eba1da2365ae2a0', 'range': (0, 172)}]}, 'id_hash_keys': ['content'], 'embedding': None, 'id': '28327234c1015275d9ce7f9d1218b726'}>,\n",
              "  <Document: {'content': '9.3 Transcription\\nLEARNING OBJECTIVES\\nBy the end of this section, you will be able to:\\n•\\nExplain the central dogma\\n•\\nExplain the main steps of transcription\\n•\\nDescribe how eukaryotic mRNA is processed\\nIn both prokaryotes and eukaryotes, the second function of DNA (the first was replication) is to provide the\\ninformation needed to construct the proteins necessary so that the cell can perform all of its functions. To do this,\\nthe DNA is “read” or transcribed into an mRNA molecule. The mRNA then provides the code to form a protein by a\\nprocess called translation. Through the processes of transcription and translation, a protein is built with a specific\\nsequence of amino acids that was originally encoded in the DNA. This module discusses the details of transcription.\\nThe Central Dogma: DNA Encodes RNA; RNA Encodes Protein\\nThe flow of genetic information in cells from DNA to mRNA to protein is described by the central dogma (Figure\\n9.14), which states that genes specify the sequences of mRNAs, which in turn specify the sequences of proteins.\\nFIGURE 9.14 The central dogma states that DNA encodes RNA, which in turn encodes protein.\\n', 'content_type': 'text', 'score': None, 'meta': {'_split_id': 0, '_split_overlap': [{'doc_id': '7815a367ef45437df258395ae22d4bbf', 'range': (774, 1142)}]}, 'id_hash_keys': ['content'], 'embedding': None, 'id': '657f96ae3f51975acf957837bcd6bba0'}>,\n",
              "  <Document: {'content': 'The Central Dogma: DNA Encodes RNA; RNA Encodes Protein\\nThe flow of genetic information in cells from DNA to mRNA to protein is described by the central dogma (Figure\\n9.14), which states that genes specify the sequences of mRNAs, which in turn specify the sequences of proteins.\\nFIGURE 9.14 The central dogma states that DNA encodes RNA, which in turn encodes protein.\\nThe copying of DNA to mRNA is relatively straightforward, with one nucleotide being added to the mRNA strand for\\nevery complementary nucleotide read in the DNA strand. The translation to protein is more complex because groups\\nof three mRNA nucleotides correspond to one amino acid of the protein sequence. However, as we shall see in the\\nnext module, the translation to protein is still systematic, such that nucleotides 1 to 3 correspond to amino acid 1,\\nnucleotides 4 to 6 correspond to amino acid 2, and so on.\\nTranscription: from DNA to mRNA\\nBoth prokaryotes and eukaryotes perform fundamentally the same process of transcription, with the important\\ndifference of the membrane-bound nucleus in eukaryotes. ', 'content_type': 'text', 'score': None, 'meta': {'_split_id': 1, '_split_overlap': [{'doc_id': '657f96ae3f51975acf957837bcd6bba0', 'range': (0, 368)}, {'doc_id': '7360ba310166418e0ea056cf4c3edf9a', 'range': (883, 1078)}]}, 'id_hash_keys': ['content'], 'embedding': None, 'id': '7815a367ef45437df258395ae22d4bbf'}>,\n",
              "  <Document: {'content': 'Transcription: from DNA to mRNA\\nBoth prokaryotes and eukaryotes perform fundamentally the same process of transcription, with the important\\ndifference of the membrane-bound nucleus in eukaryotes. With the genes bound in the nucleus, transcription\\noccurs in the nucleus of the cell and the mRNA transcript must be transported to the cytoplasm. The prokaryotes,\\nwhich include bacteria and archaea, lack membrane-bound nuclei and other organelles, and transcription occurs in\\nthe cytoplasm of the cell. In both prokaryotes and eukaryotes, transcription occurs in three main stages: initiation,\\nelongation, and termination.\\nInitiation\\nTranscription requires the DNA double helix to partially unwind in the region of mRNA synthesis. The region of\\nunwinding is called a transcription bubble. The DNA sequence onto which the proteins and enzymes involved in\\ntranscription bind to initiate the process is called a promoter. In most cases, promoters exist upstream of the genes\\nthey regulate. The specific sequence of a promoter is very important because it determines whether the\\ncorresponding gene is transcribed all of the time, some of the time, or hardly at all (Figure 9.15).\\n9.3 • Transcription\\n209', 'content_type': 'text', 'score': None, 'meta': {'_split_id': 2, '_split_overlap': [{'doc_id': '7815a367ef45437df258395ae22d4bbf', 'range': (0, 195)}]}, 'id_hash_keys': ['content'], 'embedding': None, 'id': '7360ba310166418e0ea056cf4c3edf9a'}>,\n",
              "  <Document: {'content': 'similarities in the DNA replication process, these structural differences necessitate some differences in the DNA\\nreplication process in these two life forms.\\nDNA replication has been extremely well-studied in prokaryotes, primarily because of the small size of the genome\\nand large number of variants available. Escherichia coli has 4.6 million base pairs in a single circular chromosome,\\nand all of it gets replicated in approximately 42 minutes, starting from a single origin of replication and proceeding\\naround the chromosome in both directions. This means that approximately 1000 nucleotides are added per second.\\nThe process is much more rapid than in eukaryotes. Table 9.1 summarizes the differences between prokaryotic and\\neukaryotic replications.\\nDifferences between Prokaryotic and Eukaryotic Replications\\nProperty\\nProkaryotes\\nEukaryotes\\nOrigin of replication\\nSingle\\nMultiple\\nRate of replication\\n1000 nucleotides/s\\n50 to 100 nucleotides/s\\nChromosome structure\\ncircular\\nlinear\\nTelomerase\\nNot present\\nPresent\\nTABLE 9.1\\nLINK TO LEARNING\\nClick through a tutorial (http://openstax.org/l/DNA_replicatio2) on DNA replication.\\nDNA Repair\\nDNA polymerase can make mistakes while adding nucleotides. It edits the DNA by proofreading every newly added\\nbase. Incorrect bases are removed and replaced by the correct base, and then polymerization continues (Figure\\n9.13a). ', 'content_type': 'text', 'score': None, 'meta': {'_split_id': 0, '_split_overlap': [{'doc_id': '6c00a225132a2e566c8508a257365af8', 'range': (1200, 1368)}]}, 'id_hash_keys': ['content'], 'embedding': None, 'id': 'ff6d311c2268a8910d625501ef050df7'}>,\n",
              "  <Document: {'content': \"It edits the DNA by proofreading every newly added\\nbase. Incorrect bases are removed and replaced by the correct base, and then polymerization continues (Figure\\n9.13a). Most mistakes are corrected during replication, although when this does not happen, the mismatch repair\\nmechanism is employed. Mismatch repair enzymes recognize the wrongly incorporated base and excise it from the\\nDNA, replacing it with the correct base (Figure 9.13b). In yet another type of repair, nucleotide excision repair, the\\nDNA double strand is unwound and separated, the incorrect bases are removed along with a few bases on the 5' and\\n3' end, and these are replaced by copying the template with the help of DNA polymerase (Figure 9.13c). Nucleotide\\nexcision repair is particularly important in correcting thymine dimers, which are primarily caused by ultraviolet light.\\nIn a thymine dimer, two thymine nucleotides adjacent to each other on one strand are covalently bonded to each\\nother rather than their complementary bases. If the dimer is not removed and repaired it will lead to a mutation.\\nIndividuals with flaws in their nucleotide excision repair genes show extreme sensitivity to sunlight and develop skin\\ncancers early in life.\\n9.2 • DNA Replication\\n207\", 'content_type': 'text', 'score': None, 'meta': {'_split_id': 1, '_split_overlap': [{'doc_id': 'ff6d311c2268a8910d625501ef050df7', 'range': (0, 168)}]}, 'id_hash_keys': ['content'], 'embedding': None, 'id': '6c00a225132a2e566c8508a257365af8'}>,\n",
              "  <Document: {'content': 'FIGURE 9.23 There are five basic modes of alternative splicing. Segments of pre-mRNA with exons shown in blue, red, orange, and pink can\\nbe spliced to produce a variety of new mature mRNA segments.\\nHow could alternative splicing evolve? Introns have a beginning and ending recognition sequence, and it is easy to\\nimagine the failure of the splicing mechanism to identify the end of an intron and find the end of the next intron, thus\\nremoving two introns and the intervening exon. In fact, there are mechanisms in place to prevent such exon\\nskipping, but mutations are likely to lead to their failure. Such “mistakes” would more than likely produce a\\nnonfunctional protein. Indeed, the cause of many genetic diseases is alternative splicing rather than mutations in a\\nsequence. However, alternative splicing would create a protein variant without the loss of the original protein,\\nopening up possibilities for adaptation of the new variant to new functions. Gene duplication has played an\\nimportant role in the evolution of new functions in a similar way—by providing genes that may evolve without\\neliminating the original functional protein.\\n218\\n9 • Molecular Biology\\nAccess for free at openstax.org', 'content_type': 'text', 'score': None, 'meta': {'_split_id': 0, '_split_overlap': []}, 'id_hash_keys': ['content'], 'embedding': None, 'id': 'dbde1631bafd1bc695cb9188914223b3'}>,\n",
              "  <Document: {'content': 'FIGURE 9.13 Proofreading by DNA polymerase (a) corrects errors during replication. In mismatch repair (b), the incorrectly added base is\\ndetected after replication. The mismatch repair proteins detect this base and remove it from the newly synthesized strand by nuclease\\naction. The gap is now filled with the correctly paired base. Nucleotide excision (c) repairs thymine dimers. When exposed to UV, thymines\\nlying adjacent to each other can form thymine dimers. In normal cells, they are excised and replaced.\\nMost mistakes are corrected; if they are not, they may result in a mutation—defined as a permanent change in the\\nDNA sequence. Mutations in repair genes may lead to serious consequences like cancer.\\n208\\n9 • Molecular Biology\\nAccess for free at openstax.org', 'content_type': 'text', 'score': None, 'meta': {'_split_id': 0, '_split_overlap': []}, 'id_hash_keys': ['content'], 'embedding': None, 'id': '3ad2b3ce094e7546434b4cf6301e9276'}>,\n",
              "  <Document: {'content': 'FIGURE 10.8 This diagram shows the steps involved in curing disease with gene therapy using an adenovirus vector. (credit: modification of\\nwork by NIH)\\nProduction of Vaccines, Antibiotics, and Hormones\\nTraditional vaccination strategies use weakened or inactive forms of microorganisms or viruses to stimulate the\\nimmune system. Modern techniques use specific genes of microorganisms cloned into vectors and mass-produced\\nin bacteria to make large quantities of specific substances to stimulate the immune system. The substance is then\\nused as a vaccine. In some cases, such as the H1N1 flu vaccine, genes cloned from the virus have been used to\\ncombat the constantly changing strains of this virus.\\nAntibiotics kill bacteria and are naturally produced by microorganisms such as fungi; penicillin is perhaps the most\\nwell-known example. Antibiotics are produced on a large scale by cultivating and manipulating fungal cells. The\\nfungal cells have typically been genetically modified to improve the yields of the antibiotic compound.\\nRecombinant DNA technology was used to produce large-scale quantities of the human hormone insulin in E. coli as\\nearly as 1978. ', 'content_type': 'text', 'score': None, 'meta': {'_split_id': 0, '_split_overlap': [{'doc_id': 'f4513f904160ce56f1e7720053b0b23c', 'range': (1033, 1160)}]}, 'id_hash_keys': ['content'], 'embedding': None, 'id': 'b244974712bb4c70a773033303338403'}>,\n",
              "  <Document: {'content': 'Recombinant DNA technology was used to produce large-scale quantities of the human hormone insulin in E. coli as\\nearly as 1978. Previously, it was only possible to treat diabetes with pig insulin, which caused allergic reactions in\\nmany humans because of differences in the insulin molecule. In addition, human growth hormone (HGH) is used to\\ntreat growth disorders in children. The HGH gene was cloned from a cDNA (complementary DNA) library and\\ninserted into E. coli cells by cloning it into a bacterial vector.\\nTransgenic Animals\\nAlthough several recombinant proteins used in medicine are successfully produced in bacteria, some proteins need\\na eukaryotic animal host for proper processing. For this reason, genes have been cloned and expressed in animals\\nsuch as sheep, goats, chickens, and mice. Animals that have been modified to express recombinant DNA are called\\ntransgenic animals (Figure 10.9).\\n232\\n10 • Biotechnology\\nAccess for free at openstax.org', 'content_type': 'text', 'score': None, 'meta': {'_split_id': 1, '_split_overlap': [{'doc_id': 'b244974712bb4c70a773033303338403', 'range': (0, 127)}]}, 'id_hash_keys': ['content'], 'embedding': None, 'id': 'f4513f904160ce56f1e7720053b0b23c'}>,\n",
              "  <Document: {'content': 'FIGURE 10.13 Metagenomics involves isolating DNA from multiple species within an environmental niche. The DNA is cut up and\\nsequenced, allowing entire genome sequences of multiple species to be reconstructed from the sequences of overlapping pieces.\\nCreation of New Biofuels\\nKnowledge of the genomics of microorganisms is being used to find better ways to harness biofuels from algae and\\ncyanobacteria. The primary sources of fuel today are coal, oil, wood, and other plant products such as ethanol.\\nAlthough plants are renewable resources, there is still a need to find more alternative renewable sources of energy\\nto meet our population’s energy demands. The microbial world is one of the largest resources for genes that encode\\nnew enzymes and produce new organic compounds, and it remains largely untapped. This vast genetic resource\\nholds the potential to provide new sources of biofuels (Figure 10.14).\\nFIGURE 10.14 Renewable fuels were tested in Navy ships and aircraft at the first Naval Energy Forum. (credit: modification of work by John\\nF. Williams, US Navy)\\n10.3 • Genomics and Proteomics\\n239', 'content_type': 'text', 'score': None, 'meta': {'_split_id': 0, '_split_overlap': []}, 'id_hash_keys': ['content'], 'embedding': None, 'id': 'e116943acde6fb5c844f3fe6d156b1fd'}>,\n",
              "  <Document: {'content': 'FIGURE 9.9 The semiconservative model of DNA replication is shown. Gray indicates the original DNA strands, and blue indicates newly\\nsynthesized DNA.\\nDuring DNA replication, each of the two strands that make up the double helix serves as a template from which new\\nstrands are copied. The new strand will be complementary to the parental or “old” strand. Each new double strand\\nconsists of one parental strand and one new daughter strand. This is known as semiconservative replication. When\\ntwo DNA copies are formed, they have an identical sequence of nucleotide bases and are divided equally into two\\ndaughter cells.\\nDNA Replication in Eukaryotes\\nBecause eukaryotic genomes are very complex, DNA replication is a very complicated process that involves several\\nenzymes and other proteins. It occurs in three main stages: initiation, elongation, and termination.\\nRecall that eukaryotic DNA is bound to proteins known as histones to form structures called nucleosomes. During\\ninitiation, the DNA is made accessible to the proteins and enzymes involved in the replication process. How does the\\nreplication machinery know where on the DNA double helix to begin? It turns out that there are specific nucleotide\\nsequences called origins of replication at which replication begins. ', 'content_type': 'text', 'score': None, 'meta': {'_split_id': 0, '_split_overlap': [{'doc_id': '54e9a765f23ca95960b9fc484bc44f56', 'range': (1078, 1274)}]}, 'id_hash_keys': ['content'], 'embedding': None, 'id': '3bc4e4baee44f1d1d65c64f68320b5b5'}>,\n",
              "  <Document: {'content': \"How does the\\nreplication machinery know where on the DNA double helix to begin? It turns out that there are specific nucleotide\\nsequences called origins of replication at which replication begins. Certain proteins bind to the origin of replication\\nwhile an enzyme called helicase unwinds and opens up the DNA helix. As the DNA opens up, Y-shaped structures\\ncalled replication forks are formed (Figure 9.10). Two replication forks are formed at the origin of replication, and\\nthese get extended in both directions as replication proceeds. There are multiple origins of replication on the\\neukaryotic chromosome, such that replication can occur simultaneously from several places in the genome.\\nDuring elongation, an enzyme called DNA polymerase adds DNA nucleotides to the 3' end of the template. Because\\nDNA polymerase can only add new nucleotides at the end of a backbone, a primer sequence, which provides this\\nstarting point, is added with complementary RNA nucleotides. This primer is removed later, and the nucleotides are\\nreplaced with DNA nucleotides. One strand, which is complementary to the parental DNA strand, is synthesized\\ncontinuously toward the replication fork so the polymerase can add nucleotides in this direction. \", 'content_type': 'text', 'score': None, 'meta': {'_split_id': 1, '_split_overlap': [{'doc_id': '3bc4e4baee44f1d1d65c64f68320b5b5', 'range': (0, 196)}, {'doc_id': '7b4cbb2507ae8d6796ff0c83d8ee23a7', 'range': (1058, 1233)}]}, 'id_hash_keys': ['content'], 'embedding': None, 'id': '54e9a765f23ca95960b9fc484bc44f56'}>,\n",
              "  <Document: {'content': \"One strand, which is complementary to the parental DNA strand, is synthesized\\ncontinuously toward the replication fork so the polymerase can add nucleotides in this direction. This continuously\\nsynthesized strand is known as the leading strand. Because DNA polymerase can only synthesize DNA in a 5' to 3'\\ndirection, the other new strand is put together in short pieces called Okazaki fragments. The Okazaki fragments\\neach require a primer made of RNA to start the synthesis. The strand with the Okazaki fragments is known as the\\nlagging strand. As synthesis proceeds, an enzyme removes the RNA primer, which is then replaced with DNA\\nnucleotides, and the gaps between fragments are sealed by an enzyme called DNA ligase.\\nThe process of DNA replication can be summarized as follows:\\n204\\n9 • Molecular Biology\\nAccess for free at openstax.org\", 'content_type': 'text', 'score': None, 'meta': {'_split_id': 2, '_split_overlap': [{'doc_id': '54e9a765f23ca95960b9fc484bc44f56', 'range': (0, 175)}]}, 'id_hash_keys': ['content'], 'embedding': None, 'id': '7b4cbb2507ae8d6796ff0c83d8ee23a7'}>],\n",
              " 'root_node': 'File',\n",
              " 'params': {},\n",
              " 'file_paths': ['/content/data/raw_files/document_26.txt',\n",
              "  '/content/data/raw_files/document_29.txt',\n",
              "  '/content/data/raw_files/document_24.txt',\n",
              "  '/content/data/raw_files/document_10.txt',\n",
              "  '/content/data/raw_files/document_2.txt',\n",
              "  '/content/data/raw_files/document_30.txt',\n",
              "  '/content/data/raw_files/document_1.txt',\n",
              "  '/content/data/raw_files/document_39.txt',\n",
              "  '/content/data/raw_files/document_38.txt',\n",
              "  '/content/data/raw_files/document_19.txt',\n",
              "  '/content/data/raw_files/document_40.txt',\n",
              "  '/content/data/raw_files/document_20.txt',\n",
              "  '/content/data/raw_files/document_42.txt',\n",
              "  '/content/data/raw_files/document_5.txt',\n",
              "  '/content/data/raw_files/document_7.txt',\n",
              "  '/content/data/raw_files/document_49.txt',\n",
              "  '/content/data/raw_files/document_45.txt',\n",
              "  '/content/data/raw_files/document_8.txt',\n",
              "  '/content/data/raw_files/document_6.txt',\n",
              "  '/content/data/raw_files/document_17.txt',\n",
              "  '/content/data/raw_files/document_11.txt',\n",
              "  '/content/data/raw_files/document_21.txt',\n",
              "  '/content/data/raw_files/document_3.txt',\n",
              "  '/content/data/raw_files/document_48.txt',\n",
              "  '/content/data/raw_files/document_41.txt',\n",
              "  '/content/data/raw_files/document_27.txt',\n",
              "  '/content/data/raw_files/document_18.txt',\n",
              "  '/content/data/raw_files/document_16.txt',\n",
              "  '/content/data/raw_files/document_43.txt',\n",
              "  '/content/data/raw_files/document_32.txt',\n",
              "  '/content/data/raw_files/document_36.txt',\n",
              "  '/content/data/raw_files/document_47.txt',\n",
              "  '/content/data/raw_files/document_31.txt',\n",
              "  '/content/data/raw_files/document_28.txt',\n",
              "  '/content/data/raw_files/document_34.txt',\n",
              "  '/content/data/raw_files/document_33.txt',\n",
              "  '/content/data/raw_files/document_15.txt',\n",
              "  '/content/data/raw_files/document_22.txt',\n",
              "  '/content/data/raw_files/document_4.txt',\n",
              "  '/content/data/raw_files/document_46.txt',\n",
              "  '/content/data/raw_files/document_35.txt',\n",
              "  '/content/data/raw_files/document_25.txt',\n",
              "  '/content/data/raw_files/document_14.txt',\n",
              "  '/content/data/raw_files/document_12.txt',\n",
              "  '/content/data/raw_files/document_23.txt',\n",
              "  '/content/data/raw_files/document_13.txt',\n",
              "  '/content/data/raw_files/document_37.txt',\n",
              "  '/content/data/raw_files/document_44.txt',\n",
              "  '/content/data/raw_files/document_9.txt'],\n",
              " 'node_id': 'DocumentStore'}"
            ]
          },
          "metadata": {},
          "execution_count": 10
        }
      ]
    },
    {
      "cell_type": "code",
      "source": [],
      "metadata": {
        "id": "gKgwvh7dEGvM"
      },
      "execution_count": 10,
      "outputs": []
    },
    {
      "cell_type": "code",
      "source": [
        "\"\"\"Instantiate an embedding retriever using a pre-trained model from Hugging Face (e.g., sentence-transformers/multi-qa-mpnet-base-dot-v1)\"\"\"\n",
        "retriever = EmbeddingRetriever(\n",
        "    document_store=document_store, embedding_model=\"sentence-transformers/multi-qa-mpnet-base-dot-v1\"\n",
        ")\n",
        "\"\"\"Update document embeddings in the FAISS document store using the retriever.\"\"\"\n",
        "document_store.update_embeddings(retriever)\n",
        "\n",
        "\"\"\"Create a FARM-based reader using a pre-trained model from Hugging Face (e.g., deepset/roberta-base-squad2).\"\"\"\n",
        "reader = FARMReader(model_name_or_path=\"deepset/roberta-base-squad2\", use_gpu=True)\n",
        "\n",
        "\"\"\"Build a querying pipeline with retriever and reader components.\"\"\"\n",
        "querying_pipeline = Pipeline()\n",
        "querying_pipeline.add_node(component=retriever, name=\"Retriever\", inputs=[\"Query\"])\n",
        "querying_pipeline.add_node(component=reader, name=\"Reader\", inputs=[\"Retriever\"])"
      ],
      "metadata": {
        "colab": {
          "base_uri": "https://localhost:8080/",
          "height": 243,
          "referenced_widgets": [
            "940314af2565498483bfdffcd8ef6543",
            "2fba4be2e9074cf3982bfd66ab4fb41b",
            "42f2cdb3ad5b4da7b77bce4f1ce41757",
            "08cf253834874c9c8c3932adaff8d09d",
            "10d9cf88529c4839b0c5e526d4a03856",
            "de604df734ab4f2ba378094df4f9c7a5",
            "5e7ec2d9333e439f8899812417998073",
            "a46e7bd68ee144d8b47b539c30299a85",
            "ad754f2000774b7494c4e7298d180699",
            "ba9e9175a54745519f1c01682ba02f91",
            "a7b0f71340b04361a0044023e6034e9a"
          ]
        },
        "id": "SyNCoPWjCWgF",
        "outputId": "0c6d70a3-237b-427d-8b7e-6042b44512b3"
      },
      "execution_count": 11,
      "outputs": [
        {
          "output_type": "stream",
          "name": "stderr",
          "text": [
            "/usr/local/lib/python3.10/dist-packages/huggingface_hub/utils/_token.py:88: UserWarning: \n",
            "The secret `HF_TOKEN` does not exist in your Colab secrets.\n",
            "To authenticate with the Hugging Face Hub, create a token in your settings tab (https://huggingface.co/settings/tokens), set it as secret in your Google Colab and restart your session.\n",
            "You will be able to reuse this secret in all of your notebooks.\n",
            "Please note that authentication is recommended but still optional to access public models or datasets.\n",
            "  warnings.warn(\n",
            "/usr/local/lib/python3.10/dist-packages/torch/_utils.py:831: UserWarning: TypedStorage is deprecated. It will be removed in the future and UntypedStorage will be the only storage class. This should only matter to you if you are using storages directly.  To access UntypedStorage directly, use tensor.untyped_storage() instead of tensor.storage()\n",
            "  return self.fget.__get__(instance, owner)()\n",
            "Updating Embedding:   0%|          | 0/126 [00:00<?, ? docs/s]"
          ]
        },
        {
          "output_type": "display_data",
          "data": {
            "text/plain": [
              "Batches:   0%|          | 0/4 [00:00<?, ?it/s]"
            ],
            "application/vnd.jupyter.widget-view+json": {
              "version_major": 2,
              "version_minor": 0,
              "model_id": "940314af2565498483bfdffcd8ef6543"
            }
          },
          "metadata": {}
        },
        {
          "output_type": "stream",
          "name": "stderr",
          "text": [
            "Documents Processed: 10000 docs [03:16, 50.87 docs/s]\n"
          ]
        }
      ]
    },
    {
      "cell_type": "code",
      "source": [
        "# pipe = ExtractiveQAPipeline(reader, retriever)"
      ],
      "metadata": {
        "id": "O1RzGIo-ccx7"
      },
      "execution_count": 12,
      "outputs": []
    },
    {
      "cell_type": "code",
      "source": [
        "\"\"\"Define a sample query and preprocess it for the querying pipeline.\"\"\"\n",
        "query=\"DNA replicates by which of the methods?\"\n",
        "query_dict = {\"text\": query}\n",
        "my_doc = Document(content=query_dict[\"text\"])\n",
        "query_preprocessed = PreProcessor().process(my_doc)[0].to_dict()[\"content\"]\n",
        "query_preprocessed"
      ],
      "metadata": {
        "colab": {
          "base_uri": "https://localhost:8080/",
          "height": 90
        },
        "id": "bVjmKkYbulbH",
        "outputId": "ce43818e-c27f-4f0e-9d01-cf4d1f261c79"
      },
      "execution_count": 13,
      "outputs": [
        {
          "output_type": "stream",
          "name": "stderr",
          "text": [
            "<ipython-input-13-69d44423958b>:5: DeprecationWarning: Using a single Document as argument to the 'documents' parameter is deprecated. Use a list of (a single) Document instead.\n",
            "  query_preprocessed = PreProcessor().process(my_doc)[0].to_dict()[\"content\"]\n"
          ]
        },
        {
          "output_type": "execute_result",
          "data": {
            "text/plain": [
              "'DNA replicates by which of the methods?'"
            ],
            "application/vnd.google.colaboratory.intrinsic+json": {
              "type": "string"
            }
          },
          "metadata": {},
          "execution_count": 13
        }
      ]
    },
    {
      "cell_type": "code",
      "source": [
        "query_preprocessed"
      ],
      "metadata": {
        "colab": {
          "base_uri": "https://localhost:8080/",
          "height": 35
        },
        "id": "UuDkdtHbzH37",
        "outputId": "4a8c8b75-dd1b-44ea-af5a-e7e39f2e055a"
      },
      "execution_count": 14,
      "outputs": [
        {
          "output_type": "execute_result",
          "data": {
            "text/plain": [
              "'DNA replicates by which of the methods?'"
            ],
            "application/vnd.google.colaboratory.intrinsic+json": {
              "type": "string"
            }
          },
          "metadata": {},
          "execution_count": 14
        }
      ]
    },
    {
      "cell_type": "code",
      "source": [
        "\"\"\"Execute the querying pipeline with specified parameters, retrieving relevant answers.\"\"\"\n",
        "\n",
        "prediction = querying_pipeline.run(\n",
        "    query_preprocessed, params={\"Retriever\": {\"top_k\": 5}, \"Reader\": {\"top_k\": 2}}\n",
        ")\n"
      ],
      "metadata": {
        "colab": {
          "base_uri": "https://localhost:8080/",
          "height": 66,
          "referenced_widgets": [
            "81345c40fc9f4f00a82b0d08c6a8d1d1",
            "99a4e171fd1c480ab03f9e0ee545ef5c",
            "12b31a6115964268bc96f42d6cb4826d",
            "5bcc1efbe56f403fa98b830645b83d78",
            "5e9cf6ac0ed5457ba79134775cfc7b8a",
            "1a90bac4ade94b7b9f06a5be77359039",
            "0726c06aef6542a9b9580559ca14e8c1",
            "60fd339012ab49dca6b8df6f115f569d",
            "4aeede6546dd400aba8dd15427e5baad",
            "2523625b43af40cb965d2c70355e37e7",
            "a3805d78cd3c409eaa69b65c67321b60"
          ]
        },
        "id": "6Er2rfM7ce_w",
        "outputId": "92cb9c27-891d-47f7-8d5a-765a1ce88815"
      },
      "execution_count": 15,
      "outputs": [
        {
          "output_type": "display_data",
          "data": {
            "text/plain": [
              "Batches:   0%|          | 0/1 [00:00<?, ?it/s]"
            ],
            "application/vnd.jupyter.widget-view+json": {
              "version_major": 2,
              "version_minor": 0,
              "model_id": "81345c40fc9f4f00a82b0d08c6a8d1d1"
            }
          },
          "metadata": {}
        },
        {
          "output_type": "stream",
          "name": "stderr",
          "text": [
            "Inferencing Samples: 100%|██████████| 1/1 [00:08<00:00,  8.54s/ Batches]\n"
          ]
        }
      ]
    },
    {
      "cell_type": "code",
      "source": [
        "\"\"\"Print the top answer from the prediction results.\"\"\"\n",
        "\n",
        "print_answers(prediction, details=\"minimum\")"
      ],
      "metadata": {
        "colab": {
          "base_uri": "https://localhost:8080/"
        },
        "id": "EZW2wk52clNI",
        "outputId": "04b17bd2-d5d1-4180-e9a4-02f5cad78f34"
      },
      "execution_count": 16,
      "outputs": [
        {
          "output_type": "stream",
          "name": "stdout",
          "text": [
            "'Query: DNA replicates by which of the methods?'\n",
            "'Answers:'\n",
            "[   {   'answer': 'semi-conservative',\n",
            "        'context': '9.2 DNA Replication\\n'\n",
            "                   'DNA replicates by a semi-conservative method in\\n'\n",
            "                   'which each of the two parental DNA strands act as a\\n'\n",
            "                   'template for new DNA to be syn'},\n",
            "    {   'answer': 'initiation, elongation, and termination',\n",
            "        'context': 'mes and other proteins. It occurs in three main stages: '\n",
            "                   'initiation, elongation, and termination.\\n'\n",
            "                   'Recall that eukaryotic DNA is bound to proteins known'}]\n"
          ]
        }
      ]
    },
    {
      "cell_type": "code",
      "source": [
        "prediction[\"answers\"][0].to_dict()[\"answer\"]"
      ],
      "metadata": {
        "colab": {
          "base_uri": "https://localhost:8080/",
          "height": 35
        },
        "id": "jXzH0UyCcsTJ",
        "outputId": "ddd73e8d-3e11-45ef-b325-c119d0cd18a9"
      },
      "execution_count": 17,
      "outputs": [
        {
          "output_type": "execute_result",
          "data": {
            "text/plain": [
              "'semi-conservative'"
            ],
            "application/vnd.google.colaboratory.intrinsic+json": {
              "type": "string"
            }
          },
          "metadata": {},
          "execution_count": 17
        }
      ]
    },
    {
      "cell_type": "code",
      "source": [],
      "metadata": {
        "id": "jtI64yKah1YJ"
      },
      "execution_count": 17,
      "outputs": []
    },
    {
      "cell_type": "markdown",
      "source": [
        "Creating AnswerPredictor function for the prediction"
      ],
      "metadata": {
        "id": "7doxBjdoLyL1"
      }
    },
    {
      "cell_type": "code",
      "source": [
        "class AnswerPredictor:\n",
        "    def __init__(self, qry_pipeline):\n",
        "        self.qry_pipeline = qry_pipeline\n",
        "\n",
        "    def preprocess_query(self, query):\n",
        "        # Preprocess the query using the provided code\n",
        "        my_doc = Document(content=query)\n",
        "        query_preprocessed = PreProcessor().process(my_doc)[0].to_dict()[\"content\"]\n",
        "        return query_preprocessed\n",
        "\n",
        "    def predict_answer(self, query_preprocessed, retriever_params={\"top_k\": 5}, reader_params={\"top_k\": 2}):\n",
        "        # Run the querying pipeline\n",
        "        prediction = self.qry_pipeline.run(\n",
        "            query_preprocessed, params={\"Retriever\": retriever_params, \"Reader\": reader_params}\n",
        "        )\n",
        "        return prediction[\"answers\"][0].to_dict()[\"answer\"]\n",
        "\n",
        "\n",
        "if __name__ == \"__main__\":\n",
        "\n",
        "    existing_pipeline = Pipeline()\n",
        "    existing_pipeline.add_node(component=retriever, name=\"Retriever\", inputs=[\"Query\"])\n",
        "    existing_pipeline.add_node(component=reader, name=\"Reader\", inputs=[\"Retriever\"])\n",
        "\n",
        "    predictor = AnswerPredictor(qry_pipeline=querying_pipeline)\n",
        "\n",
        "    # Get user input for the query\n",
        "    user_query = input(\"Enter your question: \")\n",
        "\n",
        "    # Preprocess the query\n",
        "    preprocessed_query = predictor.preprocess_query(user_query)\n",
        "\n",
        "    # Predict the answer\n",
        "    predicted_answer = predictor.predict_answer(preprocessed_query)\n",
        "\n",
        "    # Display the result\n",
        "    print(\"\\n\\nPredicted Answer:\", predicted_answer)"
      ],
      "metadata": {
        "colab": {
          "base_uri": "https://localhost:8080/",
          "height": 191,
          "referenced_widgets": [
            "0615c5ed013a4b9597695a8175245010",
            "bf17f1be72be410eac9a4f35292835c8",
            "1dd5493fa1b04b6ba6a3ed60860c60d9",
            "7875c5f100b547fda9b0c00bd8da9bbe",
            "a00a5a045175410fbd6d6fc5d10f5546",
            "61a63583532b46b5959c13ba64200e44",
            "583a47d8a8df47f19802e87ce786f42c",
            "eaca36f8a72142d5b42716885ff5f61a",
            "af2e9ce93de4459cbde686fffdeb129c",
            "6382aef268e841db9d196f231240a1ab",
            "f26fb89e1e81405289919b07b6cadd79"
          ]
        },
        "id": "Lt7C5fbOJxE7",
        "outputId": "24504466-d90a-46dd-f5c0-59d2e6c89b8b"
      },
      "execution_count": 18,
      "outputs": [
        {
          "name": "stdout",
          "output_type": "stream",
          "text": [
            "Enter your question: DNA replicates by which of the methods?\n"
          ]
        },
        {
          "output_type": "stream",
          "name": "stderr",
          "text": [
            "<ipython-input-18-33dc5ff67b79>:8: DeprecationWarning: Using a single Document as argument to the 'documents' parameter is deprecated. Use a list of (a single) Document instead.\n",
            "  query_preprocessed = PreProcessor().process(my_doc)[0].to_dict()[\"content\"]\n"
          ]
        },
        {
          "output_type": "display_data",
          "data": {
            "text/plain": [
              "Batches:   0%|          | 0/1 [00:00<?, ?it/s]"
            ],
            "application/vnd.jupyter.widget-view+json": {
              "version_major": 2,
              "version_minor": 0,
              "model_id": "0615c5ed013a4b9597695a8175245010"
            }
          },
          "metadata": {}
        },
        {
          "output_type": "stream",
          "name": "stderr",
          "text": [
            "Inferencing Samples: 100%|██████████| 1/1 [00:08<00:00,  8.88s/ Batches]"
          ]
        },
        {
          "output_type": "stream",
          "name": "stdout",
          "text": [
            "\n",
            "\n",
            "Predicted Answer: semi-conservative\n"
          ]
        },
        {
          "output_type": "stream",
          "name": "stderr",
          "text": [
            "\n"
          ]
        }
      ]
    },
    {
      "cell_type": "markdown",
      "source": [
        "Other experimemnt which are not included in this notebooks include:\n",
        "\n",
        "1. InMemoryDocumentStore\n",
        "2. BM25Retriever"
      ],
      "metadata": {
        "id": "6ELxRoK0IiMA"
      }
    }
  ]
}